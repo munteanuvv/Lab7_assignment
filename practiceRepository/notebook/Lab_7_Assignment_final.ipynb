
<!DOCTYPE html>
<html lang="en">
  <head>
  <meta charset="utf-8">
  <meta content="width=300, initial-scale=1" name="viewport">
  <meta name="description" content="Google Drive is a free way to keep your files backed up and easy to reach from any phone, tablet, or computer. Start with 15GB of Google storage – free.">
  <meta name="google-site-verification" content="LrdTUW9psUAMbh4Ia074-BPEVmcpBxF6Gwf0MSgQXZs">
  <title>Meet Google Drive – One place for all your files</title>
  <style>
  @font-face {
  font-family: 'Open Sans';
  font-style: normal;
  font-weight: 300;
  src: url(//fonts.gstatic.com/s/opensans/v15/mem5YaGs126MiZpBA-UN_r8OUuhs.ttf) format('truetype');
}
@font-face {
  font-family: 'Open Sans';
  font-style: normal;
  font-weight: 400;
  src: url(//fonts.gstatic.com/s/opensans/v15/mem8YaGs126MiZpBA-UFVZ0e.ttf) format('truetype');
}
  </style>
  <style>
  h1, h2 {
  -webkit-animation-duration: 0.1s;
  -webkit-animation-name: fontfix;
  -webkit-animation-iteration-count: 1;
  -webkit-animation-timing-function: linear;
  -webkit-animation-delay: 0;
  }
  @-webkit-keyframes fontfix {
  from {
  opacity: 1;
  }
  to {
  opacity: 1;
  }
  }
  </style>
<style>
  html, body {
  font-family: Arial, sans-serif;
  background: #fff;
  margin: 0;
  padding: 0;
  border: 0;
  position: absolute;
  height: 100%;
  min-width: 100%;
  font-size: 13px;
  color: #404040;
  direction: ltr;
  -webkit-text-size-adjust: none;
  }
  button,
  input[type=button],
  input[type=submit] {
  font-family: Arial, sans-serif;
  font-size: 13px;
  }
  a,
  a:hover,
  a:visited {
  color: #427fed;
  cursor: pointer;
  text-decoration: none;
  }
  a:hover {
  text-decoration: underline;
  }
  h1 {
  font-size: 20px;
  color: #262626;
  margin: 0 0 15px;
  font-weight: normal;
  }
  h2 {
  font-size: 14px;
  color: #262626;
  margin: 0 0 15px;
  font-weight: bold;
  }
  input[type=email],
  input[type=number],
  input[type=password],
  input[type=tel],
  input[type=text],
  input[type=url] {
  -moz-appearance: none;
  -webkit-appearance: none;
  appearance: none;
  display: inline-block;
  height: 36px;
  padding: 0 8px;
  margin: 0;
  background: #fff;
  border: 1px solid #d9d9d9;
  border-top: 1px solid #c0c0c0;
  -moz-box-sizing: border-box;
  -webkit-box-sizing: border-box;
  box-sizing: border-box;
  -moz-border-radius: 1px;
  -webkit-border-radius: 1px;
  border-radius: 1px;
  font-size: 15px;
  color: #404040;
  }
  input[type=email]:hover,
  input[type=number]:hover,
  input[type=password]:hover,
  input[type=tel]:hover,
  input[type=text]:hover,
  input[type=url]:hover {
  border: 1px solid #b9b9b9;
  border-top: 1px solid #a0a0a0;
  -moz-box-shadow: inset 0 1px 2px rgba(0,0,0,0.1);
  -webkit-box-shadow: inset 0 1px 2px rgba(0,0,0,0.1);
  box-shadow: inset 0 1px 2px rgba(0,0,0,0.1);
  }
  input[type=email]:focus,
  input[type=number]:focus,
  input[type=password]:focus,
  input[type=tel]:focus,
  input[type=text]:focus,
  input[type=url]:focus {
  outline: none;
  border: 1px solid #4d90fe;
  -moz-box-shadow: inset 0 1px 2px rgba(0,0,0,0.3);
  -webkit-box-shadow: inset 0 1px 2px rgba(0,0,0,0.3);
  box-shadow: inset 0 1px 2px rgba(0,0,0,0.3);
  }
  input[type=checkbox],
  input[type=radio] {
  -webkit-appearance: none;
  display: inline-block;
  width: 13px;
  height: 13px;
  margin: 0;
  cursor: pointer;
  vertical-align: bottom;
  background: #fff;
  border: 1px solid #c6c6c6;
  -moz-border-radius: 1px;
  -webkit-border-radius: 1px;
  border-radius: 1px;
  -moz-box-sizing: border-box;
  -webkit-box-sizing: border-box;
  box-sizing: border-box;
  position: relative;
  }
  input[type=checkbox]:active,
  input[type=radio]:active {
  background: #ebebeb;
  }
  input[type=checkbox]:hover {
  border-color: #c6c6c6;
  -moz-box-shadow: inset 0 1px 2px rgba(0,0,0,0.1);
  -webkit-box-shadow: inset 0 1px 2px rgba(0,0,0,0.1);
  box-shadow: inset 0 1px 2px rgba(0,0,0,0.1);
  }
  input[type=radio] {
  -moz-border-radius: 1em;
  -webkit-border-radius: 1em;
  border-radius: 1em;
  width: 15px;
  height: 15px;
  }
  input[type=checkbox]:checked,
  input[type=radio]:checked {
  background: #fff;
  }
  input[type=radio]:checked::after {
  content: '';
  display: block;
  position: relative;
  top: 3px;
  left: 3px;
  width: 7px;
  height: 7px;
  background: #666;
  -moz-border-radius: 1em;
  -webkit-border-radius: 1em;
  border-radius: 1em;
  }
  input[type=checkbox]:checked::after {
  content: url(https://ssl.gstatic.com/ui/v1/menu/checkmark.png);
  display: block;
  position: absolute;
  top: -6px;
  left: -5px;
  }
  input[type=checkbox]:focus {
  outline: none;
  border-color: #4d90fe;
  }
  .stacked-label {
  display: block;
  font-weight: bold;
  margin: .5em 0;
  }
  .hidden-label {
  position: absolute !important;
  clip: rect(1px 1px 1px 1px); /* IE6, IE7 */
  clip: rect(1px, 1px, 1px, 1px);
  height: 0px;
  width: 0px;
  overflow: hidden;
  visibility: hidden;
  }
  input[type=checkbox].form-error,
  input[type=email].form-error,
  input[type=number].form-error,
  input[type=password].form-error,
  input[type=text].form-error,
  input[type=tel].form-error,
  input[type=url].form-error {
  border: 1px solid #dd4b39;
  }
  .error-msg {
  margin: .5em 0;
  display: block;
  color: #dd4b39;
  line-height: 17px;
  }
  .help-link {
  background: #dd4b39;
  padding: 0 5px;
  color: #fff;
  font-weight: bold;
  display: inline-block;
  -moz-border-radius: 1em;
  -webkit-border-radius: 1em;
  border-radius: 1em;
  text-decoration: none;
  position: relative;
  top: 0px;
  }
  .help-link:visited {
  color: #fff;
  }
  .help-link:hover {
  color: #fff;
  background: #c03523;
  text-decoration: none;
  }
  .help-link:active {
  opacity: 1;
  background: #ae2817;
  }
  .wrapper {
  position: relative;
  min-height: 100%;
  }
  .content {
  padding: 0 44px;
  }
  .main {
  padding-bottom: 100px;
  }
  /* For modern browsers */
  .clearfix:before,
  .clearfix:after {
  content: "";
  display: table;
  }
  .clearfix:after {
  clear: both;
  }
  /* For IE 6/7 (trigger hasLayout) */
  .clearfix {
  zoom:1;
  }
  .google-header-bar {
  height: 71px;
  border-bottom: 1px solid #e5e5e5;
  overflow: hidden;
  }
  .header .logo {
  background-image: url(https://ssl.gstatic.com/accounts/ui/logo_1x.png);
  background-size: 116px 38px;
  background-repeat: no-repeat;
  margin: 17px 0 0;
  float: left;
  height: 38px;
  width: 116px;
  }
  .header .logo-w {
  background-image: url(https://ssl.gstatic.com/images/branding/googlelogo/1x/googlelogo_color_112x36dp.png);
  background-size: 112px 36px;
  margin: 21px 0 0;
  }
  .header .secondary-link {
  margin: 28px 0 0;
  float: right;
  }
  .header .secondary-link a {
  font-weight: normal;
  }
  .google-header-bar.centered {
  border: 0;
  height: 108px;
  }
  .google-header-bar.centered .header .logo {
  float: none;
  margin: 40px auto 30px;
  display: block;
  }
  .google-header-bar.centered .header .secondary-link {
  display: none
  }
  .google-footer-bar {
  position: absolute;
  bottom: 0;
  height: 35px;
  width: 100%;
  border-top: 1px solid #e5e5e5;
  overflow: hidden;
  }
  .footer {
  padding-top: 7px;
  font-size: .85em;
  white-space: nowrap;
  line-height: 0;
  }
  .footer ul {
  float: left;
  max-width: 80%;
  min-height: 16px;
  padding: 0;
  }
  .footer ul li {
  color: #737373;
  display: inline;
  padding: 0;
  padding-right: 1.5em;
  }
  .footer a {
  color: #737373;
  }
  .lang-chooser-wrap {
  float: right;
  display: inline;
  }
  .lang-chooser-wrap img {
  vertical-align: top;
  }
  .lang-chooser {
  font-size: 13px;
  height: 24px;
  line-height: 24px;
  }
  .lang-chooser option {
  font-size: 13px;
  line-height: 24px;
  }
  .hidden {
  height: 0px;
  width: 0px;
  overflow: hidden;
  visibility: hidden;
  display: none !important;
  }
  .banner {
  text-align: center;
  }
  .card {
  background-color: #f7f7f7;
  padding: 20px 25px 30px;
  margin: 0 auto 25px;
  width: 304px;
  -moz-border-radius: 2px;
  -webkit-border-radius: 2px;
  border-radius: 2px;
  -moz-box-shadow: 0px 2px 2px rgba(0, 0, 0, 0.3);
  -webkit-box-shadow: 0px 2px 2px rgba(0, 0, 0, 0.3);
  box-shadow: 0px 2px 2px rgba(0, 0, 0, 0.3);
  }
  .card > *:first-child {
  margin-top: 0;
  }
  .rc-button,
  .rc-button:visited {
  display: inline-block;
  min-width: 46px;
  text-align: center;
  color: #444;
  font-size: 14px;
  font-weight: 700;
  height: 36px;
  padding: 0 8px;
  line-height: 36px;
  -moz-border-radius: 3px;
  -webkit-border-radius: 3px;
  border-radius: 3px;
  -o-transition: all 0.218s;
  -moz-transition: all 0.218s;
  -webkit-transition: all 0.218s;
  transition: all 0.218s;
  border: 1px solid #dcdcdc;
  background-color: #f5f5f5;
  background-image: -webkit-linear-gradient(top,#f5f5f5,#f1f1f1);
  background-image: -moz-linear-gradient(top,#f5f5f5,#f1f1f1);
  background-image: -ms-linear-gradient(top,#f5f5f5,#f1f1f1);
  background-image: -o-linear-gradient(top,#f5f5f5,#f1f1f1);
  background-image: linear-gradient(top,#f5f5f5,#f1f1f1);
  -o-transition: none;
  -moz-user-select: none;
  -webkit-user-select: none;
  user-select: none;
  cursor: default;
  }
  .card .rc-button {
  width: 100%;
  padding: 0;
  }
  .rc-button.disabled,
  .rc-button[disabled] {
  opacity: .5;
  filter: alpha(opacity=50);
  cursor: default;
  pointer-events: none;
  }
  .rc-button:hover {
  border: 1px solid #c6c6c6;
  color: #333;
  text-decoration: none;
  -o-transition: all 0.0s;
  -moz-transition: all 0.0s;
  -webkit-transition: all 0.0s;
  transition: all 0.0s;
  background-color: #f8f8f8;
  background-image: -webkit-linear-gradient(top,#f8f8f8,#f1f1f1);
  background-image: -moz-linear-gradient(top,#f8f8f8,#f1f1f1);
  background-image: -ms-linear-gradient(top,#f8f8f8,#f1f1f1);
  background-image: -o-linear-gradient(top,#f8f8f8,#f1f1f1);
  background-image: linear-gradient(top,#f8f8f8,#f1f1f1);
  -moz-box-shadow: 0 1px 1px rgba(0,0,0,0.1);
  -webkit-box-shadow: 0 1px 1px rgba(0,0,0,0.1);
  box-shadow: 0 1px 1px rgba(0,0,0,0.1);
  }
  .rc-button:active {
  background-color: #f6f6f6;
  background-image: -webkit-linear-gradient(top,#f6f6f6,#f1f1f1);
  background-image: -moz-linear-gradient(top,#f6f6f6,#f1f1f1);
  background-image: -ms-linear-gradient(top,#f6f6f6,#f1f1f1);
  background-image: -o-linear-gradient(top,#f6f6f6,#f1f1f1);
  background-image: linear-gradient(top,#f6f6f6,#f1f1f1);
  -moz-box-shadow: 0 1px 2px rgba(0,0,0,0.1);
  -webkit-box-shadow: 0 1px 2px rgba(0,0,0,0.1);
  box-shadow: 0 1px 2px rgba(0,0,0,0.1);
  }
  .rc-button-submit,
  .rc-button-submit:visited {
  border: 1px solid #3079ed;
  color: #fff;
  text-shadow: 0 1px rgba(0,0,0,0.1);
  background-color: #4d90fe;
  background-image: -webkit-linear-gradient(top,#4d90fe,#4787ed);
  background-image: -moz-linear-gradient(top,#4d90fe,#4787ed);
  background-image: -ms-linear-gradient(top,#4d90fe,#4787ed);
  background-image: -o-linear-gradient(top,#4d90fe,#4787ed);
  background-image: linear-gradient(top,#4d90fe,#4787ed);
  }
  .rc-button-submit:hover {
  border: 1px solid #2f5bb7;
  color: #fff;
  text-shadow: 0 1px rgba(0,0,0,0.3);
  background-color: #357ae8;
  background-image: -webkit-linear-gradient(top,#4d90fe,#357ae8);
  background-image: -moz-linear-gradient(top,#4d90fe,#357ae8);
  background-image: -ms-linear-gradient(top,#4d90fe,#357ae8);
  background-image: -o-linear-gradient(top,#4d90fe,#357ae8);
  background-image: linear-gradient(top,#4d90fe,#357ae8);
  }
  .rc-button-submit:active {
  background-color: #357ae8;
  background-image: -webkit-linear-gradient(top,#4d90fe,#357ae8);
  background-image: -moz-linear-gradient(top,#4d90fe,#357ae8);
  background-image: -ms-linear-gradient(top,#4d90fe,#357ae8);
  background-image: -o-linear-gradient(top,#4d90fe,#357ae8);
  background-image: linear-gradient(top,#4d90fe,#357ae8);
  -moz-box-shadow: inset 0 1px 2px rgba(0,0,0,0.3);
  -webkit-box-shadow: inset 0 1px 2px rgba(0,0,0,0.3);
  box-shadow: inset 0 1px 2px rgba(0,0,0,0.3);
  }
  .rc-button-red,
  .rc-button-red:visited {
  border: 1px solid transparent;
  color: #fff;
  text-shadow: 0 1px rgba(0,0,0,0.1);
  background-color: #d14836;
  background-image: -webkit-linear-gradient(top,#dd4b39,#d14836);
  background-image: -moz-linear-gradient(top,#dd4b39,#d14836);
  background-image: -ms-linear-gradient(top,#dd4b39,#d14836);
  background-image: -o-linear-gradient(top,#dd4b39,#d14836);
  background-image: linear-gradient(top,#dd4b39,#d14836);
  }
  .rc-button-red:hover {
  border: 1px solid #b0281a;
  color: #fff;
  text-shadow: 0 1px rgba(0,0,0,0.3);
  background-color: #c53727;
  background-image: -webkit-linear-gradient(top,#dd4b39,#c53727);
  background-image: -moz-linear-gradient(top,#dd4b39,#c53727);
  background-image: -ms-linear-gradient(top,#dd4b39,#c53727);
  background-image: -o-linear-gradient(top,#dd4b39,#c53727);
  background-image: linear-gradient(top,#dd4b39,#c53727);
  }
  .rc-button-red:active {
  border: 1px solid #992a1b;
  background-color: #b0281a;
  background-image: -webkit-linear-gradient(top,#dd4b39,#b0281a);
  background-image: -moz-linear-gradient(top,#dd4b39,#b0281a);
  background-image: -ms-linear-gradient(top,#dd4b39,#b0281a);
  background-image: -o-linear-gradient(top,#dd4b39,#b0281a);
  background-image: linear-gradient(top,#dd4b39,#b0281a);
  -moz-box-shadow: inset 0 1px 2px rgba(0,0,0,0.3);
  -webkit-box-shadow: inset 0 1px 2px rgba(0,0,0,0.3);
  box-shadow: inset 0 1px 2px rgba(0,0,0,0.3);
  }
  .secondary-actions {
  text-align: center;
  }
</style>
<style media="screen and (max-width: 800px), screen and (max-height: 800px)">
  .google-header-bar.centered {
  height: 83px;
  }
  .google-header-bar.centered .header .logo {
  margin: 25px auto 20px;
  }
  .card {
  margin-bottom: 20px;
  }
</style>
<style media="screen and (max-width: 580px)">
  html, body {
  font-size: 14px;
  }
  .google-header-bar.centered {
  height: 73px;
  }
  .google-header-bar.centered .header .logo {
  margin: 20px auto 15px;
  }
  .content {
  padding-left: 10px;
  padding-right: 10px;
  }
  .hidden-small {
  display: none;
  }
  .card {
  padding: 20px 15px 30px;
  width: 270px;
  }
  .footer ul li {
  padding-right: 1em;
  }
  .lang-chooser-wrap {
  display: none;
  }
</style>
<style media="screen and (-webkit-min-device-pixel-ratio: 1.5), (min--moz-device-pixel-ratio: 1.5), (-o-min-device-pixel-ratio: 3 / 2), (min-device-pixel-ratio: 1.5)">
  .header .logo {
  background-image: url(https://ssl.gstatic.com/accounts/ui/logo_2x.png);
  }
  .header .logo-w {
  background-image: url(https://ssl.gstatic.com/images/branding/googlelogo/2x/googlelogo_color_112x36dp.png);
  }
</style>
<style>
  pre.debug {
  font-family: monospace;
  position: absolute;
  left: 0;
  margin: 0;
  padding: 1.5em;
  font-size: 13px;
  background: #f1f1f1;
  border-top: 1px solid #e5e5e5;
  direction: ltr;
  white-space: pre-wrap;
  width: 90%;
  overflow: hidden;
  }
</style>
<style>
  .banner h1 {
  font-family: 'Open Sans', arial;
  -webkit-font-smoothing: antialiased;
  color: #555;
  font-size: 42px;
  font-weight: 300;
  margin-top: 0;
  margin-bottom: 20px;
  }
  .banner h2 {
  font-family: 'Open Sans', arial;
  -webkit-font-smoothing: antialiased;
  color: #555;
  font-size: 18px;
  font-weight: 400;
  margin-bottom: 20px;
  }
  .signin-card {
  width: 274px;
  padding: 40px 40px;
  }
  .signin-card .profile-img {
  width: 96px;
  height: 96px;
  margin: 0 auto 10px;
  display: block;
  -moz-border-radius: 50%;
  -webkit-border-radius: 50%;
  border-radius: 50%;
  }
  .signin-card .profile-name {
  font-size: 16px;
  font-weight: bold;
  text-align: center;
  margin: 10px 0 0;
  min-height: 1em;
  }
  .signin-card .profile-email {
  font-size: 16px;
  text-align: center;
  margin: 10px 0 20px 0;
  min-height: 1em;
  }
  .signin-card input[type=email],
  .signin-card input[type=password],
  .signin-card input[type=text],
  .signin-card input[type=submit] {
  width: 100%;
  display: block;
  margin-bottom: 10px;
  z-index: 1;
  position: relative;
  -moz-box-sizing: border-box;
  -webkit-box-sizing: border-box;
  box-sizing: border-box;
  }
  .signin-card #Email,
  .signin-card #Passwd,
  .signin-card .captcha {
  direction: ltr;
  height: 44px;
  font-size: 16px;
  }
  .signin-card #Email + .stacked-label {
  margin-top: 15px;
  }
  .signin-card #reauthEmail {
  display: block;
  margin-bottom: 10px;
  line-height: 36px;
  padding: 0 8px;
  font-size: 15px;
  color: #404040;
  line-height: 2;
  margin-bottom: 10px;
  font-size: 14px;
  text-align: center;
  overflow: hidden;
  text-overflow: ellipsis;
  white-space: nowrap;
  -moz-box-sizing: border-box;
  -webkit-box-sizing: border-box;
  box-sizing: border-box;
  }
  .one-google p {
  margin: 0 0 10px;
  color: #555;
  font-size: 14px;
  text-align: center;
  }
  .one-google p.create-account,
  .one-google p.switch-account {
  margin-bottom: 60px;
  }
  .one-google .logo-strip {
  background-repeat: no-repeat;
  display: block;
  margin: 10px auto;
  background-image: url(https://ssl.gstatic.com/accounts/ui/wlogostrip_230x17_1x.png);
  background-size: 230px 17px;
  width: 230px;
  height: 17px;
  }
</style>
<style media="screen and (max-width: 800px), screen and (max-height: 800px)">
  .banner h1 {
  font-size: 38px;
  margin-bottom: 15px;
  }
  .banner h2 {
  margin-bottom: 15px;
  }
  .one-google p.create-account,
  .one-google p.switch-account {
  margin-bottom: 30px;
  }
  .signin-card #Email {
  margin-bottom: 0;
  }
  .signin-card #Passwd {
  margin-top: -1px;
  }
  .signin-card #Email.form-error,
  .signin-card #Passwd.form-error {
  z-index: 2;
  }
  .signin-card #Email:hover,
  .signin-card #Email:focus,
  .signin-card #Passwd:hover,
  .signin-card #Passwd:focus {
  z-index: 3;
  }
</style>
<style media="screen and (max-width: 580px)">
  .banner h1 {
  font-size: 22px;
  margin-bottom: 15px;
  }
  .signin-card {
  width: 260px;
  padding: 20px 20px;
  margin: 0 auto 20px;
  }
  .signin-card .profile-img {
  width: 72px;
  height: 72px;
  -moz-border-radius: 72px;
  -webkit-border-radius: 72px;
  border-radius: 72px;
  }
</style>
<style media="screen and (-webkit-min-device-pixel-ratio: 1.5), (min--moz-device-pixel-ratio: 1.5), (-o-min-device-pixel-ratio: 3 / 2), (min-device-pixel-ratio: 1.5)">
  .one-google .logo-strip {
  background-image: url(https://ssl.gstatic.com/accounts/ui/wlogostrip_230x17_2x.png);
  }
</style>
<style>
  .remember .bubble-wrap {
  position: absolute;
  padding-top: 3px;
  -o-transition: opacity .218s ease-in .218s;
  -moz-transition: opacity .218s ease-in .218s;
  -webkit-transition: opacity .218s ease-in .218s;
  transition: opacity .218s ease-in .218s;
  left: -999em;
  opacity: 0;
  width: 314px;
  margin-left: -20px;
  }
  .remember:hover .bubble-wrap,
  .remember input:focus ~ .bubble-wrap,
  .remember .bubble-wrap:hover,
  .remember .bubble-wrap:focus {
  opacity: 1;
  left: inherit;
  }
  .bubble-pointer {
  border-left: 10px solid transparent;
  border-right: 10px solid transparent;
  border-bottom: 10px solid #fff;
  width: 0;
  height: 0;
  margin-left: 17px;
  }
  .bubble {
  background-color: #fff;
  padding: 15px;
  margin-top: -1px;
  font-size: 11px;
  -moz-border-radius: 2px;
  -webkit-border-radius: 2px;
  border-radius: 2px;
  -moz-box-shadow: 0px 2px 2px rgba(0, 0, 0, 0.3);
  -webkit-box-shadow: 0px 2px 2px rgba(0, 0, 0, 0.3);
  box-shadow: 0px 2px 2px rgba(0, 0, 0, 0.3);
  }
  #stay-signed-in {
  float: left;
  }
  #stay-signed-in-tooltip {
  left: auto;
  margin-left: -20px;
  padding-top: 3px;
  position: absolute;
  top: 0;
  visibility: hidden;
  width: 314px;
  z-index: 1;
  }
  .dasher-tooltip {
  top: 380px;
  }
</style>
<style media="screen and (max-width: 800px), screen and (max-height: 800px)">
  .dasher-tooltip {
  top: 340px;
  }
</style>
<style>
  .jfk-tooltip {
  background-color: #fff;
  border: 1px solid;
  color: #737373;
  font-size: 12px;
  position: absolute;
  z-index: 800 !important;
  border-color: #bbb #bbb #a8a8a8;
  padding: 16px;
  width: 250px;
  }
 .jfk-tooltip h3 {
  color: #555;
  font-size: 12px;
  margin: 0 0 .5em;
  }
 .jfk-tooltip-content p:last-child {
  margin-bottom: 0;
  }
  .jfk-tooltip-arrow {
  position: absolute;
  }
  .jfk-tooltip-arrow .jfk-tooltip-arrowimplbefore,
  .jfk-tooltip-arrow .jfk-tooltip-arrowimplafter {
  display: block;
  height: 0;
  position: absolute;
  width: 0;
  }
  .jfk-tooltip-arrow .jfk-tooltip-arrowimplbefore {
  border: 9px solid;
  }
  .jfk-tooltip-arrow .jfk-tooltip-arrowimplafter {
  border: 8px solid;
  }
  .jfk-tooltip-arrowdown {
  bottom: 0;
  }
  .jfk-tooltip-arrowup {
  top: -9px;
  }
  .jfk-tooltip-arrowleft {
  left: -9px;
  top: 30px;
  }
  .jfk-tooltip-arrowright {
  right: 0;
  top: 30px;
  }
  .jfk-tooltip-arrowdown .jfk-tooltip-arrowimplbefore,.jfk-tooltip-arrowup .jfk-tooltip-arrowimplbefore {
  border-color: #bbb transparent;
  left: -9px;
  }
  .jfk-tooltip-arrowdown .jfk-tooltip-arrowimplbefore {
  border-color: #a8a8a8 transparent;
  }
  .jfk-tooltip-arrowdown .jfk-tooltip-arrowimplafter,.jfk-tooltip-arrowup .jfk-tooltip-arrowimplafter {
  border-color: #fff transparent;
  left: -8px;
  }
  .jfk-tooltip-arrowdown .jfk-tooltip-arrowimplbefore {
  border-bottom-width: 0;
  }
  .jfk-tooltip-arrowdown .jfk-tooltip-arrowimplafter {
  border-bottom-width: 0;
  }
  .jfk-tooltip-arrowup .jfk-tooltip-arrowimplbefore {
  border-top-width: 0;
  }
  .jfk-tooltip-arrowup .jfk-tooltip-arrowimplafter {
  border-top-width: 0;
  top: 1px;
  }
  .jfk-tooltip-arrowleft .jfk-tooltip-arrowimplbefore,
  .jfk-tooltip-arrowright .jfk-tooltip-arrowimplbefore {
  border-color: transparent #bbb;
  top: -9px;
  }
  .jfk-tooltip-arrowleft .jfk-tooltip-arrowimplafter,
  .jfk-tooltip-arrowright .jfk-tooltip-arrowimplafter {
  border-color:transparent #fff;
  top:-8px;
  }
  .jfk-tooltip-arrowleft .jfk-tooltip-arrowimplbefore {
  border-left-width: 0;
  }
  .jfk-tooltip-arrowleft .jfk-tooltip-arrowimplafter {
  border-left-width: 0;
  left: 1px;
  }
  .jfk-tooltip-arrowright .jfk-tooltip-arrowimplbefore {
  border-right-width: 0;
  }
  .jfk-tooltip-arrowright .jfk-tooltip-arrowimplafter {
  border-right-width: 0;
  }
  .jfk-tooltip-closebtn {
  background: url("//ssl.gstatic.com/ui/v1/icons/common/x_8px.png") no-repeat;
  border: 1px solid transparent;
  height: 21px;
  opacity: .4;
  outline: 0;
  position: absolute;
  right: 2px;
  top: 2px;
  width: 21px;
  }
  .jfk-tooltip-closebtn:focus,
  .jfk-tooltip-closebtn:hover {
  opacity: .8;
  cursor: pointer;
  }
  .jfk-tooltip-closebtn:focus {
  border-color: #4d90fe;
  }
</style>
<style media="screen and (max-width: 580px)">
  .jfk-tooltip {
  display: none;
  }
</style>
<style type="text/css">
.captcha-box {
  background: #fff;
  margin: 0 0 10px;
  overflow: hidden;
  padding: 10px;
}
.captcha-box .captcha-img {
  text-align: center;
}
.captcha-box .captcha-label {
  font-weight: bold;
  display: block;
  margin: .5em 0;
}
.captcha-box .captcha-msg {
  color: #999;
  display: block;
  position: relative;
}
.captcha-box .captcha-msg .accessibility-logo {
  float: right;
  border: 0;
}
.captcha-box .audio-box {
  position: absolute;
  top: 0;
}
</style>
<style>
.chromiumsync-custom-content {
  padding-top: 20px;
  margin-bottom: 0;
}
.form-panel {
  -webkit-box-sizing: border-box;
  box-sizing: border-box;
  -webkit-transform: translateZ(0);
  -moz-transform: translateZ(0);
  -ms-transform: translateZ(0);
  -o-transform: translateZ(0);
  transform: translateZ(0);
  width: 100%;
}
.form-panel.first {
  z-index: 2;
}
.form-panel.second {
  z-index: 1;
}
.shift-form .form-panel.first {
  z-index: 1;
}
.shift-form .form-panel.second {
  z-index: 2;
}
.slide-in,
.slide-out {
  display: block;
  -webkit-transition-property: -webkit-transform, opacity;
  -moz-transition-property: -moz-transform, opacity;
  -ms-transition-property: -ms-transform, opacity;
  -o-transition-property: -o-transform, opacity;
  transition-property: transform, opacity;
  -webkit-transition-duration: 0.1s;
  -moz-transition-duration: 0.1s;
  -ms-transition-duration: 0.1s;
  -o-transition-duration: 0.1s;
  transition-duration: 0.1s;
  -webkit-transition-timing-function: cubic-bezier(0.4, 0, 0.2, 1);
  -moz-transition-timing-function: cubic-bezier(0.4, 0, 0.2, 1);
  -ms-transition-timing-function: cubic-bezier(0.4, 0, 0.2, 1);
  -o-transition-timing-function: cubic-bezier(0.4, 0, 0.2, 1);
  transition-timing-function: cubic-bezier(0.4, 0, 0.2, 1);
}
.slide-out {
  -webkit-transform: translate3d(0, 0, 0);
  -moz-transform: translate3d(0, 0, 0);
  -ms-transform: translate3d(0, 0, 0);
  -o-transform: translate3d(0, 0, 0);
  transform: translate3d(0, 0, 0);
}
.shift-form .slide-out {
  opacity: 0;
  -webkit-transform: translate3d(-120%, 0, 0);
  -moz-transform: translate3d(-120%, 0, 0);
  -ms-transform: translate3d(-120%, 0, 0);
  -o-transform: translate3d(-120%, 0, 0);
  transform: translate3d(-120%, 0, 0);
}
.slide-in {
  -webkit-transform: translate3d(120%, 0, 0);
  -moz-transform: translate3d(120%, 0, 0);
  -ms-transform: translate3d(120%, 0, 0);
  -o-transform: translate3d(120%, 0, 0);
  transform: translate3d(120%, 0, 0);
}
.shift-form .slide-in {
  opacity: 1;
  -webkit-transform: translate3d(0, 0, 0);
  -moz-transform: translate3d(0, 0, 0);
  -ms-transform: translate3d(0, 0, 0);
  -o-transform: translate3d(0, 0, 0);
  transform: translate3d(0, 0, 0);
}
.error-msg {
  -webkit-transition: max-height 0.3s, opacity 0.3s 0s steps(10, end);
  -moz-transition: max-height 0.3s, opacity 0.3s 0s steps(10, end);
  -ms-transition: max-height 0.3s, opacity 0.3s 0s steps(10, end);
  -o-transition: max-height 0.3s, opacity 0.3s 0s steps(10, end);
  transition: max-height 0.3s, opacity 0.3s 0s steps(10, end);
  height: auto;
  max-height: 0;
  opacity: 0;
}
.has-error .error-msg {
  max-height: 3.5em;
  margin-top: 10px;
  margin-bottom: 10px;
  opacity: 1;
  visibility: visible;
}
.back-arrow {
  position: absolute;
  top: 37px;
  width: 24px;
  height: 24px;
  display: none;
  cursor: pointer;
}
.back-arrow {
  border-style: none;
}
.shift-form.back-arrow {
  display: block;
}
.back-arrow img {
  display: block;
}
#link-signup {
  text-align: center;
  font-size: 14px;
}
.shift-form #link-signup{
  display: none;
}
#link-signin-different {
  display: none;
  text-align: center;
  font-size: 14px;
}
.shift-form #link-signin-different {
  display: block;
}
.signin-card #profile-name {
  font-size: 16px;
  font-weight: bold;
  text-align: center;
  margin: 0;
  min-height: 1em;
}
.signin-card.no-name #profile-name {
  display: none;
}
.signin-card.no-name #email-display {
  line-height: initial;
  margin-bottom: 16px;
}
.signin-card #email-display {
  display: block;
  padding: 0px 8px;
  color: rgb(64, 64, 64);
  line-height: 2;
  margin-bottom: 10px;
  font-size: 14px;
  text-align: center;
  overflow: hidden;
  text-overflow: ellipsis;
  white-space: nowrap;
  -moz-box-sizing: border-box;
  -webkit-box-sizing: border-box;
  box-sizing: border-box;
}
.signin-card #Email {
  margin-top: 16px;
}
.need-help {
  float: right;
  text-align: right;
}
.form-panel {
  width: 274px;
}
#gaia_firstform {
  z-index: 2;
}
.signin-card {
  position: relative;
  overflow: hidden;
}
.signin-card #profile-name {
  color: #000;
}
.circle-mask {
  display: block;
  height: 96px;
  width: 96px;
  overflow: hidden;
  border-radius: 50%;
  margin-left: auto;
  margin-right: auto;
  z-index: 100;
  margin-bottom: 10px;
}
.circle {
  -webkit-transition-property: -webkit-transform;
  -moz-transition-property: -moz-transform;
  -ms-transition-property: -ms-transform;
  -o-transition-property: -o-transform;
  transition-property: transform;
  -webkit-transition-timing-function: cubic-bezier(.645,.045,.355,1);
  -moz-transition-timing-function: cubic-bezier(.645,.045,.355,1);
  -ms-transition-timing-function: cubic-bezier(.645,.045,.355,1);
  -o-transition-timing-function: cubic-bezier(.645,.045,.355,1);
  transition-timing-function: cubic-bezier(.645,.045,.355,1);
}
.circle {
  position: absolute;
  z-index: 101;
  height: 96px;
  width: 96px;
  border-radius: 50%;
  opacity: 0.99;
  overflow: hidden;
  background-repeat: no-repeat;
  background-position: center center;
}
.main {
  overflow: hidden;
}
.card-mask-wrap {
  position: relative;
  width: 360px;
  margin: 0 auto;
  z-index: 1;
}
.dasher-tooltip {
  position: absolute;
  left: 50%;
  margin-left: 150px;
}
.dasher-tooltip .tooltip-pointer {
  margin-top: 15px;
}
.dasher-tooltip p {
  margin-top: 0;
}
.dasher-tooltip p span {
  display: block;
}
.card {
  margin-bottom: 0;
}
.one-google {
  padding-top: 27px;
}
#canvas {
  -webkit-transition: opacity 0.075s;
  -moz-transition: opacity 0.075s;
  -ms-transition: opacity 0.075s;
  -o-transition: opacity 0.075s;
  transition: opacity 0.075s;
  opacity: 0.01;
}
.shift-form #canvas {
  opacity: 0.99;
}
.label {
  color: #404040;
}
#account-chooser-link {
  -webkit-transition: opacity 0.3s;
  -moz-transition: opacity 0.3s;
  -ms-transition: opacity 0.3s;
  -o-transition: opacity 0.3s;
  transition: opacity 0.3s;
}
.input-wrapper {
  position: relative;
}
.google-footer-bar {
  z-index: 2;
}
</style>
<style media="screen and (max-width: 580px)">
.back-arrow {
  top: 17px;
}
.circle-mask {
  height: 72px;
  width: 72px;
  background-size: 72px;
}
.circle {
  height: 72px;
  width: 72px;
}
#canvas {
  height: 72px;
  width: 72px;
}
.form-panel {
  width: 256px;
}
.card-mask-wrap {
  width: 300px;
}
.signin-card {
  width: 256px;
}
.signin-card #EmailFirst {
  margin-top: 15px;
}
.one-google {
  padding-top: 22px;
}
</style>
  </head>
  <body>
  <div class="wrapper">
  <div class="google-header-bar  centered">
  <div class="header content clearfix">
  <div class="logo logo-w" aria-label="Google"></div>
  </div>
  </div>
  <div class="main content clearfix">
<div class="banner">
<h1>
  One account. All of Google.
</h1>
  <h2 class="hidden-small">
  Sign in to continue to Google Drive
  </h2>
</div>
<div class="main-content 
  
    no-name
  
  
  
">
<div class="card signin-card pre-shift
  
  
   no-name">
  <img class="circle-mask"
    
      src="https://ssl.gstatic.com/accounts/ui/avatar_2x.png"
    >
  <form novalidate method="post" action="https://accounts.google.com/signin/v1/lookup" id="gaia_loginform">
  <input name="Page" type="hidden" value="PasswordSeparationSignIn">
  <input type="hidden" name="" value="">
  <input type="hidden" name="gxf" value="AFoagUVzG8I9gNDnxdh365DnmHR-F1SGxg:1642970736247">
  <input type="hidden" name="ifkv" value="AU9NCcwJ-KDs4A5SanEbnrUx5V0fHzIBgUtxP4k803uQIyuhJ21tskOEvhHiR6cMJqGvPi_YLxzt">
  <input type="hidden" name="continue" value="https://drive.google.com/file/d/1ljHTScIl7iYAd3UjdnGQF3y5I9GQ2RrR/view?usp=sharing">
  <input type="hidden" name="followup" value="https://drive.google.com/file/d/1ljHTScIl7iYAd3UjdnGQF3y5I9GQ2RrR/view?usp=sharing">
  <input type="hidden" name="service" value="wise">
  <input id="profile-information" name="ProfileInformation" type="hidden" value="">
  <input id="session-state" name="SessionState" type="hidden" value="AEThLlzRF9iAPJ1hrHjJniUOZA8c0n77EI4AzFDpXwvyjkpVQkkfF8-0BOxghG8t568r-f0dzNAuGcSUgDgHwv_8goBpe-8Vns--v0XqrxLumbr0a9YfNwfuQjOYeE4eI7avCYI-y3fh8i8WW1oRzMSGn3o9KNvjZ1XUALl99AOdDy5LmKlwAJ5dsHSdX0b5EHwgbdkmIXyS">
  <input name="flowName" type="hidden" value="WEB_SETUP_GLIF">
  <input type="hidden" id="_utf8" name="_utf8" value="&#9731;"/>
  <input type="hidden" name="bgresponse" id="bgresponse" value="js_disabled">
  <div class="form-panel first valid" id="gaia_firstform">
  <div class="slide-out">
  <div class="input-wrapper focused">
  <div id="identifier-shown">
  <div>
  <label class="hidden-label" for="Email">
  Enter your email</label>
  <input id="Email" type="email" value="" spellcheck="false"
                   name="Email"
                   
                     placeholder="Email or phone"
                   
                   
                   
                   >
  <input id="Passwd-hidden" type="password" spellcheck="false" class="hidden">
  </div>
  </div>
  <span role="alert" class="error-msg" id="errormsg_0_Email"></span>
  </div>
<input id="next" name="signIn" class="rc-button rc-button-submit" type="submit" value="Next">
  <a class="need-help"
          href="https://accounts.google.com/signin/usernamerecovery?continue=https%3A%2F%2Fdrive.google.com%2Ffile%2Fd%2F1ljHTScIl7iYAd3UjdnGQF3y5I9GQ2RrR%2Fview%3Fusp%3Dsharing&amp;service=wise&amp;hl=en">
  Find my account
  </a>
  </div>
  </div>
  </form>
</div>
  <div class="card-mask-wrap
        
     no-name">
  <div class="card-mask">
  <div class="one-google">
  <p class="create-account">
  <span id="link-signin-different">
  <a href="https://accounts.google.com/AccountChooser?continue=https%3A%2F%2Fdrive.google.com%2Ffile%2Fd%2F1ljHTScIl7iYAd3UjdnGQF3y5I9GQ2RrR%2Fview%3Fusp%3Dsharing&amp;followup=https%3A%2F%2Fdrive.google.com%2Ffile%2Fd%2F1ljHTScIl7iYAd3UjdnGQF3y5I9GQ2RrR%2Fview%3Fusp%3Dsharing&amp;service=wise">
  Sign in with a different account
  </a>
  </span>
  <span id="link-signup">
  <a href="https://accounts.google.com/SignUp?service=wise&amp;continue=https%3A%2F%2Fdrive.google.com%2Ffile%2Fd%2F1ljHTScIl7iYAd3UjdnGQF3y5I9GQ2RrR%2Fview%3Fusp%3Dsharing">
  Create account
  </a>
  </span>
  </p>
<p class="tagline">
  One Google Account for everything Google
</p>
<div class="logo-strip"></div>
  </div>
  </div>
  </div>
</div>
  </div>
  <div class="google-footer-bar">
  <div class="footer content clearfix">
  <ul id="footer-list">
  <li>
  <a href="https://www.google.com/intl/en/about" target="_blank">
  About Google
  </a>
  </li>
  <li>
  <a href="https://accounts.google.com/TOS?loc=US&hl=en&privacy=true" target="_blank">
  Privacy
  </a>
  </li>
  <li>
  <a href="https://accounts.google.com/TOS?loc=US&hl=en" target="_blank">
  Terms
  </a>
  </li>
  <li>
  <a href="http://www.google.com/support/accounts?hl=en" target="_blank">
  Help
  </a>
  </li>
  </ul>
  </div>
</div>
  </div>
<script type="text/javascript" nonce="FgIn3Aju47N1l2igKRwADQ">
  var gaia_attachEvent = function(element, event, callback) {
  if (element && element.addEventListener) {
  element.addEventListener(event, callback, false);
  } else if (element && element.attachEvent) {
  element.attachEvent('on' + event, callback);
  }
  };
  (function() {
  var gaia_hideNavBar = function() {
  setTimeout(function() {
  window.scrollTo(0, 1);
  }, 0);
  };
  gaia_attachEvent(window, 'load', gaia_hideNavBar);
  })();
</script>
  <script type="text/javascript" nonce="FgIn3Aju47N1l2igKRwADQ">(function(){function S(l){return l}var p=this||self,J=function(l){return S.call(this,l)},D=function(l,y,a,c,k){if(!(c=(k=p.trustedTypes,a),k)||!k.createPolicy)return c;try{c=k.createPolicy(y,{createHTML:J,createScript:J,createScriptURL:J})}catch(C){if(p.console)p.console[l](C.message)}return c};(0,eval)(function(l,y){return(y=D("error","tl",null))&&1===l.eval(y.createScript("1"))?function(a){return y.createScript(a)}:function(a){return""+a}}(p)(Array(7824*Math.random()|0).join("\n")+'(function(){var R=function(l,k,y,c,S,p,a,J,C,D,W){if(!((k^218)%9)){for(D=(C=(a=0,[]),0);D<l.length;D++)for(a+=y,S=(c=S<<y,p=l[D],2*(c|0)+~c-(c|~p));7<a;)a-=8,C.push((J=S>>a,(J|255)-(J&-256)-(~J&255)));W=C}if(2==((3==(1==((k^146)&3)&&(m.call(this),l||l_||(l_=new ya),this.tc=this.LQ=null,this.s9=void 0,this.kK=null,this.qn=false,this.FQ=this.VG=null),k+5&7)&&(y.h=((y.h?y.h+l:"E:")+c.message+":"+c.stack).slice(0,2048)),k^138)&15))a:{switch(a){case c:W=p?"disable":"enable";break a;case 2:W=p?"highlight":"unhighlight";break a;case S:W=p?"activate":"deactivate";break a;case 8:W=p?"select":"unselect";break a;case y:W=p?"check":"uncheck";break a;case l:W=p?"focus":"blur";break a;case 64:W=p?"open":"close";break a}throw Error("Invalid component state");}return W},C2=function(l,k,y,c,S,p,a,J,C,D,W,B){return(y+5)%(y+3&14||(l=function(){return k()},k=function(){return c},l[this.G]=function(X){c=X},B=l),(y^603)&7||(S=this,a={},l=function(X,f){return(f=p.call(S,[o$]),k)[X%9352*c%9352*35*(f|0)%9352*c%9352]},p=S.H,l[S.G]=function(X){a[2520*c%9352]=X},l[S.G](k),k=a,B=l),15)||(B=D=function(){if(a.D==a){if(a.g){var X=[ki,S,l,void 0,J,C,arguments];if(p==k)var f=(O(86,0,a,X),p2)(true,a,c,c,false);else if(1==p){var A=!a.F.length;(O(38,0,a,X),A)&&p2(true,a,c,c,false)}else f=JI(a,X,2,6);return f}J&&C&&J.removeEventListener(C,D,c)}}),(y<<1)%6||(B=(W=(J=(a=S[l]<<24,D=S[2*(l|1)- -2+(l|-2)+(~l|1)]<<c,-~D+2*(~a&D)+2*(a|~D)-(~a|D)),C=S[(l|0)+2]<<k,-~(J&C)-1+(J^C)),p=S[(l|0)+3],(p|0)-~(W&p)+~p+(W^p))),B},WF=function(l,k,y,c,S,p,a,J){return 2==(k>>(2==(k>>1&7)&&(p=c.type,p in S.W&&Ds(85,24,1,S.W[p],c)&&(h(32,true,c),S.W[p].length==y&&(delete S.W[p],S.P--))),2)&l||(this.fQ=this.fQ),k+5&l||(J=y&&y.parentNode?y.parentNode.removeChild(y):null),k+9&l)&&(L.call(this,y?y.type:""),this.relatedTarget=this.currentTarget=this.target=null,this.button=this.screenY=this.screenX=this.clientY=this.clientX=this.offsetY=this.offsetX=0,this.key="",this.charCode=this.keyCode=0,this.metaKey=this.shiftKey=this.altKey=this.ctrlKey=false,this.state=null,this.pointerId=0,this.pointerType="",this.K=null,y&&(a=this.type=y.type,S=y.changedTouches&&y.changedTouches.length?y.changedTouches[0]:null,this.target=y.target||y.srcElement,this.currentTarget=c,p=y.relatedTarget,p||("mouseover"==a?p=y.fromElement:"mouseout"==a&&(p=y.toElement)),this.relatedTarget=p,S?(this.clientX=void 0!==S.clientX?S.clientX:S.pageX,this.clientY=void 0!==S.clientY?S.clientY:S.pageY,this.screenX=S.screenX||0,this.screenY=S.screenY||0):(this.offsetX=y.offsetX,this.offsetY=y.offsetY,this.clientX=void 0!==y.clientX?y.clientX:y.pageX,this.clientY=void 0!==y.clientY?y.clientY:y.pageY,this.screenX=y.screenX||0,this.screenY=y.screenY||0),this.button=y.button,this.keyCode=y.keyCode||0,this.key=y.key||"",this.charCode=y.charCode||("keypress"==a?y.keyCode:0),this.ctrlKey=y.ctrlKey,this.altKey=y.altKey,this.shiftKey=y.shiftKey,this.metaKey=y.metaKey,this.pointerId=y.pointerId||0,this.pointerType="string"===typeof y.pointerType?y.pointerType:$i[y.pointerType]||"",this.state=y.state,this.K=y,y.defaultPrevented&&T.A.preventDefault.call(this))),J},x=function(l,k,y,c,S,p,a,J){if(!((k^(k<<1&14||(a=function(){},a.prototype=c.prototype,y.A=c.prototype,y.prototype=new a,y.prototype.constructor=y,y.Md=function(C,D,W){for(var B=Array(arguments.length-l),X=l;X<arguments.length;X++)B[X-l]=arguments[X];return c.prototype[D].apply(C,B)}),318))%10))if(p=y.length,p>l){for(S=(c=Array(p),l);S<p;S++)c[S]=y[S];J=c}else J=[];return k+7&(3==(k>>1&7)&&(this.src=l,this.P=0,this.W={}),15)||(J=!!(S=c.N,-(S|y)-l*~(S|y)+(S^y)+l*(~S^y))),J},O=function(l,k,y,c,S,p,a,J){return(((l<<2)%20||(p=y,p^=p<<13,p=(a=p>>17,~p-~(p|a)+(p&~a)),p=(S=p<<5,-(p|0)+(S|0)+2*(p&~S)),(p&=c)||(p=1),J=k^p),(l^742)&7||y.F.splice(k,k,c),4)==(l<<2&15)&&(y.O9(function(C){S=C},k,c),J=S),(l^126)&13||(J=Math.floor(this.M())),l>>1)%8||(k(function(C){C(y)}),J=[function(){return y}]),J},R$=function(l,k,y,c,S,p,a,J,C,D,W,B,X,f){if(!(l-7&3)){if(!C)throw Error("Invalid event type");if(!(W=((X=g(13,(D=E(3,y,S)?!!S.capture:!!S,26),c))||(c[BF]=X=new G(c)),X.add(C,J,a,D,p)),W).proxy){if((W.proxy=(B=XM(0,3),B),B.src=c,B).listener=W,c.addEventListener)jW||(S=D),void 0===S&&(S=k),c.addEventListener(C.toString(),B,S);else if(c.attachEvent)c.attachEvent(d(13,"on",C.toString()),B);else if(c.addListener&&c.removeListener)c.addListener(B);else throw Error("addEventListener and attachEvent are unavailable.");mD++}}return(l^494)&3||(f=Math.floor(this.xK+(this.M()-this.W4))),f},XM=function(l,k,y,c,S,p,a,J){return k<<1&(1==((k^290)&7)&&(y=OF,J=c=function(C){return y.call(c.src,c.listener,C)}),7)||(S=function(){},a=void 0,p=f2(y,function(C){S&&(c&&AI(c),a=C,S(),S=void 0)},!!c)[l],J={low:function(C,D,W,B,X,f){if(!D)return B=p(W),C&&C(B),B;(f=function(){a(function(A){AI(function(){C(A)})},W)},a)?f():(X=S,S=function(){(X(),AI)(f)})}}),J},h=function(l,k,y,c,S,p,a,J,C,D,W,B,X){if(3==(((l-7)%5||(y.L=k,y.listener=null,y.proxy=null,y.src=null,y.DB=null),l>>2)&3)){for(J=S=0;S<k.length;S++)J+=k.charCodeAt(S),J+=J<<10,J^=J>>6;(a=new (p=(J+=J<<3,J^=J>>11,J+(J<<15)>>>0),Number)(p&(C=1<<y,2+(C^1)+2*(C|-2))),a)[0]=(p>>>y)%c,X=a}if(1==(l>>2&15))if(Array.isArray(p))for(C=k;C<p.length;C++)h(5,0,"object",c,S,p[C],a,J);else W=E(23,y,S)?!!S.capture:!!S,c=hI(432,13,c),J&&J[u_]?J.V.remove(String(p),c,W,a):J&&(B=g(13,52,J))&&(D=B.B4(W,a,c,p))&&E(7,null,"on",D);return X},z$=function(l,k,y,c,S,p,a,J,C){return 2==((k|((k^989)%7||(y.L?a=true:(S=new T(c,this),p=y.DB||y.src,J=y.listener,y.Z&&E(6,null,l,y),a=J.call(p,S)),C=a),4))&3)&&(typeof c.className==y?c.className=S:c.setAttribute&&c.setAttribute("class",S)),C},L2=function(l,k,y,c,S,p,a,J,C,D){if(!((y-7)%13)){if(p=window.btoa){for(a=(S="",0);a<k.length;a+=8192)S+=String.fromCharCode.apply(null,k.slice(a,a+8192));c=p(S).replace(/\\+/g,"-").replace(/\\//g,"_").replace(/=/g,"")}else c=void 0;D=c}if(2==((y^691)%16||(this.type=k,this.currentTarget=this.target=c,this.defaultPrevented=this.s=false),y>>2&11))a:{for(J=k;J<p.length;++J)if(C=p[J],!C.L&&C.listener==a&&C.capture==!!S&&C.DB==c){D=J;break a}D=-1}return(y<<l)%18||(D=(p=Y[k.substring(0,3)+"_"])?p(k.substring(3),c,S):O(16,c,k)),D},Ds=function(l,k,y,c,S,p,a,J){return(k^(1==(k>>1&7)&&(this.D=y),424))%8||(a=I(l,0,S,c),(p=0<=a)&&Array.prototype.splice.call(c,a,y),J=p),J},E=function(l,k,y,c,S,p,a,J,C){if(!((l<<((l+(3==(l>>1&15)&&"number"!==typeof c&&c&&!c.L&&((S=c.src)&&S[u_]?WF(15,20,0,c,S.V):(a=c.proxy,p=c.type,S.removeEventListener?S.removeEventListener(p,a,c.capture):S.detachEvent?S.detachEvent(d(9,y,p),a):S.addListener&&S.removeListener&&S.removeListener(a),mD--,(J=g(13,27,S))?(WF(15,5,0,c,J),0==J.P&&(J.src=k,S[BF]=k)):h(17,true,c))),7))%5||(c=typeof y,C=c==k&&null!=y||"function"==c),1))%8))for(a=S.length,J="string"===typeof S?S.split(k):S,p=y;p<a;p++)p in J&&c.call(void 0,J[p],p,S);return 1==((l^684)&7)&&V.call(this,k,y||T$.j(),c),C},g=function(l,k,y,c,S,p,a,J,C,D,W){if(1==((k>>1)%l||(c=y[BF],W=c instanceof G?c:null),k-6&15))if(Array.isArray(p))for(D=0;D<p.length;D++)g(13,7,true,"object",S,p[D],a,J,C);else C=hI(432,22,C),a&&a[u_]?a.V.add(String(p),C,y,E(43,c,S)?!!S.capture:!!S,J):R$(7,false,"object",a,S,J,y,C,p);return(k-1)%8||(this.listener=c,this.proxy=null,this.src=y,this.type=a,this.capture=!!p,this.DB=S,this.key=++ra,this.Z=this.L=false),W},I=function(l,k,y,c,S,p,a,J,C,D,W,B,X,f,A){if(!(((1==(l-7&15)&&(k.classList?Array.prototype.forEach.call(y,function(u){F("string",10,0," ","",u,k)}):z$("on",22,"string",k,Array.prototype.filter.call(F("",65,k),function(u){return!(0<=I(84,0,u,y))}).join(" "))),l)>>2)%21))a:if("string"===typeof c)A="string"!==typeof y||1!=y.length?-1:c.indexOf(y,k);else{for(S=k;S<c.length;S++)if(S in c&&c[S]===y){A=S;break a}A=-1}if(1==((l^91)&11)){if(!y)throw Error("Invalid class name "+y);if("function"!==typeof k)throw Error("Invalid decorator function "+k);}if(!((l+6)%((l<<2)%11||(k.Ac=void 0,k.j=function(){return k.Ac?k.Ac:k.Ac=new k}),11))){if((y.uc+=((X=(J=(B=(f=(c||y.Mn++,0<y.YK&&y.d$&&y.c4&&y.g$<=k&&!y.$)&&!y.O&&(!c||y.Nn-S>k)&&0==document.hidden,4==y.Mn))||f?y.M():y.bc,J)-y.bc,a=X>>14,y.i)&&(y.i=(W=y.i,C=a*(X<<2),-(C|0)+~(W&C)-2*~(W|C)+(~W|C))),y.D=a||y.D,a),B)||f)y.Mn=0,y.bc=J;!f||J-y.W4<y.YK-(p?255:c?5:2)?A=false:(y.Nn=S,D=t(y,c?58:49),Z(49,y.J,y),y.F.push([xi,D,c?S+k:S]),y.O=AI,A=true)}return A},K2=function(l,k,y,c,S,p,a,J,C){if(!(k>>2&(k>>((k<<2)%16||(J=typeof p,a=J!=y?J:p?Array.isArray(p)?"array":J:"null",C=a==S||a==y&&typeof p.length==c),1)&l||(C=Object.prototype.hasOwnProperty.call(y,EF)&&y[EF]||(y[EF]=++sF)),9)))a:{for(a in S)if(p.call(void 0,S[a],a,S)){C=c;break a}C=y}if(!((k-9)%5))if(y.classList)Array.prototype.forEach.call(c,function(D,W){y.classList?y.classList.add(D):F("",18,0,y,D)||(W=F("string",19,"",y),z$("on",l,"string",y,W+(0<W.length?" "+D:D)))});else{for(S in Array.prototype.forEach.call(F("",(p={},33),y),function(D){p[D]=true}),Array.prototype.forEach.call(c,function(D){p[D]=true}),a="",p)a+=0<a.length?" "+S:S;z$("on",14,"string",y,a)}return C},n2=function(l,k,y,c,S,p){return(y+(y>>1&k||(p=c),l))%k||c.FQ&&c.FQ.forEach(S,void 0),p},hI=function(l,k,y,c){return((k^l)%8||(b_.call(this),this.V=new G(this),this.U9=this,this.Ga=null),k+5)%9||("function"===typeof y?c=y:(y[HF]||(y[HF]=function(S){return y.handleEvent(S)}),c=y[HF])),c},No=function(l,k,y,c,S,p,a,J,C,D){if(!((y<<1)%(2==((1==(y-7&7)&&(S.i=(C=(J=G$(8,49,t(S,49),S)<<k,p=G$(8,49,t(S,49),S)<<16,c*(p|0)- -1+2*~p-(~J|p))|G$(8,49,t(S,49),S)<<8,a=G$(8,49,t(S,49),S),2*(a|0)+~(C&a)-(~C^a)-2*(~C&a)),S.U=void 0),y+5)&7)&&(p=k&4,c=k&3,J=Q(this),S=Q(this),a=t(this,J),p&&(a=da((""+a).replace(/\\r\\n/g,"\\n"),240,192)),c&&q(this,v(2,a.length),S),q(this,a,S)),9)))if(J="array"===Yi("splice",l,S)?S:[S],this.h)k(this.h);else try{a=!this.F.length,p=[],O(6,0,this,[I$,p,J]),O(6,0,this,[Va,k,p]),c&&!a||p2(true,this,c,true,false)}catch(W){R("~",46,this,W),k(this.h)}if(1==(y>>1&11)){for(c=[];k--;)c.push(255*Math.random()|0);D=c}return D},FM=function(l,k,y,c,S,p,a,J,C,D,W){if(!((c<<2)%6))if(k&&k.once)g(13,23,true,S,k,C,J,p,a);else if(Array.isArray(C))for(D=0;D<C.length;D++)FM(432,k,false,9,"object",p,a,J,C[D]);else a=hI(l,31,a),J&&J[u_]?J.V.add(String(C),a,y,E(58,S,k)?!!k.capture:!!k,p):R$(3,false,"object",J,k,p,y,a,C);return(c|4)%2||(W=!!(S.T&k)&&x(2,57,k,S)!=p&&(!(S.D8&k)||S.dispatchEvent(R(32,8,16,y,4,p,k)))&&!S.fQ),W},F=function(l,k,y,c,S,p,a,J,C){return((((2==(k<<1&((k-1)%17||(c.classList?p=c.classList.contains(S):(a=F(l,17,c),p=I(3,y,S,a)>=y),C=p),15))&&(C=y.classList?y.classList:F("string",38,l,y).match(/\\S+/g)||[]),k)^651)&12||(a.classList?a.classList.remove(p):F(S,35,y,a,p)&&z$("on",18,l,a,Array.prototype.filter.call(F(S,49,a),function(D){return D!=p}).join(c))),(k|4)%12||(Array.isArray(S)&&(S=S.join(y)),J=l+p,""===S||void 0==S?(tI||(tI={atomic:false,autocomplete:"none",dropeffect:"none",haspopup:false,live:"off",multiline:false,multiselectable:false,orientation:"vertical",readonly:false,relevant:"additions text",required:false,sort:"none",busy:false,disabled:false,hidden:false,invalid:"false"}),a=tI,p in a?c.setAttribute(J,a[p]):c.removeAttribute(J)):c.setAttribute(J,S)),k)<<2)%19||(C=typeof c.className==l?c.className:c.getAttribute&&c.getAttribute("class")||y),C},d=function(l,k,y,c,S,p,a,J,C,D,W,B,X){if(!((l>>2)%19))if(a=c.V.W[String(y)]){for(W=true,a=a.concat(),J=k;J<a.length;++J)(D=a[J])&&!D.L&&D.capture==S&&(B=D.listener,C=D.DB||D.src,D.Z&&WF(15,21,k,D,c.V),W=false!==B.call(C,p)&&W);X=W&&!p.defaultPrevented}else X=true;if(!(l+3&22))for(a in c=k,y.W){for(p=y.W[S=k,a];S<p.length;S++)++c,h(22,true,p[S]);delete y.W[y.P--,a]}if(!((((4==(l<<2&15)&&(X=y in Zs?Zs[y]:Zs[y]=k+y),l)-2)%16||(this.R=P.document||document),l^667)%9)){if(!(J=(U.call(this,c),y))){for(a=this.constructor;a;){if(S=(p=K2(10,33,a),Qa)[p])break;a=(C=Object.getPrototypeOf(a.prototype))&&C.constructor}J=S?"function"===typeof S.j?S.j():new S:null}this.v=J}return X},qo=function(l,k,y,c,S,p,a,J,C,D,W,B,X,f){if(1==(l-2&((l<<2&4||(k.push((c=(D=y[0]<<24,B=y[1]<<16,-2-~D-(D&~B)-(~D^B))|y[2]<<8,a=y[3],2*(c|0)-(c&a)-(c|~a)+(~c|a))),k.push((W=(C=y[4]<<24,p=y[5]<<16,-~(C&p)-1+(C^p)),J=y[6]<<8,2*(W&J)- -1+~(W|J)+2*(W^J))|y[7]),k.push((X=y[8]<<24|y[9]<<16|y[10]<<8,S=y[11],-~X+2*(~X&S)+(X|~S)))),(l-3)%6)||(c=Q(k),c&128&&(c=(c|0)- -1+(~c|y)|Q(k)<<7),f=c),7))){for(p=(a=Q(c),y);k>y;k--)p=(J=p<<8,S=Q(c),3*(J|y)- -1+2*~J-(J|~S));Z(a,p,c)}return f},vF=function(){return z$.call(this,"on",5)},f2=function(l,k,y,c){return L2.call(this,1,l,18,k,y,c)},M,e=function(l,k,y){y=this;try{UF(this,k,l)}catch(c){R("~",6,this,c),k(function(S){S(y.h)})}},Mo=function(l,k){for(var y=1,c,S;y<arguments.length;y++){for(S in c=arguments[y],c)l[S]=c[S];for(var p=0;p<i_.length;p++)S=i_[p],Object.prototype.hasOwnProperty.call(c,S)&&(l[S]=c[S])}},P=this||self,eW=function(l,k,y,c,S){return XM.call(this,0,8,l,k,y,c,S)},EF="closure_uid_"+(1E9*Math.random()>>>0),y5=function(l,k,y,c,S){if((c=P.trustedTypes,S=k,!c)||!c.createPolicy)return S;try{S=c.createPolicy(y,{createHTML:lU,createScript:lU,createScriptURL:lU})}catch(p){if(P.console)P.console[l](p.message)}return S},da=function(l,k,y,c,S,p,a,J,C,D,W,B,X,f){for(S=(X=(f=[],0),0);S<l.length;S++)a=l.charCodeAt(S),128>a?f[X++]=a:(2048>a?f[X++]=(W=a>>6,191-(~W|y)):(55296==(a&64512)&&S+1<l.length&&56320==(l.charCodeAt(S+1)&64512)?(a=(C=(a&1023)<<10,2*~(65536&C)- -262148-(65536|~C)+3*(-65537|C))+(p=l.charCodeAt(++S),-~p-(p^1023)+2*(~p&1023)+(p|-1024)),f[X++]=a>>18|k,f[X++]=(D=(J=a>>12,-1-~J-(J&-64)),128+~(D&128)-~(D|128)-(~D&128))):f[X++]=a>>12|224,f[X++]=(B=(c=a>>6,-~c+(~c^63)+(~c&63)),128-(~B^128)+(B|-129))),f[X++]=(a|0)-~(a&63)+~a|128);return f},lU=function(l){return n2.call(this,4,3,9,l)},l_,sF=0,jW=function(l,k){if(!P.addEventListener||!Object.defineProperty)return false;l=Object.defineProperty({},"passive",(k=false,{get:function(){k=true}}));try{P.addEventListener("test",vF,l),P.removeEventListener("test",vF,l)}catch(y){}return k}(),L=function(l,k){return L2.call(this,1,l,3,k)},b_=function(){return WF.call(this,15,3)},T=(L.prototype.stopPropagation=function(){this.s=true},(L.prototype.preventDefault=function(){this.defaultPrevented=true},b_).prototype.fQ=false,function(l,k,y,c,S){return WF.call(this,15,9,l,k,y,c,S)}),$i={2:"touch",3:(x(2,32,T,L),"pen"),4:"mouse"},u_="closure_listenable_"+(1E6*(T.prototype.stopPropagation=(T.prototype.preventDefault=function(l){(T.A.preventDefault.call(this),l=this.K,l).preventDefault?l.preventDefault():l.returnValue=false},function(){(T.A.stopPropagation.call(this),this).K.stopPropagation?this.K.stopPropagation():this.K.cancelBubble=true}),Math.random())|0),aY=function(l,k,y,c,S){return g.call(this,13,9,c,l,y,S,k)},G=function(l){return x.call(this,l,6)},i_="constructor hasOwnProperty isPrototypeOf propertyIsEnumerable toLocaleString toString valueOf".split(" "),ra=0,BF="closure_lm_"+(((G.prototype.remove=(G.prototype.add=function(l,k,y,c,S,p,a,J,C){return(C=L2(1,((J=l.toString(),a=this.W[J],a)||(a=this.W[J]=[],this.P++),0),11,S,c,a,k),-1<C)?(p=a[C],y||(p.Z=false)):(p=new aY(k,J,S,this.src,!!c),p.Z=y,a.push(p)),p},function(l,k,y,c,S,p,a){if(!(S=l.toString(),S in this.W))return false;return(a=L2(1,0,(p=this.W[S],8),c,y,p,k),-1<a)?(h(37,true,p[a]),Array.prototype.splice.call(p,a,1),0==p.length&&(delete this.W[S],this.P--),true):false}),G).prototype.B4=function(l,k,y,c,S,p){return-(S=-(p=this.W[c.toString()],1),p&&(S=L2(1,0,10,k,l,p,y)),1)<S?p[S]:null},G.prototype).hasListener=function(l,k,y,c,S){return K2(10,17,false,(S=(y=(c=void 0!==l)?l.toString():"",void 0)!==k,true),this.W,function(p,a){for(a=0;a<p.length;++a)if(!(c&&p[a].type!=y||S&&p[a].capture!=k))return true;return false})},1E6*Math.random()|0),OF=function(l,k,y,c,S,p){return z$.call(this,"on",9,l,k,y,c,S,p)},mD=0,Zs={},HF="__closure_events_fn_"+(1E9*Math.random()>>>0),m=function(){return hI.call(this,432,8)},SG=((((((x(2,56,m,b_),m.prototype[u_]=true,m).prototype.Jc=function(l){this.Ga=l},m).prototype.addEventListener=function(l,k,y,c){FM(432,y,false,3,"object",c,k,this,l)},m.prototype).removeEventListener=function(l,k,y,c){h(6,0,"object",k,y,l,c,this)},m.prototype).dispatchEvent=function(l,k,y,c,S,p,a,J,C,D,W,B){if(k=this.Ga)for(C=1,J=[];k;k=k.Ga)J.push(k),++C;if(p=(W=this.U9,S=l,c=J,S).type||S,"string"===typeof S?S=new L(S,W):S instanceof L?S.target=S.target||W:(D=S,S=new L(p,W),Mo(S,D)),y=true,c)for(a=c.length-1;!S.s&&0<=a;a--)B=S.currentTarget=c[a],y=d(76,0,p,B,true,S)&&y;if(S.s||(B=S.currentTarget=W,y=d(79,0,p,B,true,S)&&y,S.s||(y=d(78,0,p,B,false,S)&&y)),c)for(a=0;!S.s&&a<c.length;a++)B=S.currentTarget=c[a],y=d(3,0,p,B,false,S)&&y;return y},m.prototype.B4=function(l,k,y,c){return this.V.B4(l,k,y,String(c))},m).prototype.hasListener=function(l,k){return this.V.hasListener(void 0!==l?String(l):void 0,k)},function(l){return WF.call(this,15,11,l)}),cA=function(l,k,y,c,S,p,a,J,C,D){function W(B){B&&S.appendChild("string"===typeof B?l.createTextNode(B):B)}for(D=1;D<k.length;D++)if(C=k[D],!K2(10,12,c,y,"array",C)||E(18,c,C)&&0<C.nodeType)W(C);else{a:{if(C&&typeof C.length==y){if(E(33,c,C)){J="function"==typeof C.item||typeof C.item==a;break a}if("function"===typeof C){J="function"==typeof C.item;break a}}J=false}E(12,p,0,W,J?x(0,18,C):C)}},ya=function(){return d.call(this,18)},tI,oY=((((((M=ya.prototype,M.o=function(l){return"string"===typeof l?this.R.getElementById(l):l},M).getElementsByTagName=function(l,k){return(k||this.R).getElementsByTagName(String(l))},M).createElement=function(l,k,y){return(k=(y=String(l),this.R),"application/xhtml+xml"===k.contentType&&(y=y.toLowerCase()),k).createElement(y)},M.createTextNode=function(l){return this.R.createTextNode(String(l))},M.appendChild=function(l,k){l.appendChild(k)},M).append=function(l,k){cA(9==l.nodeType?l:l.ownerDocument||l.document,arguments,"number","object",l,"","string")},M).canHaveChildren=function(l){if(1!=l.nodeType)return false;switch(l.tagName){case "APPLET":case "AREA":case "BASE":case "BR":case "COL":case "COMMAND":case "EMBED":case "FRAME":case "HR":case "IMG":case "INPUT":case "IFRAME":case "ISINDEX":case "KEYGEN":case "LINK":case "NOFRAMES":case "NOSCRIPT":case "META":case "OBJECT":case "PARAM":case "SCRIPT":case "SOURCE":case "STYLE":case "TRACK":case "WBR":return false}return true},M).removeNode=SG,M.contains=function(l,k){if(!l||!k)return false;if(l.contains&&1==k.nodeType)return l==k||l.contains(k);if("undefined"!=typeof l.compareDocumentPosition)return l==k||!!(l.compareDocumentPosition(k)&16);for(;k&&l!=k;)k=k.parentNode;return k==l},function(){return g.call(this,13,5)}),U=((I(11,oY),oY).prototype.jC=0,function(l){return R.call(this,l,3)}),kh=((((x(2,24,(oY.prototype.QG="",U),m),U).prototype.nQ=oY.j(),U.prototype.o=function(){return this.VG},U.prototype.getParent=function(){return this.kK},U).prototype.C=function(){((n2(4,3,5,this,function(l){l.qn&&l.C()}),this.s9)&&d(6,0,this.s9),this).qn=false},U.prototype).Jc=function(l){if(this.kK&&this.kK!=l)throw Error("Method not supported");U.A.Jc.call(this,l)},U.prototype.removeChild=function(l,k,y,c,S,p,a,J,C,D,W,B){if(l&&("string"===typeof l?J=l:((C=l.LQ)||(S=l.nQ,c=l,B=S.QG+":"+(S.jC++).toString(36),C=c.LQ=B),J=C),W=J,this.tc&&W?(D=this.tc,p=(null!==D&&W in D?D[W]:void 0)||null):p=null,l=p,W&&l)){if(null==(a=(Ds(85,16,1,this.FQ,(y=this.tc,W in y&&delete y[W],l)),k&&(l.C(),l.VG&&SG(l.VG)),l),a))throw Error("Unable to set parent component");(a.kK=null,U).A.Jc.call(a,null)}if(!l)throw Error("Child is not in parent component");return l},function(l,k,y,c,S){return K2.call(this,10,14,l,k,y,c,S)}),pL,JU=function(){return h.call(this,9)},CL=function(l,k){return I.call(this,8,l,k)},Dt={button:"pressed",checkbox:"checked",menuitem:"selected",menuitemcheckbox:"checked",menuitemradio:"checked",radio:"checked",tab:(M=(I(22,JU),JU.prototype),"selected"),treeitem:"selected"},$h=function(){return hI.call(this,432,5)},Qa=(((I(44,(x(2,16,((M.B=function(l,k,y,c,S,p){if(c=l.o())this.E9||(S=this.XQ(),S.replace(/\\xa0|\\s/g," "),this.E9={1:S+"-disabled",2:S+"-hover",4:S+"-active",8:S+"-selected",16:S+"-checked",32:S+"-focused",64:S+"-open"}),(p=this.E9[k])&&this.I(l,p,y),this.aX(c,k,y)},M.SC=((M.XQ=function(){return"goog-control"},M).aX=function(l,k,y,c,S,p,a){a=(pL||(pL={1:"disabled",8:"selected",16:"checked",64:"expanded"}),pL[k]),(c=l.getAttribute("role")||null)?(S=Dt[c]||a,p="checked"==a||"selected"==a?S:a):p=a,p&&F("aria-",32," ",l,y,p)},function(l){return l.o()}),M).$K=(M.I=function(l,k,y,c){(c=l.o?l.o():l)&&(y?kh:CL)(c,[k])},function(l,k,y,c,S,p){if(l.T&32&&(y=l.SC())){if(!k&&x(2,25,32,l)){try{y.blur()}catch(a){}x(2,73,32,l)&&(l.w$&4&&l.T&4&&l.setActive(false),l.w$&32&&l.T&32&&FM(432,32,1,10,l,false)&&l.B(32,false))}if(c=y.hasAttribute("tabindex"))S=y.tabIndex,c="number"===typeof S&&0<=S&&32768>S;c!=k&&(p=y,k?p.tabIndex=0:(p.tabIndex=-1,p.removeAttribute("tabIndex")))}}),$h),JU),$h)),$h.prototype).aX=function(l,k,y){switch(k){case 8:case 16:F("aria-",12," ",l,y,"pressed");break;default:case 64:case 1:$h.A.aX.call(this,l,k,y)}},$h).prototype.XQ=function(){return"goog-button"},{}),V=function(l,k,y,c,S,p,a,J){return d.call(this,10,l,k,y,c,S,p,a,J)};if("function"!==((((((((((M=(x(2,72,V,U),V.prototype),M).w$=255,M).T=39,M).C=function(){((V.A.C.call(this),this).IX&&this.IX.detach(),this.isVisible())&&this.isEnabled()&&this.v.$K(this,false)},M).S=null,M).SC=function(){return this.v.SC(this)},M).I=function(l,k){k?l&&(this.S?0<=I(86,0,l,this.S)||this.S.push(l):this.S=[l],this.v.I(this,l,true)):l&&this.S&&Ds(85,8,1,this.S,l)&&(0==this.S.length&&(this.S=null),this.v.I(this,l,false))},M.D8=0,M.k9=true,M.N=0,M).isVisible=function(){return this.k9},M).isEnabled=function(){return!x(2,9,1,this)},M).setActive=function(l){FM(432,4,1,8,this,l)&&this.B(4,l)},M.getState=function(){return this.N},V.prototype.B=function(l,k,y,c,S,p){y||1!=l?this.T&l&&k!=x(2,41,l,this)&&(this.v.B(this,l,k),this.N=k?(p=this.N,2*(p&l)+~(p&l)-(~p^l)):this.N&~l):(S=!k,c=this.getParent(),c&&"function"==typeof c.isEnabled&&!c.isEnabled()||!FM(432,1,1,14,this,!S)||(S||(this.setActive(false),FM(432,2,1,16,this,false)&&this.B(2,false)),this.isVisible()&&this.v.$K(this,S),this.B(1,!S,true)))},typeof V))throw Error("Invalid component class "+V);if("function"!==typeof JU)throw Error("Invalid renderer class "+JU);var WA=K2(10,35,V),T$=(I(10,(Qa[WA]=JU,function(){return new V(null)}),"goog-control"),function(){return XM.call(this,0,5)}),BA=((I((x(2,40,T$,$h),33),T$),T$.prototype).B=function(l,k,y,c){(c=(T$.A.B.call(this,l,k,y),l).o())&&1==k&&(c.disabled=y)},function(l,k,y){return E.call(this,5,l,k,y)}),Xj=(I(14,function(){return new BA(null)},((T$.prototype.aX=vF,T$.prototype).$K=vF,x(2,64,BA,V),"goog-button")),[]),ki=[],t=function(l,k,y,c,S,p){if((p=l.g[k],void 0)===p)throw[jG,30,k];return p((c=(c=(c=(c=y=(((S=(c=k|0,(c*c|0)%1336|0),S*S|0)%1336|0)*c|0)%1336|0,c*c|0)%1336|0,c=(c*c|0)%1336|0,(c*c|0)%1336)|0,(c*c|0)%1336|0),5880*((((c*c|0)%1336|0)*y|0)%1336|0)))},Oj=function(l,k,y,c,S,p,a,J){if(!y.h){y.g$++;try{for(a=(p=void 0,l),S=y.J;--k;)try{if(J=void 0,y.$)p=m9(y,y.$);else{if((a=t(y,49),a)>=S)break;J=(Z(58,a,y),Q)(y),p=t(y,J)}I(16,(p&&p.call?p(y,k):RY(l,1,y,[jG,21,J]),1),y,false,k,false)}catch(C){t(y,193)?RY(c,1,y,C):Z(193,C,y)}if(!k){if(y.r$){Oj(0,(y.g$--,703796483565),y,22);return}RY(l,1,y,[jG,33])}}catch(C){try{RY(c,1,y,C)}catch(D){R("~",14,y,D)}}y.g$--}},fL=false,AU=function(l,k,y,c,S,p,a,J,C,D,W){try{for(a=0;1414361568!==a;)c=(W=((l<<4|0)^l>>>5)+(l|0)^(D=k[4+(a&-4)+(~a^3)],y*(a&D)-1-(~a^D)),(c|W)-~(c|W)+(~c^W))|0,a=a+2325900175|0,l=(p=((c<<4|0)^c>>>5)+(c|0)^(C=k[a>>>S&3],y*(a|C)-~(a&C)+~(a|C)),y*(l&p)+y*~(l&p)-~l-~p)|0;return[c>>>24,c>>16&255,c>>8&255,(c|255)-~(c&255)+~(c|255),l>>>24,l>>16&255,(J=l>>8,-(J|0)- -512+(J&-256)+y*(J|-256)),255-(l|255)-~(l|255)+(l|-256)]}catch(B){throw B;}},Yi=(e.prototype.G=(M=(e.prototype.O9=function(l,k,y,c,S,p){return No.call(this,"number",l,9,k,y,c,S,p)},e.prototype),"toString"),function(l,k,y,c,S){if("object"==(S=typeof y,S))if(y){if(y instanceof Array)return"array";if(y instanceof Object)return S;if(c=Object.prototype.toString.call(y),"[object Window]"==c)return"object";if("[object Array]"==c||typeof y.length==k&&"undefined"!=typeof y.splice&&"undefined"!=typeof y.propertyIsEnumerable&&!y.propertyIsEnumerable(l))return"array";if("[object Function]"==c||"undefined"!=typeof y.call&&"undefined"!=typeof y.propertyIsEnumerable&&!y.propertyIsEnumerable("call"))return"function"}else return"null";else if("function"==S&&"undefined"==typeof y.call)return"object";return S}),Y,uU=function(l,k,y,c,S,p){return(Oj(0,((p=t(S,k),S).X&&p<S.J?(Z(k,S.J,S),hU(k,S,y)):Z(k,y,S),c),S,l),Z(k,p,S),t)(S,32)},Va=(M.dg=function(l,k,y,c,S,p){return O.call(this,10,l,k,y,c,S,p)},M.WM=function(){return O.call(this,12)},[]),zd=(e.prototype.JT=void 0,[]),LL=((M.BM=function(l,k,y,c,S,p,a,J,C){return R.call(this,l,21,k,y,c,S,p,a,J,C)},e).prototype.r$=false,[]),I$=[],m9=(e.prototype.hc=function(l,k){return No.call(this,"number",l,3,k)},function(l,k,y){return(y=k(188160).shift(),l.$(188160).length)||l.l(188160).length||(l.$=void 0,l.l=void 0),y}),RY=function(l,k,y,c,S,p,a,J,C,D,W){if((p=((J=t(y,(S=void 0,c&&c[0]===jG&&(S=c[2],l=c[k],c=void 0),221)),0==J.length)&&(W=t(y,58)>>3,J.push(l,W>>8&255,(W|0)- -1+(~W|255)),void 0!=S&&J.push((S|0)- -256+~(S|255))),""),c)&&(c.message&&(p+=c.message),c.stack&&(p+=":"+c.stack)),C=t(y,70),3<C){p=da((C-=(D=(p=p.slice(0,-(C&-4)-(~C^3)+2*(C|-4)-(~C|3)),p.length),3*(D&3)+~(D&3)+(D&-4)-(D|-4)),p.replace(/\\r\\n/g,"\\n")),240,192),a=y.D,y.D=y;try{q(y,v(2,p.length).concat(p),107,195)}finally{y.D=a}}Z(70,C,y)},hU=function(l,k,y){(k.P4.push(k.g.slice()),k.g)[l]=void 0,Z(l,y,k)},jG=(e.prototype.hT=function(l,k,y,c,S){if(3==l.length){for(S=0;3>S;S++)k[S]+=l[S];for(c=[13,8,13,12,16,5,3,10,15],y=0;9>y;y++)k[3](k,y%3,c[y])}},{}),UF=function(l,k,y,c,S,p){for(l.xK=(l.l=(S=[],(l.YK=0,l).za=function(a,J,C,D,W,B){return C2.call(this,C,a,11,J,D,W,B)},l.$=void 0,l.SK=((l.pQ=25,l.Vk=rg,l).Nn=8001,Td),c=0,l.yG=function(a,J,C){return C2.call(this,C,J,13,a)},void 0),0),l.gg=(l.v4=[],l.O=null,l.g$=0,l)[Va],l.uc=1;128>c;c++)S[c]=String.fromCharCode(c);(O(38,0,(O(22,(O(54,0,(l.J=(((((l.c4=(((l.CQ=((new BA(((((l.AT=(((((((((((((((l.zn=(l.F7=(Z(49,0,(l.ZB=(l.g=[],l.D=(l.H4=[],l),function(a){return Ds.call(this,85,3,a)}),l)),Z(58,0,l),Z(107,l.hc(4),l),Z(208,function(a,J,C,D){I(5,1,a,true,J,false)||(C=Q(a),D=Q(a),Z(D,function(W){return eval(W)}(xh(t(a.D,C))),a))},l),function(a,J,C,D,W,B,X,f,A,u,w,z){return qo.call(this,6,J,a,C,D,W,B,X,f,A,u,w,z)}),0),Z)(70,2048,l),l.fo=0,Z(193,242,l),Z(160,function(a,J,C,D,W,B){D=(W=(B=(J=(C=Q(a),Q(a)),Q)(a),t(a,C)),t)(a,J),Z(B,+(W==D),a)},l),l).F=[],Z)(71,l,l),Z)(68,function(a,J,C,D,W,B,X){!I(38,1,a,true,J,false)&&(D=wg(a,0,1),C=D.mv,B=D.Ta,X=D.Y,W=D.KQ,a.D==a||W==a.ZB&&B==a)&&(Z(C,W.apply(B,X),a),a.bc=a.M())},l),Z)(221,[],l),Z)(119,function(){},l),Z(206,function(a,J,C,D,W){D=(W=(C=Q(a),Q(a)),t(a,W)),J=t(a,C),Z(W,D+J,a)},l),Z)(101,function(a,J,C,D){D=(J=Q(a),Q(a)),C=Q(a),Z(C,t(a,J)>>>D,a)},l),l.d$=false,Z(209,function(a){Ej(4,a)},l),Z(32,{},l),Z)(168,function(a,J,C){(J=(C=Q(a),Q(a)),Z)(J,""+t(a,C),a)},l),Z)(87,function(a,J,C,D){(C=(D=Q(a),Q(a)),J=t(a,C),0)!=t(a,D)&&Z(49,J,a)},l),Z(230,function(a,J,C,D,W,B,X,f){J=(C=(D=(f=(W=(B=Q(a),Q(a)),X=Q(a),Q)(a),t(a,W)),t(a,X)),t(a,f)),Z(B,C2(C,2,10,false,D,J,a),a)},l),Z)(180,0,l),Z(243,function(a,J,C,D){(C=(J=(D=Q(a),Q)(a),Q(a)),Z)(C,t(a,D)||t(a,J),a)},l),Z(233,function(a,J,C,D,W,B,X){for(B=(C=(D=(X=qo(21,(W=Q(a),a),127),""),t)(a,194),J=C.length,0);X--;)B=((B|0)+(qo(15,a,127)|0))%J,D+=S[C[B]];Z(W,D,a)},l),Z(79,function(a,J,C,D,W,B){(D=(J=(B=(W=(C=Q(a),Q)(a),Q(a)),t(a,W)),t(a,C)),Z)(B,D[J],a)},l),Z)(62,0,l),Z(37,function(a,J,C,D,W,B,X,f,A,u,w,z,r,K,N,a$,SW,cF){for(z=(w=(N=(u=(a$=(r=(cF=Q(a),X=K=0,function(n,b,H){for(;K<n;)X|=Q(a)<<K,K+=8;return X>>=(b=(H=(1<<n)-1,-(X|0)-(K-=n,2)*~(X|H)-(X&~H)+2*(X|~H)),n),b}),r(3)),(a$&1)-1-~(a$|1)),r(5)),J=0),[]);w<N;w++)W=r(1),z.push(W),J+=W?0:1;for(C=(SW=(B=(-2*(J&1)-~J- -2+2*(J|-2)).toString(2).length,[]),0);C<N;C++)z[C]||(SW[C]=r(B));for(f=0;f<N;f++)z[f]&&(SW[f]=Q(a));for(D=(A=u,[]);A--;)D.push(t(a,Q(a)));Z(cF,function(n,b,H,PF,wa){for(wa=(PF=(b=0,[]),[]);b<N;b++){if(!z[H=SW[b],b]){for(;H>=wa.length;)wa.push(Q(n));H=wa[H]}PF.push(H)}n.l=(n.$=n.za(D.slice(),47),n.za(PF,47))},a)},l),Z(146,function(a,J,C,D,W,B,X,f,A,u){0!==(C=(u=(W=(A=(B=Q(a),Q)(a),Q)(a),D=Q(a),f=t(a.D,B),X=t(a,D),t)(a,W),t(a,A)),f)&&(J=C2(X,2,25,false,u,1,a,f,C),f.addEventListener(C,J,fL),Z(62,[f,C,J],a))},l),Z)(95,function(a){Ej(1,a)},l),Z(145,function(a,J,C,D){if(C=a.P4.pop()){for(D=Q(a);0<D;D--)J=Q(a),C[J]=a.g[J];C[70]=(C[221]=a.g[221],a.g[70]),a.g=C}else Z(49,a.J,a)},l),Z)(16,function(a){a.oX(4)},l),Z(102,[],l),Z)(41,function(a,J){hU((J=t(a,Q(a)),49),a.D,J)},l),0),Z)(137,[0,0,0],l),Z)(225,function(a,J,C){(J=(C=Q(a),t(a,C)),J)[0].removeEventListener(J[1],J[2],false)},l),Z)(73,function(a){a.oX(3)},l),"Submit")),Z(76,function(a){qo(35,4,0,a)},l),Z)(47,function(a,J,C,D,W){for(C=(W=qo((D=Q(a),9),a,127),[]),J=0;J<W;J++)C.push(Q(a));Z(D,C,a)},l),p=window.performance||{},l.P4=[],p.timeOrigin||(p.timing||{}).navigationStart||0),Z)(191,function(a,J,C,D,W,B,X){X=(B=(D=Q(a),Q(a)),Q(a)),a.D==a&&(J=t(a,D),C=t(a,X),W=t(a,B),J[W]=C,161==D&&(a.U=void 0,2==W&&No("number",24,16,3,a)))},l),Z)(124,[106,0,0],l),Z(40,function(a,J,C,D,W,B,X,f,A){I(49,1,a,true,J,false)||(f=wg(a.D,0,1),W=f.KQ,D=f.mv,A=f.Ta,X=f.Y,C=X.length,B=0==C?new A[W]:1==C?new A[W](X[0]):2==C?new A[W](X[0],X[1]):3==C?new A[W](X[0],X[1],X[2]):4==C?new A[W](X[0],X[1],X[2],X[3]):2(),Z(D,B,a))},l),false),Z)(92,function(a,J,C,D,W,B,X,f,A,u,w,z,r,K){if(!I(27,1,a,true,J,true)){if("object"==(D=(r=(K=(W=(X=(f=(A=Q(a),Q(a)),Q)(a),Q(a)),t(a,f)),t(a,A)),B=t(a,W),t(a,X)),Yi)("splice","number",r)){for(w in u=[],r)u.push(w);r=u}for(D=(z=(C=r.length,0),0)<D?D:1;z<C;z+=D)K(r.slice(z,(z|0)+(D|0)),B)}},l),Z(135,P,l),Z)(165,function(a,J,C,D,W,B){B=(J=(W=Q(a),D=Q(a),Q(a)),C=t(a,D),t(a,W)),Z(J,B in C|0,a)},l),Z)(89,function(a,J,C,D,W){J=(D=Q(a),W=Q(a),t(a,D)),C=Yi("splice","number",J),Z(W,C,a)},l),l).X=[],0),l),[LL]),0),l,[Xj,y]),l),[sj,k]),p2)(true,l,true,true,false)},Q=(((M.M=(window.performance||{}).now?function(){return this.CQ+window.performance.now()}:function(){return+new Date},e).prototype.tT=function(l,k,y,c,S,p,a,J){try{c=l[((k|2)-~k+(~k|2))%3],l[k]=(a=(p=l[k],J=l[((k|0)+1)%3],-(p&J)-~(p|J)-(~p&J)+(p|~J))-(c|0),S=1==k?c<<y:c>>>y,2*~(a&S)-~a-~S)}catch(C){throw C;}},M).uI=function(l,k,y,c,S,p,a,J){return h.call(this,13,l,k,y,c,S,p,a,J)},function(l,k,y,c,S,p){if(l.$)return m9(l,l.l);return c=(y=t(l,49),S=y>>3,k=G$(8,49,y,l),l.U!=S>>3&&(l.U=S>>3,p=t(l,161),l.eC=AU(l.U,[0,0,p[1],p[2]],2,l.i,11)),l.eC)[S&l.gg.length],-(k&c)-1-~(k|c)}),q=(e.prototype.Gn=void 0,function(l,k,y,c,S,p,a,J,C){if(l.D==l)for(p=t(l,y),107==y?(a=function(D,W,B,X,f,A){if((X=((W=p.length,W)|0)-4>>3,p.RX)!=X){A=(p.RX=X,X<<3)-(f=[0,0,S[1],S[2]],4);try{p.ic=AU(C2((A|0)+4,8,6,16,p),f,2,C2(A,8,9,16,p),11)}catch(u){throw u;}}p.push((B=p.ic[2*(W|0)-(W|7)-(W^7)+2*(~W&7)],-(B|0)+(D|0)-2*(~B^D)+2*(B|~D)))},S=t(l,137)):a=function(D){p.push(D)},c&&a(-~(c|255)-(c&-256)+(c|-256)),C=k.length,J=0;J<C;J++)a(k[J])}),v=function(l,k,y,c,S){for(c=(S=(l|0)-1,[]);0<=S;S--)c[(l|0)-1-(S|0)]=(y=k>>8*S,-~y-(y&-256)+(~y&255)+(y|-256));return c},Z=(M.a7=function(){return R$.call(this,6)},function(l,k,y){if(49==l||58==l)if(y.g[l])y.g[l][y.G](k);else y.g[l]=y.yG(k);else if(124!=l&&107!=l&&102!=l&&221!=l&&137!=l||!y.g[l])y.g[l]=y.za(k,l);161==l&&No("number",24,8,3,y)}),xi=[],AI=P.requestIdleCallback?function(l){requestIdleCallback(function(){l()},{timeout:4})}:P.setImmediate?function(l){setImmediate(l)}:function(l){setTimeout(l,0)},sj=(e.prototype.H=function(l,k){return l=(k={},{}),function(y,c,S,p,a,J,C,D,W,B,X,f,A,u,w,z,r,K,N,a$,SW,cF,n,b){l=(c=l,k);try{if(C=y[0],C==o$)return c==k?45:97;if(C==Xj){D=y[1];try{for(b=(X=(cF=[],W=0,atob)(D),0);W<X.length;W++)w=X.charCodeAt(W),255<w&&(cF[b++]=512+~(w|255)-(~w^255)+2*(w|-256),w>>=8),cF[b++]=w;Z(161,[0,(this.J=(this.X=cF,this.X.length<<3),0),0],this)}catch(H){RY(17,1,this,H);return}Oj(0,8001,this,22)}else if(C==I$)y[1].push(t(this,102).length,t(this,107).length,t(this,124).length,t(this,70)),Z(32,y[2],this),this.g[181]&&uU(22,49,t(this,181),8001,this);else{if(C==Va){this.D=(J=(n=v(2,(t(this,(K=y[2],124)).length|0)+2),this.D),this);try{N=t(this,221),0<N.length&&q(this,v(2,N.length).concat(N),124,192),q(this,v(1,this.uc),124,167),q(this,v(1,this[Va].length),124),f=0,u=t(this,107),f+=(a=t(this,180),-1-~(a|2047)-(a^2047)),f-=(t(this,124).length|0)+5,4<u.length&&(f-=(u.length|0)+3),0<f&&q(this,v(2,f).concat(this.hc(f)),124,197),4<u.length&&q(this,v(2,u.length).concat(u),124,86)}finally{this.D=J}if(A=(((z=this.hc(2).concat(t(this,124)),z)[1]=(B=z[0],-1+(B&-205)-(B|-205)),z)[3]=z[1]^n[0],z[4]=(p=z[1],a$=n[1],-(p|0)+-2-~(p|a$)-(~p|a$)),this.lc(z)))A="<"+A;else for(S=0,A="";S<z.length;S++)r=z[S][this.G](16),1==r.length&&(r="0"+r),A+=r;return(((t((SW=A,this),102).length=K.shift(),t)(this,107).length=K.shift(),t(this,124)).length=K.shift(),Z)(70,K.shift(),this),SW}if(C==xi)uU(22,49,y[1],y[2],this);else if(C==ki)return uU(22,49,y[1],8001,this)}}finally{l=c}}}(),[]),JI=function(l,k,y,c,S,p,a,J,C,D){if((C=k[0],C)==I$)l.pQ=25,l.H(k);else if(C==Va){S=k[1];try{D=l.h||l.H(k)}catch(W){R("~",30,l,W),D=l.h}S(D)}else if(C==xi)l.H(k);else if(C==Xj)l.H(k);else if(C==sj){try{for(p=0;p<l.H4.length;p++)try{a=l.H4[p],a[0][a[1]](a[y])}catch(W){}}catch(W){}(0,(l.H4=[],k)[1])(function(W,B){l.O9(W,true,B)},function(W){O(22,(W=!l.F.length,0),l,[zd]),W&&p2(true,l,true,false,false)})}else{if(C==ki)return J=k[y],Z(247,k[c],l),Z(32,J,l),l.H(k);C==zd?(l.g=null,l.X=[],l.v4=[]):C==LL&&"loading"===P.document.readyState&&(l.O=function(W,B,X){(B=!(X=function(){B||(B=true,W())},1),P.document).addEventListener("DOMContentLoaded",X,fL),P.addEventListener("load",X,fL)})}},o$=[],G$=function(l,k,y,c){if(y>=c.J)throw[jG,31];return Z(k,-2*~(y|l)+(y&-9)+(~y^l)+(~y|l),c),c.X[y>>3]},wg=function(l,k,y,c,S,p,a,J){for(c=(a=(p=(((S={},J=Q(l),S).mv=Q(l),S).Y=[],l).D==l?(Q(l)|k)-y:1,Q(l)),k);c<p;c++)S.Y.push(Q(l));for(;p--;)S.Y[p]=t(l,S.Y[p]);return S.Ta=t(l,a),S.KQ=t(l,J),S};e.prototype.oX=function(l,k,y,c,S,p){return No.call(this,"number",l,5,k,y,c,S,p)};var Td,KL=function(l,k,y,c,S,p,a,J,C,D){for(;p.F.length;){J=(p.O=null,p.F).pop();try{D=JI(p,J,S,a)}catch(W){R(y,l,p,W)}if(k&&p.O){(C=p.O,C)(function(){p2(true,p,c,c,false)});break}}return D};Td=/./;var rg,Ej=(rg=((e.prototype[sj]=[0,0,1,1,0,1,1],e).prototype.bI=0,e.prototype.lc=function(l,k,y,c,S){return L2.call(this,1,l,7,k,y,c,S)},function(l){return Q(l)^Q(l)}),function(l,k,y,c){(c=(y=Q(k),Q(k)),q)(k,v(l,t(k,y)),c)}),p2=function(l,k,y,c,S,p,a,J){if(k.F.length){(k.d$&&0(),k.d$=l,k).c4=y;try{p=k.M(),k.W4=p,k.Mn=0,k.bc=p,a=KL(22,y,"~",true,2,k,6),J=k.M()-k.W4,k.xK+=J,J<(c?0:10)||0>=k.pQ--||(J=Math.floor(J),k.v4.push(254>=J?J:254))}finally{k.d$=S}return a}},xh=function(l,k){return(k=y5("error",null,"tl"))&&1===l.eval(k.createScript("1"))?function(y){return k.createScript(y)}:function(y){return""+y}}((e.bind&&(rg[e.prototype.G]=Xj.pop.bind(e.prototype[I$]),Td[e.prototype.G]=Xj.pop.bind(e.prototype[I$])),P));(40<(Y=P.watchbell||(P.watchbell={}),Y).m||(Y.m=41,Y.tl=eW,Y.a=f2),Y).ZSL_=function(l,k,y){return[(y=new e(l,k),function(c){return O(9,false,y,c)})]};try{Y.u||(P.addEventListener("unload",function(){},fL),Y.u=1)}catch(l){}try{P.addEventListener("test",null,Object.defineProperty({},"passive",{get:function(){fL={passive:true}}}))}catch(l){};}).call(this);'));}).call(this);</script>
  <script type="text/javascript" nonce="FgIn3Aju47N1l2igKRwADQ">
  document.bg = new watchbell.tl('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');
  </script>
<script nonce="FgIn3Aju47N1l2igKRwADQ">
  gaia = window.gaia || {};
  gaia.ps = gaia.ps || {};
  gaia.ps.hasPrefilledIdentifier = false;
  function gaia_parseFragment() {
  var hash = location.hash;
  var params = {};
  if (!hash) {
  return params;
  }
  var paramStrs = decodeURIComponent(hash.substring(1)).split('&');
  for (var i = 0; i < paramStrs.length; i++) {
      var param = paramStrs[i].split('=');
      params[param[0]] = param[1];
    }
    return params;
  }

  function gaia_prefillEmail() {
    var email = null;
    var form = null;
    if (document.getElementById) {
      email = document.getElementById('Email');
      form = document.getElementById('gaia_loginform');
    }
    if (form && email && (email.value == null || email.value == '')
        && (email.type != 'hidden')) {
      hashParams = gaia_parseFragment();
      if (hashParams['Email'] && hashParams['Email'] != '') {
        email.value = hashParams['Email'];
      }
    }
  }

  
  try {
    gaia_prefillEmail();
  } catch (e) {
  }
  
</script>
<script nonce="FgIn3Aju47N1l2igKRwADQ">
  var gaia_scrollToElement = function(element) {
  var calculateOffsetHeight = function(element) {
  var curtop = 0;
  if (element.offsetParent) {
  while (element) {
  curtop += element.offsetTop;
  element = element.offsetParent;
  }
  }
  return curtop;
  }
  var siginOffsetHeight = calculateOffsetHeight(element);
  var scrollHeight = siginOffsetHeight - window.innerHeight +
  element.clientHeight + 0.02 * window.innerHeight;
  window.scroll(0, scrollHeight);
  }
</script>
<script nonce="FgIn3Aju47N1l2igKRwADQ">
  if (gaia.ps.hasPrefilledIdentifier) {
  var form = document.getElementById('gaia_loginform');
  if (form) {
  form.submit();
  }
  }
</script>
<script nonce="FgIn3Aju47N1l2igKRwADQ">
  (function(){
  gaia_onLoginSubmit = function() {
  try {
  gaia.loginAutoRedirect.stop();
  } catch (err) {
  // do not prevent form from being submitted
  }
  try {
  document.bg.low(function(response) {
  document.getElementById('bgresponse').value = response;
  });
  } catch (err) {
  document.getElementById('bgresponse').value = '';
  }
  return true;
  }
  document.getElementById('gaia_loginform').onsubmit = gaia_onLoginSubmit;
  var signinButton = document.getElementById('next');
  gaia_attachEvent(window, 'load', function(){
  gaia_scrollToElement(signinButton);
  });
  })();
</script>
  <script nonce="FgIn3Aju47N1l2igKRwADQ">var e=this,g=function(b,c){b=b.split(".");var a=e;b[0]in a||!a.execScript||a.execScript("var "+b[0]);for(var d;b.length&&(d=b.shift());)b.length||void 0===c?a[d]?a=a[d]:a=a[d]={}:a[d]=c};var h=function(){try{return new XMLHttpRequest}catch(a){for(var b=["MSXML2.XMLHTTP.6.0","MSXML2.XMLHTTP.3.0","MSXML2.XMLHTTP","Microsoft.XMLHTTP"],c=0;c<b.length;c++)try{return new ActiveXObject(b[c])}catch(d){}}return null};g("gaia.ajax.newXmlHttpRequest",h);var k=function(){this.g=h();this.parameters={}};
k.prototype.send=function(b,c){var a=[],d;for(d in this.parameters)a.push(d+"="+encodeURIComponent(this.parameters[d]));a=a.join("&");var f=this.g;f.open("POST",b,!0);f.setRequestHeader("Content-type","application/x-www-form-urlencoded");f.onreadystatechange=function(){4==f.readyState&&c({status:f.status,text:f.responseText})};f.send(a)};
k.prototype.m=function(b,c,a){var d=this.g;d.open("POST",b,!0);d.setRequestHeader("Content-type","application/json");d.onreadystatechange=function(){4==d.readyState&&a({status:d.status,text:d.responseText})};d.send(c)};k.prototype.get=function(b,c){var a=this.g;a.open("GET",b,!0);a.onreadystatechange=function(){4==a.readyState&&c({status:a.status,text:a.responseText})};a.send()};g("gaia.ajax.XmlHttpFormRequest",k);k.prototype.get=k.prototype.get;k.prototype.sendJson=k.prototype.m;
k.prototype.send=k.prototype.send;var l=/\s*;\s*/,m=function(){if(!document.cookie)return"";for(var b=document.cookie.split(l),c=0;c<b.length;c++){var a=b[c];a=a.replace(/^\s+/,"");a=a.replace(/\s+$/,"");if(0==a.indexOf("APISID="))return a.substr(7)}return""};var n=null,p=function(b,c){this.l=b;this.j=c;this.i=m();this.h=!1},q=function(){var b=n,c=m();c==b.i||b.h||(b.i=c,(new k).get(b.j,function(a){var d=n;a&&a.status&&200==a.status&&"OK"==a.text&&(d.g&&clearInterval(d.g),d.h||(window.location=d.l))}))};p.prototype.start=function(b){if(this.g)return!1;this.g=setInterval(function(){q()},b);return!0};g("gaia.loginAutoRedirect.start",function(b,c,a){if(n||!a||!c||0>=b)return!1;n=new p(c,a);return n.start(b)});
g("gaia.loginAutoRedirect.stop",function(){var b=n;b.h=!0;b.g&&(clearInterval(b.g),b.g=null)});
</script>
  <script type="text/javascript" nonce="FgIn3Aju47N1l2igKRwADQ">
  gaia.loginAutoRedirect.start(5000,
  'https:\x2F\x2Faccounts.google.com\x2FServiceLogin?continue=https%3A%2F%2Fdrive.google.com%2Ffile%2Fd%2F1ljHTScIl7iYAd3UjdnGQF3y5I9GQ2RrR%2Fview%3Fusp%3Dsharing\x26followup=https%3A%2F%2Fdrive.google.com%2Ffile%2Fd%2F1ljHTScIl7iYAd3UjdnGQF3y5I9GQ2RrR%2Fview%3Fusp%3Dsharing\x26service=wise\x26passive=1209600\x26noautologin=true',
  'https:\x2F\x2Faccounts.google.com\x2FPassiveLoginProber?continue=https%3A%2F%2Fdrive.google.com%2Ffile%2Fd%2F1ljHTScIl7iYAd3UjdnGQF3y5I9GQ2RrR%2Fview%3Fusp%3Dsharing\x26followup=https%3A%2F%2Fdrive.google.com%2Ffile%2Fd%2F1ljHTScIl7iYAd3UjdnGQF3y5I9GQ2RrR%2Fview%3Fusp%3Dsharing\x26service=wise\x26passive=1209600');
  </script>
  </body>
</html>
