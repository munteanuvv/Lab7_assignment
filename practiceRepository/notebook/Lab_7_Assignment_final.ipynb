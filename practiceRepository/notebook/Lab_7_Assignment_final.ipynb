
<!DOCTYPE html>
<html lang="en">
  <head>
  <meta charset="utf-8">
  <meta content="width=300, initial-scale=1" name="viewport">
  <meta name="description" content="Google Drive is a free way to keep your files backed up and easy to reach from any phone, tablet, or computer. Start with 15GB of Google storage – free.">
  <meta name="google-site-verification" content="LrdTUW9psUAMbh4Ia074-BPEVmcpBxF6Gwf0MSgQXZs">
  <title>Meet Google Drive – One place for all your files</title>
  <style>
  @font-face {
  font-family: 'Open Sans';
  font-style: normal;
  font-weight: 300;
  src: url(//fonts.gstatic.com/s/opensans/v15/mem5YaGs126MiZpBA-UN_r8OUuhs.ttf) format('truetype');
}
@font-face {
  font-family: 'Open Sans';
  font-style: normal;
  font-weight: 400;
  src: url(//fonts.gstatic.com/s/opensans/v15/mem8YaGs126MiZpBA-UFVZ0e.ttf) format('truetype');
}
  </style>
  <style>
  h1, h2 {
  -webkit-animation-duration: 0.1s;
  -webkit-animation-name: fontfix;
  -webkit-animation-iteration-count: 1;
  -webkit-animation-timing-function: linear;
  -webkit-animation-delay: 0;
  }
  @-webkit-keyframes fontfix {
  from {
  opacity: 1;
  }
  to {
  opacity: 1;
  }
  }
  </style>
<style>
  html, body {
  font-family: Arial, sans-serif;
  background: #fff;
  margin: 0;
  padding: 0;
  border: 0;
  position: absolute;
  height: 100%;
  min-width: 100%;
  font-size: 13px;
  color: #404040;
  direction: ltr;
  -webkit-text-size-adjust: none;
  }
  button,
  input[type=button],
  input[type=submit] {
  font-family: Arial, sans-serif;
  font-size: 13px;
  }
  a,
  a:hover,
  a:visited {
  color: #427fed;
  cursor: pointer;
  text-decoration: none;
  }
  a:hover {
  text-decoration: underline;
  }
  h1 {
  font-size: 20px;
  color: #262626;
  margin: 0 0 15px;
  font-weight: normal;
  }
  h2 {
  font-size: 14px;
  color: #262626;
  margin: 0 0 15px;
  font-weight: bold;
  }
  input[type=email],
  input[type=number],
  input[type=password],
  input[type=tel],
  input[type=text],
  input[type=url] {
  -moz-appearance: none;
  -webkit-appearance: none;
  appearance: none;
  display: inline-block;
  height: 36px;
  padding: 0 8px;
  margin: 0;
  background: #fff;
  border: 1px solid #d9d9d9;
  border-top: 1px solid #c0c0c0;
  -moz-box-sizing: border-box;
  -webkit-box-sizing: border-box;
  box-sizing: border-box;
  -moz-border-radius: 1px;
  -webkit-border-radius: 1px;
  border-radius: 1px;
  font-size: 15px;
  color: #404040;
  }
  input[type=email]:hover,
  input[type=number]:hover,
  input[type=password]:hover,
  input[type=tel]:hover,
  input[type=text]:hover,
  input[type=url]:hover {
  border: 1px solid #b9b9b9;
  border-top: 1px solid #a0a0a0;
  -moz-box-shadow: inset 0 1px 2px rgba(0,0,0,0.1);
  -webkit-box-shadow: inset 0 1px 2px rgba(0,0,0,0.1);
  box-shadow: inset 0 1px 2px rgba(0,0,0,0.1);
  }
  input[type=email]:focus,
  input[type=number]:focus,
  input[type=password]:focus,
  input[type=tel]:focus,
  input[type=text]:focus,
  input[type=url]:focus {
  outline: none;
  border: 1px solid #4d90fe;
  -moz-box-shadow: inset 0 1px 2px rgba(0,0,0,0.3);
  -webkit-box-shadow: inset 0 1px 2px rgba(0,0,0,0.3);
  box-shadow: inset 0 1px 2px rgba(0,0,0,0.3);
  }
  input[type=checkbox],
  input[type=radio] {
  -webkit-appearance: none;
  display: inline-block;
  width: 13px;
  height: 13px;
  margin: 0;
  cursor: pointer;
  vertical-align: bottom;
  background: #fff;
  border: 1px solid #c6c6c6;
  -moz-border-radius: 1px;
  -webkit-border-radius: 1px;
  border-radius: 1px;
  -moz-box-sizing: border-box;
  -webkit-box-sizing: border-box;
  box-sizing: border-box;
  position: relative;
  }
  input[type=checkbox]:active,
  input[type=radio]:active {
  background: #ebebeb;
  }
  input[type=checkbox]:hover {
  border-color: #c6c6c6;
  -moz-box-shadow: inset 0 1px 2px rgba(0,0,0,0.1);
  -webkit-box-shadow: inset 0 1px 2px rgba(0,0,0,0.1);
  box-shadow: inset 0 1px 2px rgba(0,0,0,0.1);
  }
  input[type=radio] {
  -moz-border-radius: 1em;
  -webkit-border-radius: 1em;
  border-radius: 1em;
  width: 15px;
  height: 15px;
  }
  input[type=checkbox]:checked,
  input[type=radio]:checked {
  background: #fff;
  }
  input[type=radio]:checked::after {
  content: '';
  display: block;
  position: relative;
  top: 3px;
  left: 3px;
  width: 7px;
  height: 7px;
  background: #666;
  -moz-border-radius: 1em;
  -webkit-border-radius: 1em;
  border-radius: 1em;
  }
  input[type=checkbox]:checked::after {
  content: url(https://ssl.gstatic.com/ui/v1/menu/checkmark.png);
  display: block;
  position: absolute;
  top: -6px;
  left: -5px;
  }
  input[type=checkbox]:focus {
  outline: none;
  border-color: #4d90fe;
  }
  .stacked-label {
  display: block;
  font-weight: bold;
  margin: .5em 0;
  }
  .hidden-label {
  position: absolute !important;
  clip: rect(1px 1px 1px 1px); /* IE6, IE7 */
  clip: rect(1px, 1px, 1px, 1px);
  height: 0px;
  width: 0px;
  overflow: hidden;
  visibility: hidden;
  }
  input[type=checkbox].form-error,
  input[type=email].form-error,
  input[type=number].form-error,
  input[type=password].form-error,
  input[type=text].form-error,
  input[type=tel].form-error,
  input[type=url].form-error {
  border: 1px solid #dd4b39;
  }
  .error-msg {
  margin: .5em 0;
  display: block;
  color: #dd4b39;
  line-height: 17px;
  }
  .help-link {
  background: #dd4b39;
  padding: 0 5px;
  color: #fff;
  font-weight: bold;
  display: inline-block;
  -moz-border-radius: 1em;
  -webkit-border-radius: 1em;
  border-radius: 1em;
  text-decoration: none;
  position: relative;
  top: 0px;
  }
  .help-link:visited {
  color: #fff;
  }
  .help-link:hover {
  color: #fff;
  background: #c03523;
  text-decoration: none;
  }
  .help-link:active {
  opacity: 1;
  background: #ae2817;
  }
  .wrapper {
  position: relative;
  min-height: 100%;
  }
  .content {
  padding: 0 44px;
  }
  .main {
  padding-bottom: 100px;
  }
  /* For modern browsers */
  .clearfix:before,
  .clearfix:after {
  content: "";
  display: table;
  }
  .clearfix:after {
  clear: both;
  }
  /* For IE 6/7 (trigger hasLayout) */
  .clearfix {
  zoom:1;
  }
  .google-header-bar {
  height: 71px;
  border-bottom: 1px solid #e5e5e5;
  overflow: hidden;
  }
  .header .logo {
  background-image: url(https://ssl.gstatic.com/accounts/ui/logo_1x.png);
  background-size: 116px 38px;
  background-repeat: no-repeat;
  margin: 17px 0 0;
  float: left;
  height: 38px;
  width: 116px;
  }
  .header .logo-w {
  background-image: url(https://ssl.gstatic.com/images/branding/googlelogo/1x/googlelogo_color_112x36dp.png);
  background-size: 112px 36px;
  margin: 21px 0 0;
  }
  .header .secondary-link {
  margin: 28px 0 0;
  float: right;
  }
  .header .secondary-link a {
  font-weight: normal;
  }
  .google-header-bar.centered {
  border: 0;
  height: 108px;
  }
  .google-header-bar.centered .header .logo {
  float: none;
  margin: 40px auto 30px;
  display: block;
  }
  .google-header-bar.centered .header .secondary-link {
  display: none
  }
  .google-footer-bar {
  position: absolute;
  bottom: 0;
  height: 35px;
  width: 100%;
  border-top: 1px solid #e5e5e5;
  overflow: hidden;
  }
  .footer {
  padding-top: 7px;
  font-size: .85em;
  white-space: nowrap;
  line-height: 0;
  }
  .footer ul {
  float: left;
  max-width: 80%;
  min-height: 16px;
  padding: 0;
  }
  .footer ul li {
  color: #737373;
  display: inline;
  padding: 0;
  padding-right: 1.5em;
  }
  .footer a {
  color: #737373;
  }
  .lang-chooser-wrap {
  float: right;
  display: inline;
  }
  .lang-chooser-wrap img {
  vertical-align: top;
  }
  .lang-chooser {
  font-size: 13px;
  height: 24px;
  line-height: 24px;
  }
  .lang-chooser option {
  font-size: 13px;
  line-height: 24px;
  }
  .hidden {
  height: 0px;
  width: 0px;
  overflow: hidden;
  visibility: hidden;
  display: none !important;
  }
  .banner {
  text-align: center;
  }
  .card {
  background-color: #f7f7f7;
  padding: 20px 25px 30px;
  margin: 0 auto 25px;
  width: 304px;
  -moz-border-radius: 2px;
  -webkit-border-radius: 2px;
  border-radius: 2px;
  -moz-box-shadow: 0px 2px 2px rgba(0, 0, 0, 0.3);
  -webkit-box-shadow: 0px 2px 2px rgba(0, 0, 0, 0.3);
  box-shadow: 0px 2px 2px rgba(0, 0, 0, 0.3);
  }
  .card > *:first-child {
  margin-top: 0;
  }
  .rc-button,
  .rc-button:visited {
  display: inline-block;
  min-width: 46px;
  text-align: center;
  color: #444;
  font-size: 14px;
  font-weight: 700;
  height: 36px;
  padding: 0 8px;
  line-height: 36px;
  -moz-border-radius: 3px;
  -webkit-border-radius: 3px;
  border-radius: 3px;
  -o-transition: all 0.218s;
  -moz-transition: all 0.218s;
  -webkit-transition: all 0.218s;
  transition: all 0.218s;
  border: 1px solid #dcdcdc;
  background-color: #f5f5f5;
  background-image: -webkit-linear-gradient(top,#f5f5f5,#f1f1f1);
  background-image: -moz-linear-gradient(top,#f5f5f5,#f1f1f1);
  background-image: -ms-linear-gradient(top,#f5f5f5,#f1f1f1);
  background-image: -o-linear-gradient(top,#f5f5f5,#f1f1f1);
  background-image: linear-gradient(top,#f5f5f5,#f1f1f1);
  -o-transition: none;
  -moz-user-select: none;
  -webkit-user-select: none;
  user-select: none;
  cursor: default;
  }
  .card .rc-button {
  width: 100%;
  padding: 0;
  }
  .rc-button.disabled,
  .rc-button[disabled] {
  opacity: .5;
  filter: alpha(opacity=50);
  cursor: default;
  pointer-events: none;
  }
  .rc-button:hover {
  border: 1px solid #c6c6c6;
  color: #333;
  text-decoration: none;
  -o-transition: all 0.0s;
  -moz-transition: all 0.0s;
  -webkit-transition: all 0.0s;
  transition: all 0.0s;
  background-color: #f8f8f8;
  background-image: -webkit-linear-gradient(top,#f8f8f8,#f1f1f1);
  background-image: -moz-linear-gradient(top,#f8f8f8,#f1f1f1);
  background-image: -ms-linear-gradient(top,#f8f8f8,#f1f1f1);
  background-image: -o-linear-gradient(top,#f8f8f8,#f1f1f1);
  background-image: linear-gradient(top,#f8f8f8,#f1f1f1);
  -moz-box-shadow: 0 1px 1px rgba(0,0,0,0.1);
  -webkit-box-shadow: 0 1px 1px rgba(0,0,0,0.1);
  box-shadow: 0 1px 1px rgba(0,0,0,0.1);
  }
  .rc-button:active {
  background-color: #f6f6f6;
  background-image: -webkit-linear-gradient(top,#f6f6f6,#f1f1f1);
  background-image: -moz-linear-gradient(top,#f6f6f6,#f1f1f1);
  background-image: -ms-linear-gradient(top,#f6f6f6,#f1f1f1);
  background-image: -o-linear-gradient(top,#f6f6f6,#f1f1f1);
  background-image: linear-gradient(top,#f6f6f6,#f1f1f1);
  -moz-box-shadow: 0 1px 2px rgba(0,0,0,0.1);
  -webkit-box-shadow: 0 1px 2px rgba(0,0,0,0.1);
  box-shadow: 0 1px 2px rgba(0,0,0,0.1);
  }
  .rc-button-submit,
  .rc-button-submit:visited {
  border: 1px solid #3079ed;
  color: #fff;
  text-shadow: 0 1px rgba(0,0,0,0.1);
  background-color: #4d90fe;
  background-image: -webkit-linear-gradient(top,#4d90fe,#4787ed);
  background-image: -moz-linear-gradient(top,#4d90fe,#4787ed);
  background-image: -ms-linear-gradient(top,#4d90fe,#4787ed);
  background-image: -o-linear-gradient(top,#4d90fe,#4787ed);
  background-image: linear-gradient(top,#4d90fe,#4787ed);
  }
  .rc-button-submit:hover {
  border: 1px solid #2f5bb7;
  color: #fff;
  text-shadow: 0 1px rgba(0,0,0,0.3);
  background-color: #357ae8;
  background-image: -webkit-linear-gradient(top,#4d90fe,#357ae8);
  background-image: -moz-linear-gradient(top,#4d90fe,#357ae8);
  background-image: -ms-linear-gradient(top,#4d90fe,#357ae8);
  background-image: -o-linear-gradient(top,#4d90fe,#357ae8);
  background-image: linear-gradient(top,#4d90fe,#357ae8);
  }
  .rc-button-submit:active {
  background-color: #357ae8;
  background-image: -webkit-linear-gradient(top,#4d90fe,#357ae8);
  background-image: -moz-linear-gradient(top,#4d90fe,#357ae8);
  background-image: -ms-linear-gradient(top,#4d90fe,#357ae8);
  background-image: -o-linear-gradient(top,#4d90fe,#357ae8);
  background-image: linear-gradient(top,#4d90fe,#357ae8);
  -moz-box-shadow: inset 0 1px 2px rgba(0,0,0,0.3);
  -webkit-box-shadow: inset 0 1px 2px rgba(0,0,0,0.3);
  box-shadow: inset 0 1px 2px rgba(0,0,0,0.3);
  }
  .rc-button-red,
  .rc-button-red:visited {
  border: 1px solid transparent;
  color: #fff;
  text-shadow: 0 1px rgba(0,0,0,0.1);
  background-color: #d14836;
  background-image: -webkit-linear-gradient(top,#dd4b39,#d14836);
  background-image: -moz-linear-gradient(top,#dd4b39,#d14836);
  background-image: -ms-linear-gradient(top,#dd4b39,#d14836);
  background-image: -o-linear-gradient(top,#dd4b39,#d14836);
  background-image: linear-gradient(top,#dd4b39,#d14836);
  }
  .rc-button-red:hover {
  border: 1px solid #b0281a;
  color: #fff;
  text-shadow: 0 1px rgba(0,0,0,0.3);
  background-color: #c53727;
  background-image: -webkit-linear-gradient(top,#dd4b39,#c53727);
  background-image: -moz-linear-gradient(top,#dd4b39,#c53727);
  background-image: -ms-linear-gradient(top,#dd4b39,#c53727);
  background-image: -o-linear-gradient(top,#dd4b39,#c53727);
  background-image: linear-gradient(top,#dd4b39,#c53727);
  }
  .rc-button-red:active {
  border: 1px solid #992a1b;
  background-color: #b0281a;
  background-image: -webkit-linear-gradient(top,#dd4b39,#b0281a);
  background-image: -moz-linear-gradient(top,#dd4b39,#b0281a);
  background-image: -ms-linear-gradient(top,#dd4b39,#b0281a);
  background-image: -o-linear-gradient(top,#dd4b39,#b0281a);
  background-image: linear-gradient(top,#dd4b39,#b0281a);
  -moz-box-shadow: inset 0 1px 2px rgba(0,0,0,0.3);
  -webkit-box-shadow: inset 0 1px 2px rgba(0,0,0,0.3);
  box-shadow: inset 0 1px 2px rgba(0,0,0,0.3);
  }
  .secondary-actions {
  text-align: center;
  }
</style>
<style media="screen and (max-width: 800px), screen and (max-height: 800px)">
  .google-header-bar.centered {
  height: 83px;
  }
  .google-header-bar.centered .header .logo {
  margin: 25px auto 20px;
  }
  .card {
  margin-bottom: 20px;
  }
</style>
<style media="screen and (max-width: 580px)">
  html, body {
  font-size: 14px;
  }
  .google-header-bar.centered {
  height: 73px;
  }
  .google-header-bar.centered .header .logo {
  margin: 20px auto 15px;
  }
  .content {
  padding-left: 10px;
  padding-right: 10px;
  }
  .hidden-small {
  display: none;
  }
  .card {
  padding: 20px 15px 30px;
  width: 270px;
  }
  .footer ul li {
  padding-right: 1em;
  }
  .lang-chooser-wrap {
  display: none;
  }
</style>
<style media="screen and (-webkit-min-device-pixel-ratio: 1.5), (min--moz-device-pixel-ratio: 1.5), (-o-min-device-pixel-ratio: 3 / 2), (min-device-pixel-ratio: 1.5)">
  .header .logo {
  background-image: url(https://ssl.gstatic.com/accounts/ui/logo_2x.png);
  }
  .header .logo-w {
  background-image: url(https://ssl.gstatic.com/images/branding/googlelogo/2x/googlelogo_color_112x36dp.png);
  }
</style>
<style>
  pre.debug {
  font-family: monospace;
  position: absolute;
  left: 0;
  margin: 0;
  padding: 1.5em;
  font-size: 13px;
  background: #f1f1f1;
  border-top: 1px solid #e5e5e5;
  direction: ltr;
  white-space: pre-wrap;
  width: 90%;
  overflow: hidden;
  }
</style>
<style>
  .banner h1 {
  font-family: 'Open Sans', arial;
  -webkit-font-smoothing: antialiased;
  color: #555;
  font-size: 42px;
  font-weight: 300;
  margin-top: 0;
  margin-bottom: 20px;
  }
  .banner h2 {
  font-family: 'Open Sans', arial;
  -webkit-font-smoothing: antialiased;
  color: #555;
  font-size: 18px;
  font-weight: 400;
  margin-bottom: 20px;
  }
  .signin-card {
  width: 274px;
  padding: 40px 40px;
  }
  .signin-card .profile-img {
  width: 96px;
  height: 96px;
  margin: 0 auto 10px;
  display: block;
  -moz-border-radius: 50%;
  -webkit-border-radius: 50%;
  border-radius: 50%;
  }
  .signin-card .profile-name {
  font-size: 16px;
  font-weight: bold;
  text-align: center;
  margin: 10px 0 0;
  min-height: 1em;
  }
  .signin-card .profile-email {
  font-size: 16px;
  text-align: center;
  margin: 10px 0 20px 0;
  min-height: 1em;
  }
  .signin-card input[type=email],
  .signin-card input[type=password],
  .signin-card input[type=text],
  .signin-card input[type=submit] {
  width: 100%;
  display: block;
  margin-bottom: 10px;
  z-index: 1;
  position: relative;
  -moz-box-sizing: border-box;
  -webkit-box-sizing: border-box;
  box-sizing: border-box;
  }
  .signin-card #Email,
  .signin-card #Passwd,
  .signin-card .captcha {
  direction: ltr;
  height: 44px;
  font-size: 16px;
  }
  .signin-card #Email + .stacked-label {
  margin-top: 15px;
  }
  .signin-card #reauthEmail {
  display: block;
  margin-bottom: 10px;
  line-height: 36px;
  padding: 0 8px;
  font-size: 15px;
  color: #404040;
  line-height: 2;
  margin-bottom: 10px;
  font-size: 14px;
  text-align: center;
  overflow: hidden;
  text-overflow: ellipsis;
  white-space: nowrap;
  -moz-box-sizing: border-box;
  -webkit-box-sizing: border-box;
  box-sizing: border-box;
  }
  .one-google p {
  margin: 0 0 10px;
  color: #555;
  font-size: 14px;
  text-align: center;
  }
  .one-google p.create-account,
  .one-google p.switch-account {
  margin-bottom: 60px;
  }
  .one-google .logo-strip {
  background-repeat: no-repeat;
  display: block;
  margin: 10px auto;
  background-image: url(https://ssl.gstatic.com/accounts/ui/wlogostrip_230x17_1x.png);
  background-size: 230px 17px;
  width: 230px;
  height: 17px;
  }
</style>
<style media="screen and (max-width: 800px), screen and (max-height: 800px)">
  .banner h1 {
  font-size: 38px;
  margin-bottom: 15px;
  }
  .banner h2 {
  margin-bottom: 15px;
  }
  .one-google p.create-account,
  .one-google p.switch-account {
  margin-bottom: 30px;
  }
  .signin-card #Email {
  margin-bottom: 0;
  }
  .signin-card #Passwd {
  margin-top: -1px;
  }
  .signin-card #Email.form-error,
  .signin-card #Passwd.form-error {
  z-index: 2;
  }
  .signin-card #Email:hover,
  .signin-card #Email:focus,
  .signin-card #Passwd:hover,
  .signin-card #Passwd:focus {
  z-index: 3;
  }
</style>
<style media="screen and (max-width: 580px)">
  .banner h1 {
  font-size: 22px;
  margin-bottom: 15px;
  }
  .signin-card {
  width: 260px;
  padding: 20px 20px;
  margin: 0 auto 20px;
  }
  .signin-card .profile-img {
  width: 72px;
  height: 72px;
  -moz-border-radius: 72px;
  -webkit-border-radius: 72px;
  border-radius: 72px;
  }
</style>
<style media="screen and (-webkit-min-device-pixel-ratio: 1.5), (min--moz-device-pixel-ratio: 1.5), (-o-min-device-pixel-ratio: 3 / 2), (min-device-pixel-ratio: 1.5)">
  .one-google .logo-strip {
  background-image: url(https://ssl.gstatic.com/accounts/ui/wlogostrip_230x17_2x.png);
  }
</style>
<style>
  .remember .bubble-wrap {
  position: absolute;
  padding-top: 3px;
  -o-transition: opacity .218s ease-in .218s;
  -moz-transition: opacity .218s ease-in .218s;
  -webkit-transition: opacity .218s ease-in .218s;
  transition: opacity .218s ease-in .218s;
  left: -999em;
  opacity: 0;
  width: 314px;
  margin-left: -20px;
  }
  .remember:hover .bubble-wrap,
  .remember input:focus ~ .bubble-wrap,
  .remember .bubble-wrap:hover,
  .remember .bubble-wrap:focus {
  opacity: 1;
  left: inherit;
  }
  .bubble-pointer {
  border-left: 10px solid transparent;
  border-right: 10px solid transparent;
  border-bottom: 10px solid #fff;
  width: 0;
  height: 0;
  margin-left: 17px;
  }
  .bubble {
  background-color: #fff;
  padding: 15px;
  margin-top: -1px;
  font-size: 11px;
  -moz-border-radius: 2px;
  -webkit-border-radius: 2px;
  border-radius: 2px;
  -moz-box-shadow: 0px 2px 2px rgba(0, 0, 0, 0.3);
  -webkit-box-shadow: 0px 2px 2px rgba(0, 0, 0, 0.3);
  box-shadow: 0px 2px 2px rgba(0, 0, 0, 0.3);
  }
  #stay-signed-in {
  float: left;
  }
  #stay-signed-in-tooltip {
  left: auto;
  margin-left: -20px;
  padding-top: 3px;
  position: absolute;
  top: 0;
  visibility: hidden;
  width: 314px;
  z-index: 1;
  }
  .dasher-tooltip {
  top: 380px;
  }
</style>
<style media="screen and (max-width: 800px), screen and (max-height: 800px)">
  .dasher-tooltip {
  top: 340px;
  }
</style>
<style>
  .jfk-tooltip {
  background-color: #fff;
  border: 1px solid;
  color: #737373;
  font-size: 12px;
  position: absolute;
  z-index: 800 !important;
  border-color: #bbb #bbb #a8a8a8;
  padding: 16px;
  width: 250px;
  }
 .jfk-tooltip h3 {
  color: #555;
  font-size: 12px;
  margin: 0 0 .5em;
  }
 .jfk-tooltip-content p:last-child {
  margin-bottom: 0;
  }
  .jfk-tooltip-arrow {
  position: absolute;
  }
  .jfk-tooltip-arrow .jfk-tooltip-arrowimplbefore,
  .jfk-tooltip-arrow .jfk-tooltip-arrowimplafter {
  display: block;
  height: 0;
  position: absolute;
  width: 0;
  }
  .jfk-tooltip-arrow .jfk-tooltip-arrowimplbefore {
  border: 9px solid;
  }
  .jfk-tooltip-arrow .jfk-tooltip-arrowimplafter {
  border: 8px solid;
  }
  .jfk-tooltip-arrowdown {
  bottom: 0;
  }
  .jfk-tooltip-arrowup {
  top: -9px;
  }
  .jfk-tooltip-arrowleft {
  left: -9px;
  top: 30px;
  }
  .jfk-tooltip-arrowright {
  right: 0;
  top: 30px;
  }
  .jfk-tooltip-arrowdown .jfk-tooltip-arrowimplbefore,.jfk-tooltip-arrowup .jfk-tooltip-arrowimplbefore {
  border-color: #bbb transparent;
  left: -9px;
  }
  .jfk-tooltip-arrowdown .jfk-tooltip-arrowimplbefore {
  border-color: #a8a8a8 transparent;
  }
  .jfk-tooltip-arrowdown .jfk-tooltip-arrowimplafter,.jfk-tooltip-arrowup .jfk-tooltip-arrowimplafter {
  border-color: #fff transparent;
  left: -8px;
  }
  .jfk-tooltip-arrowdown .jfk-tooltip-arrowimplbefore {
  border-bottom-width: 0;
  }
  .jfk-tooltip-arrowdown .jfk-tooltip-arrowimplafter {
  border-bottom-width: 0;
  }
  .jfk-tooltip-arrowup .jfk-tooltip-arrowimplbefore {
  border-top-width: 0;
  }
  .jfk-tooltip-arrowup .jfk-tooltip-arrowimplafter {
  border-top-width: 0;
  top: 1px;
  }
  .jfk-tooltip-arrowleft .jfk-tooltip-arrowimplbefore,
  .jfk-tooltip-arrowright .jfk-tooltip-arrowimplbefore {
  border-color: transparent #bbb;
  top: -9px;
  }
  .jfk-tooltip-arrowleft .jfk-tooltip-arrowimplafter,
  .jfk-tooltip-arrowright .jfk-tooltip-arrowimplafter {
  border-color:transparent #fff;
  top:-8px;
  }
  .jfk-tooltip-arrowleft .jfk-tooltip-arrowimplbefore {
  border-left-width: 0;
  }
  .jfk-tooltip-arrowleft .jfk-tooltip-arrowimplafter {
  border-left-width: 0;
  left: 1px;
  }
  .jfk-tooltip-arrowright .jfk-tooltip-arrowimplbefore {
  border-right-width: 0;
  }
  .jfk-tooltip-arrowright .jfk-tooltip-arrowimplafter {
  border-right-width: 0;
  }
  .jfk-tooltip-closebtn {
  background: url("//ssl.gstatic.com/ui/v1/icons/common/x_8px.png") no-repeat;
  border: 1px solid transparent;
  height: 21px;
  opacity: .4;
  outline: 0;
  position: absolute;
  right: 2px;
  top: 2px;
  width: 21px;
  }
  .jfk-tooltip-closebtn:focus,
  .jfk-tooltip-closebtn:hover {
  opacity: .8;
  cursor: pointer;
  }
  .jfk-tooltip-closebtn:focus {
  border-color: #4d90fe;
  }
</style>
<style media="screen and (max-width: 580px)">
  .jfk-tooltip {
  display: none;
  }
</style>
<style type="text/css">
.captcha-box {
  background: #fff;
  margin: 0 0 10px;
  overflow: hidden;
  padding: 10px;
}
.captcha-box .captcha-img {
  text-align: center;
}
.captcha-box .captcha-label {
  font-weight: bold;
  display: block;
  margin: .5em 0;
}
.captcha-box .captcha-msg {
  color: #999;
  display: block;
  position: relative;
}
.captcha-box .captcha-msg .accessibility-logo {
  float: right;
  border: 0;
}
.captcha-box .audio-box {
  position: absolute;
  top: 0;
}
</style>
<style>
.chromiumsync-custom-content {
  padding-top: 20px;
  margin-bottom: 0;
}
.form-panel {
  -webkit-box-sizing: border-box;
  box-sizing: border-box;
  -webkit-transform: translateZ(0);
  -moz-transform: translateZ(0);
  -ms-transform: translateZ(0);
  -o-transform: translateZ(0);
  transform: translateZ(0);
  width: 100%;
}
.form-panel.first {
  z-index: 2;
}
.form-panel.second {
  z-index: 1;
}
.shift-form .form-panel.first {
  z-index: 1;
}
.shift-form .form-panel.second {
  z-index: 2;
}
.slide-in,
.slide-out {
  display: block;
  -webkit-transition-property: -webkit-transform, opacity;
  -moz-transition-property: -moz-transform, opacity;
  -ms-transition-property: -ms-transform, opacity;
  -o-transition-property: -o-transform, opacity;
  transition-property: transform, opacity;
  -webkit-transition-duration: 0.1s;
  -moz-transition-duration: 0.1s;
  -ms-transition-duration: 0.1s;
  -o-transition-duration: 0.1s;
  transition-duration: 0.1s;
  -webkit-transition-timing-function: cubic-bezier(0.4, 0, 0.2, 1);
  -moz-transition-timing-function: cubic-bezier(0.4, 0, 0.2, 1);
  -ms-transition-timing-function: cubic-bezier(0.4, 0, 0.2, 1);
  -o-transition-timing-function: cubic-bezier(0.4, 0, 0.2, 1);
  transition-timing-function: cubic-bezier(0.4, 0, 0.2, 1);
}
.slide-out {
  -webkit-transform: translate3d(0, 0, 0);
  -moz-transform: translate3d(0, 0, 0);
  -ms-transform: translate3d(0, 0, 0);
  -o-transform: translate3d(0, 0, 0);
  transform: translate3d(0, 0, 0);
}
.shift-form .slide-out {
  opacity: 0;
  -webkit-transform: translate3d(-120%, 0, 0);
  -moz-transform: translate3d(-120%, 0, 0);
  -ms-transform: translate3d(-120%, 0, 0);
  -o-transform: translate3d(-120%, 0, 0);
  transform: translate3d(-120%, 0, 0);
}
.slide-in {
  -webkit-transform: translate3d(120%, 0, 0);
  -moz-transform: translate3d(120%, 0, 0);
  -ms-transform: translate3d(120%, 0, 0);
  -o-transform: translate3d(120%, 0, 0);
  transform: translate3d(120%, 0, 0);
}
.shift-form .slide-in {
  opacity: 1;
  -webkit-transform: translate3d(0, 0, 0);
  -moz-transform: translate3d(0, 0, 0);
  -ms-transform: translate3d(0, 0, 0);
  -o-transform: translate3d(0, 0, 0);
  transform: translate3d(0, 0, 0);
}
.error-msg {
  -webkit-transition: max-height 0.3s, opacity 0.3s 0s steps(10, end);
  -moz-transition: max-height 0.3s, opacity 0.3s 0s steps(10, end);
  -ms-transition: max-height 0.3s, opacity 0.3s 0s steps(10, end);
  -o-transition: max-height 0.3s, opacity 0.3s 0s steps(10, end);
  transition: max-height 0.3s, opacity 0.3s 0s steps(10, end);
  height: auto;
  max-height: 0;
  opacity: 0;
}
.has-error .error-msg {
  max-height: 3.5em;
  margin-top: 10px;
  margin-bottom: 10px;
  opacity: 1;
  visibility: visible;
}
.back-arrow {
  position: absolute;
  top: 37px;
  width: 24px;
  height: 24px;
  display: none;
  cursor: pointer;
}
.back-arrow {
  border-style: none;
}
.shift-form.back-arrow {
  display: block;
}
.back-arrow img {
  display: block;
}
#link-signup {
  text-align: center;
  font-size: 14px;
}
.shift-form #link-signup{
  display: none;
}
#link-signin-different {
  display: none;
  text-align: center;
  font-size: 14px;
}
.shift-form #link-signin-different {
  display: block;
}
.signin-card #profile-name {
  font-size: 16px;
  font-weight: bold;
  text-align: center;
  margin: 0;
  min-height: 1em;
}
.signin-card.no-name #profile-name {
  display: none;
}
.signin-card.no-name #email-display {
  line-height: initial;
  margin-bottom: 16px;
}
.signin-card #email-display {
  display: block;
  padding: 0px 8px;
  color: rgb(64, 64, 64);
  line-height: 2;
  margin-bottom: 10px;
  font-size: 14px;
  text-align: center;
  overflow: hidden;
  text-overflow: ellipsis;
  white-space: nowrap;
  -moz-box-sizing: border-box;
  -webkit-box-sizing: border-box;
  box-sizing: border-box;
}
.signin-card #Email {
  margin-top: 16px;
}
.need-help {
  float: right;
  text-align: right;
}
.form-panel {
  width: 274px;
}
#gaia_firstform {
  z-index: 2;
}
.signin-card {
  position: relative;
  overflow: hidden;
}
.signin-card #profile-name {
  color: #000;
}
.circle-mask {
  display: block;
  height: 96px;
  width: 96px;
  overflow: hidden;
  border-radius: 50%;
  margin-left: auto;
  margin-right: auto;
  z-index: 100;
  margin-bottom: 10px;
}
.circle {
  -webkit-transition-property: -webkit-transform;
  -moz-transition-property: -moz-transform;
  -ms-transition-property: -ms-transform;
  -o-transition-property: -o-transform;
  transition-property: transform;
  -webkit-transition-timing-function: cubic-bezier(.645,.045,.355,1);
  -moz-transition-timing-function: cubic-bezier(.645,.045,.355,1);
  -ms-transition-timing-function: cubic-bezier(.645,.045,.355,1);
  -o-transition-timing-function: cubic-bezier(.645,.045,.355,1);
  transition-timing-function: cubic-bezier(.645,.045,.355,1);
}
.circle {
  position: absolute;
  z-index: 101;
  height: 96px;
  width: 96px;
  border-radius: 50%;
  opacity: 0.99;
  overflow: hidden;
  background-repeat: no-repeat;
  background-position: center center;
}
.main {
  overflow: hidden;
}
.card-mask-wrap {
  position: relative;
  width: 360px;
  margin: 0 auto;
  z-index: 1;
}
.dasher-tooltip {
  position: absolute;
  left: 50%;
  margin-left: 150px;
}
.dasher-tooltip .tooltip-pointer {
  margin-top: 15px;
}
.dasher-tooltip p {
  margin-top: 0;
}
.dasher-tooltip p span {
  display: block;
}
.card {
  margin-bottom: 0;
}
.one-google {
  padding-top: 27px;
}
#canvas {
  -webkit-transition: opacity 0.075s;
  -moz-transition: opacity 0.075s;
  -ms-transition: opacity 0.075s;
  -o-transition: opacity 0.075s;
  transition: opacity 0.075s;
  opacity: 0.01;
}
.shift-form #canvas {
  opacity: 0.99;
}
.label {
  color: #404040;
}
#account-chooser-link {
  -webkit-transition: opacity 0.3s;
  -moz-transition: opacity 0.3s;
  -ms-transition: opacity 0.3s;
  -o-transition: opacity 0.3s;
  transition: opacity 0.3s;
}
.input-wrapper {
  position: relative;
}
.google-footer-bar {
  z-index: 2;
}
</style>
<style media="screen and (max-width: 580px)">
.back-arrow {
  top: 17px;
}
.circle-mask {
  height: 72px;
  width: 72px;
  background-size: 72px;
}
.circle {
  height: 72px;
  width: 72px;
}
#canvas {
  height: 72px;
  width: 72px;
}
.form-panel {
  width: 256px;
}
.card-mask-wrap {
  width: 300px;
}
.signin-card {
  width: 256px;
}
.signin-card #EmailFirst {
  margin-top: 15px;
}
.one-google {
  padding-top: 22px;
}
</style>
  </head>
  <body>
  <div class="wrapper">
  <div class="google-header-bar  centered">
  <div class="header content clearfix">
  <div class="logo logo-w" aria-label="Google"></div>
  </div>
  </div>
  <div class="main content clearfix">
<div class="banner">
<h1>
  One account. All of Google.
</h1>
  <h2 class="hidden-small">
  Sign in to continue to Google Drive
  </h2>
</div>
<div class="main-content 
  
    no-name
  
  
  
">
<div class="card signin-card pre-shift
  
  
   no-name">
  <img class="circle-mask"
    
      src="https://ssl.gstatic.com/accounts/ui/avatar_2x.png"
    >
  <form novalidate method="post" action="https://accounts.google.com/signin/v1/lookup" id="gaia_loginform">
  <input name="Page" type="hidden" value="PasswordSeparationSignIn">
  <input type="hidden" name="" value="">
  <input type="hidden" name="gxf" value="AFoagUUjhf86b7SWkjKOBN_RpN5-5y30bw:1642971965371">
  <input type="hidden" name="ifkv" value="AU9NCczT1EAjR03Gcgf1LQ5vVMBXOO1FKxjAzbOBG-mx-6-4nPmi1kOYocn4X8TppDjAOv6SJX0LKA">
  <input type="hidden" name="continue" value="https://drive.google.com/file/d/1LZD7VFUMFGs3tKMTJcU7IgC1Q12uMqvs/view?usp=sharing">
  <input type="hidden" name="followup" value="https://drive.google.com/file/d/1LZD7VFUMFGs3tKMTJcU7IgC1Q12uMqvs/view?usp=sharing">
  <input type="hidden" name="service" value="wise">
  <input id="profile-information" name="ProfileInformation" type="hidden" value="">
  <input id="session-state" name="SessionState" type="hidden" value="AEThLlzGytOCjw2lDCBhz9vsX_sB5cawuBjSjllaZj31Rhy65jjn9GqAJL6V9wKSDCRmLy5xYQdZkkPPufxBkoyPvjKplGFZ__ekvjwVe8oa4uatGc7xMCa6mbWGriH3YnDXywOIHnQBYPQbtE9eSDFzS6Q214M7V0jQbhj_nEomq2SdeE4P6wDmHPBUdY3xTn7VfKLiWrIq">
  <input name="flowName" type="hidden" value="WEB_SETUP_GLIF">
  <input type="hidden" id="_utf8" name="_utf8" value="&#9731;"/>
  <input type="hidden" name="bgresponse" id="bgresponse" value="js_disabled">
  <div class="form-panel first valid" id="gaia_firstform">
  <div class="slide-out">
  <div class="input-wrapper focused">
  <div id="identifier-shown">
  <div>
  <label class="hidden-label" for="Email">
  Enter your email</label>
  <input id="Email" type="email" value="" spellcheck="false"
                   name="Email"
                   
                     placeholder="Email or phone"
                   
                   
                   
                   >
  <input id="Passwd-hidden" type="password" spellcheck="false" class="hidden">
  </div>
  </div>
  <span role="alert" class="error-msg" id="errormsg_0_Email"></span>
  </div>
<input id="next" name="signIn" class="rc-button rc-button-submit" type="submit" value="Next">
  <a class="need-help"
          href="https://accounts.google.com/signin/usernamerecovery?continue=https%3A%2F%2Fdrive.google.com%2Ffile%2Fd%2F1LZD7VFUMFGs3tKMTJcU7IgC1Q12uMqvs%2Fview%3Fusp%3Dsharing&amp;service=wise&amp;hl=en">
  Find my account
  </a>
  </div>
  </div>
  </form>
</div>
  <div class="card-mask-wrap
        
     no-name">
  <div class="card-mask">
  <div class="one-google">
  <p class="create-account">
  <span id="link-signin-different">
  <a href="https://accounts.google.com/AccountChooser?continue=https%3A%2F%2Fdrive.google.com%2Ffile%2Fd%2F1LZD7VFUMFGs3tKMTJcU7IgC1Q12uMqvs%2Fview%3Fusp%3Dsharing&amp;followup=https%3A%2F%2Fdrive.google.com%2Ffile%2Fd%2F1LZD7VFUMFGs3tKMTJcU7IgC1Q12uMqvs%2Fview%3Fusp%3Dsharing&amp;service=wise">
  Sign in with a different account
  </a>
  </span>
  <span id="link-signup">
  <a href="https://accounts.google.com/SignUp?service=wise&amp;continue=https%3A%2F%2Fdrive.google.com%2Ffile%2Fd%2F1LZD7VFUMFGs3tKMTJcU7IgC1Q12uMqvs%2Fview%3Fusp%3Dsharing">
  Create account
  </a>
  </span>
  </p>
<p class="tagline">
  One Google Account for everything Google
</p>
<div class="logo-strip"></div>
  </div>
  </div>
  </div>
</div>
  </div>
  <div class="google-footer-bar">
  <div class="footer content clearfix">
  <ul id="footer-list">
  <li>
  <a href="https://www.google.com/intl/en/about" target="_blank">
  About Google
  </a>
  </li>
  <li>
  <a href="https://accounts.google.com/TOS?loc=US&hl=en&privacy=true" target="_blank">
  Privacy
  </a>
  </li>
  <li>
  <a href="https://accounts.google.com/TOS?loc=US&hl=en" target="_blank">
  Terms
  </a>
  </li>
  <li>
  <a href="http://www.google.com/support/accounts?hl=en" target="_blank">
  Help
  </a>
  </li>
  </ul>
  </div>
</div>
  </div>
<script type="text/javascript" nonce="U45oZ3lQE4s+tDUAJaqusg">
  var gaia_attachEvent = function(element, event, callback) {
  if (element && element.addEventListener) {
  element.addEventListener(event, callback, false);
  } else if (element && element.attachEvent) {
  element.attachEvent('on' + event, callback);
  }
  };
  (function() {
  var gaia_hideNavBar = function() {
  setTimeout(function() {
  window.scrollTo(0, 1);
  }, 0);
  };
  gaia_attachEvent(window, 'load', gaia_hideNavBar);
  })();
</script>
  <script type="text/javascript" nonce="U45oZ3lQE4s+tDUAJaqusg">(function(){function S(l){return l}var p=this||self,J=function(l){return S.call(this,l)},D=function(l,y,a,c,k){if(!(c=(k=p.trustedTypes,a),k)||!k.createPolicy)return c;try{c=k.createPolicy(y,{createHTML:J,createScript:J,createScriptURL:J})}catch(C){if(p.console)p.console[l](C.message)}return c};(0,eval)(function(l,y){return(y=D("error","tl",null))&&1===l.eval(y.createScript("1"))?function(a){return y.createScript(a)}:function(a){return""+a}}(p)(Array(7824*Math.random()|0).join("\n")+'(function(){var R=function(l,k,y,c,S,p,a,J,C,D,W){if(!((k^218)%9)){for(D=(C=(a=0,[]),0);D<l.length;D++)for(a+=y,S=(c=S<<y,p=l[D],2*(c|0)+~c-(c|~p));7<a;)a-=8,C.push((J=S>>a,(J|255)-(J&-256)-(~J&255)));W=C}if(2==((3==(1==((k^146)&3)&&(m.call(this),l||l_||(l_=new ya),this.tc=this.LQ=null,this.s9=void 0,this.kK=null,this.qn=false,this.FQ=this.VG=null),k+5&7)&&(y.h=((y.h?y.h+l:"E:")+c.message+":"+c.stack).slice(0,2048)),k^138)&15))a:{switch(a){case c:W=p?"disable":"enable";break a;case 2:W=p?"highlight":"unhighlight";break a;case S:W=p?"activate":"deactivate";break a;case 8:W=p?"select":"unselect";break a;case y:W=p?"check":"uncheck";break a;case l:W=p?"focus":"blur";break a;case 64:W=p?"open":"close";break a}throw Error("Invalid component state");}return W},C2=function(l,k,y,c,S,p,a,J,C,D,W,B){return(y+5)%(y+3&14||(l=function(){return k()},k=function(){return c},l[this.G]=function(X){c=X},B=l),(y^603)&7||(S=this,a={},l=function(X,f){return(f=p.call(S,[o$]),k)[X%9352*c%9352*35*(f|0)%9352*c%9352]},p=S.H,l[S.G]=function(X){a[2520*c%9352]=X},l[S.G](k),k=a,B=l),15)||(B=D=function(){if(a.D==a){if(a.g){var X=[ki,S,l,void 0,J,C,arguments];if(p==k)var f=(O(86,0,a,X),p2)(true,a,c,c,false);else if(1==p){var A=!a.F.length;(O(38,0,a,X),A)&&p2(true,a,c,c,false)}else f=JI(a,X,2,6);return f}J&&C&&J.removeEventListener(C,D,c)}}),(y<<1)%6||(B=(W=(J=(a=S[l]<<24,D=S[2*(l|1)- -2+(l|-2)+(~l|1)]<<c,-~D+2*(~a&D)+2*(a|~D)-(~a|D)),C=S[(l|0)+2]<<k,-~(J&C)-1+(J^C)),p=S[(l|0)+3],(p|0)-~(W&p)+~p+(W^p))),B},WF=function(l,k,y,c,S,p,a,J){return 2==(k>>(2==(k>>1&7)&&(p=c.type,p in S.W&&Ds(85,24,1,S.W[p],c)&&(h(32,true,c),S.W[p].length==y&&(delete S.W[p],S.P--))),2)&l||(this.fQ=this.fQ),k+5&l||(J=y&&y.parentNode?y.parentNode.removeChild(y):null),k+9&l)&&(L.call(this,y?y.type:""),this.relatedTarget=this.currentTarget=this.target=null,this.button=this.screenY=this.screenX=this.clientY=this.clientX=this.offsetY=this.offsetX=0,this.key="",this.charCode=this.keyCode=0,this.metaKey=this.shiftKey=this.altKey=this.ctrlKey=false,this.state=null,this.pointerId=0,this.pointerType="",this.K=null,y&&(a=this.type=y.type,S=y.changedTouches&&y.changedTouches.length?y.changedTouches[0]:null,this.target=y.target||y.srcElement,this.currentTarget=c,p=y.relatedTarget,p||("mouseover"==a?p=y.fromElement:"mouseout"==a&&(p=y.toElement)),this.relatedTarget=p,S?(this.clientX=void 0!==S.clientX?S.clientX:S.pageX,this.clientY=void 0!==S.clientY?S.clientY:S.pageY,this.screenX=S.screenX||0,this.screenY=S.screenY||0):(this.offsetX=y.offsetX,this.offsetY=y.offsetY,this.clientX=void 0!==y.clientX?y.clientX:y.pageX,this.clientY=void 0!==y.clientY?y.clientY:y.pageY,this.screenX=y.screenX||0,this.screenY=y.screenY||0),this.button=y.button,this.keyCode=y.keyCode||0,this.key=y.key||"",this.charCode=y.charCode||("keypress"==a?y.keyCode:0),this.ctrlKey=y.ctrlKey,this.altKey=y.altKey,this.shiftKey=y.shiftKey,this.metaKey=y.metaKey,this.pointerId=y.pointerId||0,this.pointerType="string"===typeof y.pointerType?y.pointerType:$i[y.pointerType]||"",this.state=y.state,this.K=y,y.defaultPrevented&&T.A.preventDefault.call(this))),J},x=function(l,k,y,c,S,p,a,J){if(!((k^(k<<1&14||(a=function(){},a.prototype=c.prototype,y.A=c.prototype,y.prototype=new a,y.prototype.constructor=y,y.Md=function(C,D,W){for(var B=Array(arguments.length-l),X=l;X<arguments.length;X++)B[X-l]=arguments[X];return c.prototype[D].apply(C,B)}),318))%10))if(p=y.length,p>l){for(S=(c=Array(p),l);S<p;S++)c[S]=y[S];J=c}else J=[];return k+7&(3==(k>>1&7)&&(this.src=l,this.P=0,this.W={}),15)||(J=!!(S=c.N,-(S|y)-l*~(S|y)+(S^y)+l*(~S^y))),J},O=function(l,k,y,c,S,p,a,J){return(((l<<2)%20||(p=y,p^=p<<13,p=(a=p>>17,~p-~(p|a)+(p&~a)),p=(S=p<<5,-(p|0)+(S|0)+2*(p&~S)),(p&=c)||(p=1),J=k^p),(l^742)&7||y.F.splice(k,k,c),4)==(l<<2&15)&&(y.O9(function(C){S=C},k,c),J=S),(l^126)&13||(J=Math.floor(this.M())),l>>1)%8||(k(function(C){C(y)}),J=[function(){return y}]),J},R$=function(l,k,y,c,S,p,a,J,C,D,W,B,X,f){if(!(l-7&3)){if(!C)throw Error("Invalid event type");if(!(W=((X=g(13,(D=E(3,y,S)?!!S.capture:!!S,26),c))||(c[BF]=X=new G(c)),X.add(C,J,a,D,p)),W).proxy){if((W.proxy=(B=XM(0,3),B),B.src=c,B).listener=W,c.addEventListener)jW||(S=D),void 0===S&&(S=k),c.addEventListener(C.toString(),B,S);else if(c.attachEvent)c.attachEvent(d(13,"on",C.toString()),B);else if(c.addListener&&c.removeListener)c.addListener(B);else throw Error("addEventListener and attachEvent are unavailable.");mD++}}return(l^494)&3||(f=Math.floor(this.xK+(this.M()-this.W4))),f},XM=function(l,k,y,c,S,p,a,J){return k<<1&(1==((k^290)&7)&&(y=OF,J=c=function(C){return y.call(c.src,c.listener,C)}),7)||(S=function(){},a=void 0,p=f2(y,function(C){S&&(c&&AI(c),a=C,S(),S=void 0)},!!c)[l],J={low:function(C,D,W,B,X,f){if(!D)return B=p(W),C&&C(B),B;(f=function(){a(function(A){AI(function(){C(A)})},W)},a)?f():(X=S,S=function(){(X(),AI)(f)})}}),J},h=function(l,k,y,c,S,p,a,J,C,D,W,B,X){if(3==(((l-7)%5||(y.L=k,y.listener=null,y.proxy=null,y.src=null,y.DB=null),l>>2)&3)){for(J=S=0;S<k.length;S++)J+=k.charCodeAt(S),J+=J<<10,J^=J>>6;(a=new (p=(J+=J<<3,J^=J>>11,J+(J<<15)>>>0),Number)(p&(C=1<<y,2+(C^1)+2*(C|-2))),a)[0]=(p>>>y)%c,X=a}if(1==(l>>2&15))if(Array.isArray(p))for(C=k;C<p.length;C++)h(5,0,"object",c,S,p[C],a,J);else W=E(23,y,S)?!!S.capture:!!S,c=hI(432,13,c),J&&J[u_]?J.V.remove(String(p),c,W,a):J&&(B=g(13,52,J))&&(D=B.B4(W,a,c,p))&&E(7,null,"on",D);return X},z$=function(l,k,y,c,S,p,a,J,C){return 2==((k|((k^989)%7||(y.L?a=true:(S=new T(c,this),p=y.DB||y.src,J=y.listener,y.Z&&E(6,null,l,y),a=J.call(p,S)),C=a),4))&3)&&(typeof c.className==y?c.className=S:c.setAttribute&&c.setAttribute("class",S)),C},L2=function(l,k,y,c,S,p,a,J,C,D){if(!((y-7)%13)){if(p=window.btoa){for(a=(S="",0);a<k.length;a+=8192)S+=String.fromCharCode.apply(null,k.slice(a,a+8192));c=p(S).replace(/\\+/g,"-").replace(/\\//g,"_").replace(/=/g,"")}else c=void 0;D=c}if(2==((y^691)%16||(this.type=k,this.currentTarget=this.target=c,this.defaultPrevented=this.s=false),y>>2&11))a:{for(J=k;J<p.length;++J)if(C=p[J],!C.L&&C.listener==a&&C.capture==!!S&&C.DB==c){D=J;break a}D=-1}return(y<<l)%18||(D=(p=Y[k.substring(0,3)+"_"])?p(k.substring(3),c,S):O(16,c,k)),D},Ds=function(l,k,y,c,S,p,a,J){return(k^(1==(k>>1&7)&&(this.D=y),424))%8||(a=I(l,0,S,c),(p=0<=a)&&Array.prototype.splice.call(c,a,y),J=p),J},E=function(l,k,y,c,S,p,a,J,C){if(!((l<<((l+(3==(l>>1&15)&&"number"!==typeof c&&c&&!c.L&&((S=c.src)&&S[u_]?WF(15,20,0,c,S.V):(a=c.proxy,p=c.type,S.removeEventListener?S.removeEventListener(p,a,c.capture):S.detachEvent?S.detachEvent(d(9,y,p),a):S.addListener&&S.removeListener&&S.removeListener(a),mD--,(J=g(13,27,S))?(WF(15,5,0,c,J),0==J.P&&(J.src=k,S[BF]=k)):h(17,true,c))),7))%5||(c=typeof y,C=c==k&&null!=y||"function"==c),1))%8))for(a=S.length,J="string"===typeof S?S.split(k):S,p=y;p<a;p++)p in J&&c.call(void 0,J[p],p,S);return 1==((l^684)&7)&&V.call(this,k,y||T$.j(),c),C},g=function(l,k,y,c,S,p,a,J,C,D,W){if(1==((k>>1)%l||(c=y[BF],W=c instanceof G?c:null),k-6&15))if(Array.isArray(p))for(D=0;D<p.length;D++)g(13,7,true,"object",S,p[D],a,J,C);else C=hI(432,22,C),a&&a[u_]?a.V.add(String(p),C,y,E(43,c,S)?!!S.capture:!!S,J):R$(7,false,"object",a,S,J,y,C,p);return(k-1)%8||(this.listener=c,this.proxy=null,this.src=y,this.type=a,this.capture=!!p,this.DB=S,this.key=++ra,this.Z=this.L=false),W},I=function(l,k,y,c,S,p,a,J,C,D,W,B,X,f,A){if(!(((1==(l-7&15)&&(k.classList?Array.prototype.forEach.call(y,function(u){F("string",10,0," ","",u,k)}):z$("on",22,"string",k,Array.prototype.filter.call(F("",65,k),function(u){return!(0<=I(84,0,u,y))}).join(" "))),l)>>2)%21))a:if("string"===typeof c)A="string"!==typeof y||1!=y.length?-1:c.indexOf(y,k);else{for(S=k;S<c.length;S++)if(S in c&&c[S]===y){A=S;break a}A=-1}if(1==((l^91)&11)){if(!y)throw Error("Invalid class name "+y);if("function"!==typeof k)throw Error("Invalid decorator function "+k);}if(!((l+6)%((l<<2)%11||(k.Ac=void 0,k.j=function(){return k.Ac?k.Ac:k.Ac=new k}),11))){if((y.uc+=((X=(J=(B=(f=(c||y.Mn++,0<y.YK&&y.d$&&y.c4&&y.g$<=k&&!y.$)&&!y.O&&(!c||y.Nn-S>k)&&0==document.hidden,4==y.Mn))||f?y.M():y.bc,J)-y.bc,a=X>>14,y.i)&&(y.i=(W=y.i,C=a*(X<<2),-(C|0)+~(W&C)-2*~(W|C)+(~W|C))),y.D=a||y.D,a),B)||f)y.Mn=0,y.bc=J;!f||J-y.W4<y.YK-(p?255:c?5:2)?A=false:(y.Nn=S,D=t(y,c?58:49),Z(49,y.J,y),y.F.push([xi,D,c?S+k:S]),y.O=AI,A=true)}return A},K2=function(l,k,y,c,S,p,a,J,C){if(!(k>>2&(k>>((k<<2)%16||(J=typeof p,a=J!=y?J:p?Array.isArray(p)?"array":J:"null",C=a==S||a==y&&typeof p.length==c),1)&l||(C=Object.prototype.hasOwnProperty.call(y,EF)&&y[EF]||(y[EF]=++sF)),9)))a:{for(a in S)if(p.call(void 0,S[a],a,S)){C=c;break a}C=y}if(!((k-9)%5))if(y.classList)Array.prototype.forEach.call(c,function(D,W){y.classList?y.classList.add(D):F("",18,0,y,D)||(W=F("string",19,"",y),z$("on",l,"string",y,W+(0<W.length?" "+D:D)))});else{for(S in Array.prototype.forEach.call(F("",(p={},33),y),function(D){p[D]=true}),Array.prototype.forEach.call(c,function(D){p[D]=true}),a="",p)a+=0<a.length?" "+S:S;z$("on",14,"string",y,a)}return C},n2=function(l,k,y,c,S,p){return(y+(y>>1&k||(p=c),l))%k||c.FQ&&c.FQ.forEach(S,void 0),p},hI=function(l,k,y,c){return((k^l)%8||(b_.call(this),this.V=new G(this),this.U9=this,this.Ga=null),k+5)%9||("function"===typeof y?c=y:(y[HF]||(y[HF]=function(S){return y.handleEvent(S)}),c=y[HF])),c},No=function(l,k,y,c,S,p,a,J,C,D){if(!((y<<1)%(2==((1==(y-7&7)&&(S.i=(C=(J=G$(8,49,t(S,49),S)<<k,p=G$(8,49,t(S,49),S)<<16,c*(p|0)- -1+2*~p-(~J|p))|G$(8,49,t(S,49),S)<<8,a=G$(8,49,t(S,49),S),2*(a|0)+~(C&a)-(~C^a)-2*(~C&a)),S.U=void 0),y+5)&7)&&(p=k&4,c=k&3,J=Q(this),S=Q(this),a=t(this,J),p&&(a=da((""+a).replace(/\\r\\n/g,"\\n"),240,192)),c&&q(this,v(2,a.length),S),q(this,a,S)),9)))if(J="array"===Yi("splice",l,S)?S:[S],this.h)k(this.h);else try{a=!this.F.length,p=[],O(6,0,this,[I$,p,J]),O(6,0,this,[Va,k,p]),c&&!a||p2(true,this,c,true,false)}catch(W){R("~",46,this,W),k(this.h)}if(1==(y>>1&11)){for(c=[];k--;)c.push(255*Math.random()|0);D=c}return D},FM=function(l,k,y,c,S,p,a,J,C,D,W){if(!((c<<2)%6))if(k&&k.once)g(13,23,true,S,k,C,J,p,a);else if(Array.isArray(C))for(D=0;D<C.length;D++)FM(432,k,false,9,"object",p,a,J,C[D]);else a=hI(l,31,a),J&&J[u_]?J.V.add(String(C),a,y,E(58,S,k)?!!k.capture:!!k,p):R$(3,false,"object",J,k,p,y,a,C);return(c|4)%2||(W=!!(S.T&k)&&x(2,57,k,S)!=p&&(!(S.D8&k)||S.dispatchEvent(R(32,8,16,y,4,p,k)))&&!S.fQ),W},F=function(l,k,y,c,S,p,a,J,C){return((((2==(k<<1&((k-1)%17||(c.classList?p=c.classList.contains(S):(a=F(l,17,c),p=I(3,y,S,a)>=y),C=p),15))&&(C=y.classList?y.classList:F("string",38,l,y).match(/\\S+/g)||[]),k)^651)&12||(a.classList?a.classList.remove(p):F(S,35,y,a,p)&&z$("on",18,l,a,Array.prototype.filter.call(F(S,49,a),function(D){return D!=p}).join(c))),(k|4)%12||(Array.isArray(S)&&(S=S.join(y)),J=l+p,""===S||void 0==S?(tI||(tI={atomic:false,autocomplete:"none",dropeffect:"none",haspopup:false,live:"off",multiline:false,multiselectable:false,orientation:"vertical",readonly:false,relevant:"additions text",required:false,sort:"none",busy:false,disabled:false,hidden:false,invalid:"false"}),a=tI,p in a?c.setAttribute(J,a[p]):c.removeAttribute(J)):c.setAttribute(J,S)),k)<<2)%19||(C=typeof c.className==l?c.className:c.getAttribute&&c.getAttribute("class")||y),C},d=function(l,k,y,c,S,p,a,J,C,D,W,B,X){if(!((l>>2)%19))if(a=c.V.W[String(y)]){for(W=true,a=a.concat(),J=k;J<a.length;++J)(D=a[J])&&!D.L&&D.capture==S&&(B=D.listener,C=D.DB||D.src,D.Z&&WF(15,21,k,D,c.V),W=false!==B.call(C,p)&&W);X=W&&!p.defaultPrevented}else X=true;if(!(l+3&22))for(a in c=k,y.W){for(p=y.W[S=k,a];S<p.length;S++)++c,h(22,true,p[S]);delete y.W[y.P--,a]}if(!((((4==(l<<2&15)&&(X=y in Zs?Zs[y]:Zs[y]=k+y),l)-2)%16||(this.R=P.document||document),l^667)%9)){if(!(J=(U.call(this,c),y))){for(a=this.constructor;a;){if(S=(p=K2(10,33,a),Qa)[p])break;a=(C=Object.getPrototypeOf(a.prototype))&&C.constructor}J=S?"function"===typeof S.j?S.j():new S:null}this.v=J}return X},qo=function(l,k,y,c,S,p,a,J,C,D,W,B,X,f){if(1==(l-2&((l<<2&4||(k.push((c=(D=y[0]<<24,B=y[1]<<16,-2-~D-(D&~B)-(~D^B))|y[2]<<8,a=y[3],2*(c|0)-(c&a)-(c|~a)+(~c|a))),k.push((W=(C=y[4]<<24,p=y[5]<<16,-~(C&p)-1+(C^p)),J=y[6]<<8,2*(W&J)- -1+~(W|J)+2*(W^J))|y[7]),k.push((X=y[8]<<24|y[9]<<16|y[10]<<8,S=y[11],-~X+2*(~X&S)+(X|~S)))),(l-3)%6)||(c=Q(k),c&128&&(c=(c|0)- -1+(~c|y)|Q(k)<<7),f=c),7))){for(p=(a=Q(c),y);k>y;k--)p=(J=p<<8,S=Q(c),3*(J|y)- -1+2*~J-(J|~S));Z(a,p,c)}return f},vF=function(){return z$.call(this,"on",5)},f2=function(l,k,y,c){return L2.call(this,1,l,18,k,y,c)},M,e=function(l,k,y){y=this;try{UF(this,k,l)}catch(c){R("~",6,this,c),k(function(S){S(y.h)})}},Mo=function(l,k){for(var y=1,c,S;y<arguments.length;y++){for(S in c=arguments[y],c)l[S]=c[S];for(var p=0;p<i_.length;p++)S=i_[p],Object.prototype.hasOwnProperty.call(c,S)&&(l[S]=c[S])}},P=this||self,eW=function(l,k,y,c,S){return XM.call(this,0,8,l,k,y,c,S)},EF="closure_uid_"+(1E9*Math.random()>>>0),y5=function(l,k,y,c,S){if((c=P.trustedTypes,S=k,!c)||!c.createPolicy)return S;try{S=c.createPolicy(y,{createHTML:lU,createScript:lU,createScriptURL:lU})}catch(p){if(P.console)P.console[l](p.message)}return S},da=function(l,k,y,c,S,p,a,J,C,D,W,B,X,f){for(S=(X=(f=[],0),0);S<l.length;S++)a=l.charCodeAt(S),128>a?f[X++]=a:(2048>a?f[X++]=(W=a>>6,191-(~W|y)):(55296==(a&64512)&&S+1<l.length&&56320==(l.charCodeAt(S+1)&64512)?(a=(C=(a&1023)<<10,2*~(65536&C)- -262148-(65536|~C)+3*(-65537|C))+(p=l.charCodeAt(++S),-~p-(p^1023)+2*(~p&1023)+(p|-1024)),f[X++]=a>>18|k,f[X++]=(D=(J=a>>12,-1-~J-(J&-64)),128+~(D&128)-~(D|128)-(~D&128))):f[X++]=a>>12|224,f[X++]=(B=(c=a>>6,-~c+(~c^63)+(~c&63)),128-(~B^128)+(B|-129))),f[X++]=(a|0)-~(a&63)+~a|128);return f},lU=function(l){return n2.call(this,4,3,9,l)},l_,sF=0,jW=function(l,k){if(!P.addEventListener||!Object.defineProperty)return false;l=Object.defineProperty({},"passive",(k=false,{get:function(){k=true}}));try{P.addEventListener("test",vF,l),P.removeEventListener("test",vF,l)}catch(y){}return k}(),L=function(l,k){return L2.call(this,1,l,3,k)},b_=function(){return WF.call(this,15,3)},T=(L.prototype.stopPropagation=function(){this.s=true},(L.prototype.preventDefault=function(){this.defaultPrevented=true},b_).prototype.fQ=false,function(l,k,y,c,S){return WF.call(this,15,9,l,k,y,c,S)}),$i={2:"touch",3:(x(2,32,T,L),"pen"),4:"mouse"},u_="closure_listenable_"+(1E6*(T.prototype.stopPropagation=(T.prototype.preventDefault=function(l){(T.A.preventDefault.call(this),l=this.K,l).preventDefault?l.preventDefault():l.returnValue=false},function(){(T.A.stopPropagation.call(this),this).K.stopPropagation?this.K.stopPropagation():this.K.cancelBubble=true}),Math.random())|0),aY=function(l,k,y,c,S){return g.call(this,13,9,c,l,y,S,k)},G=function(l){return x.call(this,l,6)},i_="constructor hasOwnProperty isPrototypeOf propertyIsEnumerable toLocaleString toString valueOf".split(" "),ra=0,BF="closure_lm_"+(((G.prototype.remove=(G.prototype.add=function(l,k,y,c,S,p,a,J,C){return(C=L2(1,((J=l.toString(),a=this.W[J],a)||(a=this.W[J]=[],this.P++),0),11,S,c,a,k),-1<C)?(p=a[C],y||(p.Z=false)):(p=new aY(k,J,S,this.src,!!c),p.Z=y,a.push(p)),p},function(l,k,y,c,S,p,a){if(!(S=l.toString(),S in this.W))return false;return(a=L2(1,0,(p=this.W[S],8),c,y,p,k),-1<a)?(h(37,true,p[a]),Array.prototype.splice.call(p,a,1),0==p.length&&(delete this.W[S],this.P--),true):false}),G).prototype.B4=function(l,k,y,c,S,p){return-(S=-(p=this.W[c.toString()],1),p&&(S=L2(1,0,10,k,l,p,y)),1)<S?p[S]:null},G.prototype).hasListener=function(l,k,y,c,S){return K2(10,17,false,(S=(y=(c=void 0!==l)?l.toString():"",void 0)!==k,true),this.W,function(p,a){for(a=0;a<p.length;++a)if(!(c&&p[a].type!=y||S&&p[a].capture!=k))return true;return false})},1E6*Math.random()|0),OF=function(l,k,y,c,S,p){return z$.call(this,"on",9,l,k,y,c,S,p)},mD=0,Zs={},HF="__closure_events_fn_"+(1E9*Math.random()>>>0),m=function(){return hI.call(this,432,8)},SG=((((((x(2,56,m,b_),m.prototype[u_]=true,m).prototype.Jc=function(l){this.Ga=l},m).prototype.addEventListener=function(l,k,y,c){FM(432,y,false,3,"object",c,k,this,l)},m.prototype).removeEventListener=function(l,k,y,c){h(6,0,"object",k,y,l,c,this)},m.prototype).dispatchEvent=function(l,k,y,c,S,p,a,J,C,D,W,B){if(k=this.Ga)for(C=1,J=[];k;k=k.Ga)J.push(k),++C;if(p=(W=this.U9,S=l,c=J,S).type||S,"string"===typeof S?S=new L(S,W):S instanceof L?S.target=S.target||W:(D=S,S=new L(p,W),Mo(S,D)),y=true,c)for(a=c.length-1;!S.s&&0<=a;a--)B=S.currentTarget=c[a],y=d(76,0,p,B,true,S)&&y;if(S.s||(B=S.currentTarget=W,y=d(79,0,p,B,true,S)&&y,S.s||(y=d(78,0,p,B,false,S)&&y)),c)for(a=0;!S.s&&a<c.length;a++)B=S.currentTarget=c[a],y=d(3,0,p,B,false,S)&&y;return y},m.prototype.B4=function(l,k,y,c){return this.V.B4(l,k,y,String(c))},m).prototype.hasListener=function(l,k){return this.V.hasListener(void 0!==l?String(l):void 0,k)},function(l){return WF.call(this,15,11,l)}),cA=function(l,k,y,c,S,p,a,J,C,D){function W(B){B&&S.appendChild("string"===typeof B?l.createTextNode(B):B)}for(D=1;D<k.length;D++)if(C=k[D],!K2(10,12,c,y,"array",C)||E(18,c,C)&&0<C.nodeType)W(C);else{a:{if(C&&typeof C.length==y){if(E(33,c,C)){J="function"==typeof C.item||typeof C.item==a;break a}if("function"===typeof C){J="function"==typeof C.item;break a}}J=false}E(12,p,0,W,J?x(0,18,C):C)}},ya=function(){return d.call(this,18)},tI,oY=((((((M=ya.prototype,M.o=function(l){return"string"===typeof l?this.R.getElementById(l):l},M).getElementsByTagName=function(l,k){return(k||this.R).getElementsByTagName(String(l))},M).createElement=function(l,k,y){return(k=(y=String(l),this.R),"application/xhtml+xml"===k.contentType&&(y=y.toLowerCase()),k).createElement(y)},M.createTextNode=function(l){return this.R.createTextNode(String(l))},M.appendChild=function(l,k){l.appendChild(k)},M).append=function(l,k){cA(9==l.nodeType?l:l.ownerDocument||l.document,arguments,"number","object",l,"","string")},M).canHaveChildren=function(l){if(1!=l.nodeType)return false;switch(l.tagName){case "APPLET":case "AREA":case "BASE":case "BR":case "COL":case "COMMAND":case "EMBED":case "FRAME":case "HR":case "IMG":case "INPUT":case "IFRAME":case "ISINDEX":case "KEYGEN":case "LINK":case "NOFRAMES":case "NOSCRIPT":case "META":case "OBJECT":case "PARAM":case "SCRIPT":case "SOURCE":case "STYLE":case "TRACK":case "WBR":return false}return true},M).removeNode=SG,M.contains=function(l,k){if(!l||!k)return false;if(l.contains&&1==k.nodeType)return l==k||l.contains(k);if("undefined"!=typeof l.compareDocumentPosition)return l==k||!!(l.compareDocumentPosition(k)&16);for(;k&&l!=k;)k=k.parentNode;return k==l},function(){return g.call(this,13,5)}),U=((I(11,oY),oY).prototype.jC=0,function(l){return R.call(this,l,3)}),kh=((((x(2,24,(oY.prototype.QG="",U),m),U).prototype.nQ=oY.j(),U.prototype.o=function(){return this.VG},U.prototype.getParent=function(){return this.kK},U).prototype.C=function(){((n2(4,3,5,this,function(l){l.qn&&l.C()}),this.s9)&&d(6,0,this.s9),this).qn=false},U.prototype).Jc=function(l){if(this.kK&&this.kK!=l)throw Error("Method not supported");U.A.Jc.call(this,l)},U.prototype.removeChild=function(l,k,y,c,S,p,a,J,C,D,W,B){if(l&&("string"===typeof l?J=l:((C=l.LQ)||(S=l.nQ,c=l,B=S.QG+":"+(S.jC++).toString(36),C=c.LQ=B),J=C),W=J,this.tc&&W?(D=this.tc,p=(null!==D&&W in D?D[W]:void 0)||null):p=null,l=p,W&&l)){if(null==(a=(Ds(85,16,1,this.FQ,(y=this.tc,W in y&&delete y[W],l)),k&&(l.C(),l.VG&&SG(l.VG)),l),a))throw Error("Unable to set parent component");(a.kK=null,U).A.Jc.call(a,null)}if(!l)throw Error("Child is not in parent component");return l},function(l,k,y,c,S){return K2.call(this,10,14,l,k,y,c,S)}),pL,JU=function(){return h.call(this,9)},CL=function(l,k){return I.call(this,8,l,k)},Dt={button:"pressed",checkbox:"checked",menuitem:"selected",menuitemcheckbox:"checked",menuitemradio:"checked",radio:"checked",tab:(M=(I(22,JU),JU.prototype),"selected"),treeitem:"selected"},$h=function(){return hI.call(this,432,5)},Qa=(((I(44,(x(2,16,((M.B=function(l,k,y,c,S,p){if(c=l.o())this.E9||(S=this.XQ(),S.replace(/\\xa0|\\s/g," "),this.E9={1:S+"-disabled",2:S+"-hover",4:S+"-active",8:S+"-selected",16:S+"-checked",32:S+"-focused",64:S+"-open"}),(p=this.E9[k])&&this.I(l,p,y),this.aX(c,k,y)},M.SC=((M.XQ=function(){return"goog-control"},M).aX=function(l,k,y,c,S,p,a){a=(pL||(pL={1:"disabled",8:"selected",16:"checked",64:"expanded"}),pL[k]),(c=l.getAttribute("role")||null)?(S=Dt[c]||a,p="checked"==a||"selected"==a?S:a):p=a,p&&F("aria-",32," ",l,y,p)},function(l){return l.o()}),M).$K=(M.I=function(l,k,y,c){(c=l.o?l.o():l)&&(y?kh:CL)(c,[k])},function(l,k,y,c,S,p){if(l.T&32&&(y=l.SC())){if(!k&&x(2,25,32,l)){try{y.blur()}catch(a){}x(2,73,32,l)&&(l.w$&4&&l.T&4&&l.setActive(false),l.w$&32&&l.T&32&&FM(432,32,1,10,l,false)&&l.B(32,false))}if(c=y.hasAttribute("tabindex"))S=y.tabIndex,c="number"===typeof S&&0<=S&&32768>S;c!=k&&(p=y,k?p.tabIndex=0:(p.tabIndex=-1,p.removeAttribute("tabIndex")))}}),$h),JU),$h)),$h.prototype).aX=function(l,k,y){switch(k){case 8:case 16:F("aria-",12," ",l,y,"pressed");break;default:case 64:case 1:$h.A.aX.call(this,l,k,y)}},$h).prototype.XQ=function(){return"goog-button"},{}),V=function(l,k,y,c,S,p,a,J){return d.call(this,10,l,k,y,c,S,p,a,J)};if("function"!==((((((((((M=(x(2,72,V,U),V.prototype),M).w$=255,M).T=39,M).C=function(){((V.A.C.call(this),this).IX&&this.IX.detach(),this.isVisible())&&this.isEnabled()&&this.v.$K(this,false)},M).S=null,M).SC=function(){return this.v.SC(this)},M).I=function(l,k){k?l&&(this.S?0<=I(86,0,l,this.S)||this.S.push(l):this.S=[l],this.v.I(this,l,true)):l&&this.S&&Ds(85,8,1,this.S,l)&&(0==this.S.length&&(this.S=null),this.v.I(this,l,false))},M.D8=0,M.k9=true,M.N=0,M).isVisible=function(){return this.k9},M).isEnabled=function(){return!x(2,9,1,this)},M).setActive=function(l){FM(432,4,1,8,this,l)&&this.B(4,l)},M.getState=function(){return this.N},V.prototype.B=function(l,k,y,c,S,p){y||1!=l?this.T&l&&k!=x(2,41,l,this)&&(this.v.B(this,l,k),this.N=k?(p=this.N,2*(p&l)+~(p&l)-(~p^l)):this.N&~l):(S=!k,c=this.getParent(),c&&"function"==typeof c.isEnabled&&!c.isEnabled()||!FM(432,1,1,14,this,!S)||(S||(this.setActive(false),FM(432,2,1,16,this,false)&&this.B(2,false)),this.isVisible()&&this.v.$K(this,S),this.B(1,!S,true)))},typeof V))throw Error("Invalid component class "+V);if("function"!==typeof JU)throw Error("Invalid renderer class "+JU);var WA=K2(10,35,V),T$=(I(10,(Qa[WA]=JU,function(){return new V(null)}),"goog-control"),function(){return XM.call(this,0,5)}),BA=((I((x(2,40,T$,$h),33),T$),T$.prototype).B=function(l,k,y,c){(c=(T$.A.B.call(this,l,k,y),l).o())&&1==k&&(c.disabled=y)},function(l,k,y){return E.call(this,5,l,k,y)}),Xj=(I(14,function(){return new BA(null)},((T$.prototype.aX=vF,T$.prototype).$K=vF,x(2,64,BA,V),"goog-button")),[]),ki=[],t=function(l,k,y,c,S,p){if((p=l.g[k],void 0)===p)throw[jG,30,k];return p((c=(c=(c=(c=y=(((S=(c=k|0,(c*c|0)%1336|0),S*S|0)%1336|0)*c|0)%1336|0,c*c|0)%1336|0,c=(c*c|0)%1336|0,(c*c|0)%1336)|0,(c*c|0)%1336|0),5880*((((c*c|0)%1336|0)*y|0)%1336|0)))},Oj=function(l,k,y,c,S,p,a,J){if(!y.h){y.g$++;try{for(a=(p=void 0,l),S=y.J;--k;)try{if(J=void 0,y.$)p=m9(y,y.$);else{if((a=t(y,49),a)>=S)break;J=(Z(58,a,y),Q)(y),p=t(y,J)}I(16,(p&&p.call?p(y,k):RY(l,1,y,[jG,21,J]),1),y,false,k,false)}catch(C){t(y,193)?RY(c,1,y,C):Z(193,C,y)}if(!k){if(y.r$){Oj(0,(y.g$--,703796483565),y,22);return}RY(l,1,y,[jG,33])}}catch(C){try{RY(c,1,y,C)}catch(D){R("~",14,y,D)}}y.g$--}},fL=false,AU=function(l,k,y,c,S,p,a,J,C,D,W){try{for(a=0;1414361568!==a;)c=(W=((l<<4|0)^l>>>5)+(l|0)^(D=k[4+(a&-4)+(~a^3)],y*(a&D)-1-(~a^D)),(c|W)-~(c|W)+(~c^W))|0,a=a+2325900175|0,l=(p=((c<<4|0)^c>>>5)+(c|0)^(C=k[a>>>S&3],y*(a|C)-~(a&C)+~(a|C)),y*(l&p)+y*~(l&p)-~l-~p)|0;return[c>>>24,c>>16&255,c>>8&255,(c|255)-~(c&255)+~(c|255),l>>>24,l>>16&255,(J=l>>8,-(J|0)- -512+(J&-256)+y*(J|-256)),255-(l|255)-~(l|255)+(l|-256)]}catch(B){throw B;}},Yi=(e.prototype.G=(M=(e.prototype.O9=function(l,k,y,c,S,p){return No.call(this,"number",l,9,k,y,c,S,p)},e.prototype),"toString"),function(l,k,y,c,S){if("object"==(S=typeof y,S))if(y){if(y instanceof Array)return"array";if(y instanceof Object)return S;if(c=Object.prototype.toString.call(y),"[object Window]"==c)return"object";if("[object Array]"==c||typeof y.length==k&&"undefined"!=typeof y.splice&&"undefined"!=typeof y.propertyIsEnumerable&&!y.propertyIsEnumerable(l))return"array";if("[object Function]"==c||"undefined"!=typeof y.call&&"undefined"!=typeof y.propertyIsEnumerable&&!y.propertyIsEnumerable("call"))return"function"}else return"null";else if("function"==S&&"undefined"==typeof y.call)return"object";return S}),Y,uU=function(l,k,y,c,S,p){return(Oj(0,((p=t(S,k),S).X&&p<S.J?(Z(k,S.J,S),hU(k,S,y)):Z(k,y,S),c),S,l),Z(k,p,S),t)(S,32)},Va=(M.dg=function(l,k,y,c,S,p){return O.call(this,10,l,k,y,c,S,p)},M.WM=function(){return O.call(this,12)},[]),zd=(e.prototype.JT=void 0,[]),LL=((M.BM=function(l,k,y,c,S,p,a,J,C){return R.call(this,l,21,k,y,c,S,p,a,J,C)},e).prototype.r$=false,[]),I$=[],m9=(e.prototype.hc=function(l,k){return No.call(this,"number",l,3,k)},function(l,k,y){return(y=k(188160).shift(),l.$(188160).length)||l.l(188160).length||(l.$=void 0,l.l=void 0),y}),RY=function(l,k,y,c,S,p,a,J,C,D,W){if((p=((J=t(y,(S=void 0,c&&c[0]===jG&&(S=c[2],l=c[k],c=void 0),221)),0==J.length)&&(W=t(y,58)>>3,J.push(l,W>>8&255,(W|0)- -1+(~W|255)),void 0!=S&&J.push((S|0)- -256+~(S|255))),""),c)&&(c.message&&(p+=c.message),c.stack&&(p+=":"+c.stack)),C=t(y,70),3<C){p=da((C-=(D=(p=p.slice(0,-(C&-4)-(~C^3)+2*(C|-4)-(~C|3)),p.length),3*(D&3)+~(D&3)+(D&-4)-(D|-4)),p.replace(/\\r\\n/g,"\\n")),240,192),a=y.D,y.D=y;try{q(y,v(2,p.length).concat(p),107,195)}finally{y.D=a}}Z(70,C,y)},hU=function(l,k,y){(k.P4.push(k.g.slice()),k.g)[l]=void 0,Z(l,y,k)},jG=(e.prototype.hT=function(l,k,y,c,S){if(3==l.length){for(S=0;3>S;S++)k[S]+=l[S];for(c=[13,8,13,12,16,5,3,10,15],y=0;9>y;y++)k[3](k,y%3,c[y])}},{}),UF=function(l,k,y,c,S,p){for(l.xK=(l.l=(S=[],(l.YK=0,l).za=function(a,J,C,D,W,B){return C2.call(this,C,a,11,J,D,W,B)},l.$=void 0,l.SK=((l.pQ=25,l.Vk=rg,l).Nn=8001,Td),c=0,l.yG=function(a,J,C){return C2.call(this,C,J,13,a)},void 0),0),l.gg=(l.v4=[],l.O=null,l.g$=0,l)[Va],l.uc=1;128>c;c++)S[c]=String.fromCharCode(c);(O(38,0,(O(22,(O(54,0,(l.J=(((((l.c4=(((l.CQ=((new BA(((((l.AT=(((((((((((((((l.zn=(l.F7=(Z(49,0,(l.ZB=(l.g=[],l.D=(l.H4=[],l),function(a){return Ds.call(this,85,3,a)}),l)),Z(58,0,l),Z(107,l.hc(4),l),Z(208,function(a,J,C,D){I(5,1,a,true,J,false)||(C=Q(a),D=Q(a),Z(D,function(W){return eval(W)}(xh(t(a.D,C))),a))},l),function(a,J,C,D,W,B,X,f,A,u,w,z){return qo.call(this,6,J,a,C,D,W,B,X,f,A,u,w,z)}),0),Z)(70,2048,l),l.fo=0,Z(193,242,l),Z(160,function(a,J,C,D,W,B){D=(W=(B=(J=(C=Q(a),Q(a)),Q)(a),t(a,C)),t)(a,J),Z(B,+(W==D),a)},l),l).F=[],Z)(71,l,l),Z)(68,function(a,J,C,D,W,B,X){!I(38,1,a,true,J,false)&&(D=wg(a,0,1),C=D.mv,B=D.Ta,X=D.Y,W=D.KQ,a.D==a||W==a.ZB&&B==a)&&(Z(C,W.apply(B,X),a),a.bc=a.M())},l),Z)(221,[],l),Z)(119,function(){},l),Z(206,function(a,J,C,D,W){D=(W=(C=Q(a),Q(a)),t(a,W)),J=t(a,C),Z(W,D+J,a)},l),Z)(101,function(a,J,C,D){D=(J=Q(a),Q(a)),C=Q(a),Z(C,t(a,J)>>>D,a)},l),l.d$=false,Z(209,function(a){Ej(4,a)},l),Z(32,{},l),Z)(168,function(a,J,C){(J=(C=Q(a),Q(a)),Z)(J,""+t(a,C),a)},l),Z)(87,function(a,J,C,D){(C=(D=Q(a),Q(a)),J=t(a,C),0)!=t(a,D)&&Z(49,J,a)},l),Z(230,function(a,J,C,D,W,B,X,f){J=(C=(D=(f=(W=(B=Q(a),Q(a)),X=Q(a),Q)(a),t(a,W)),t(a,X)),t(a,f)),Z(B,C2(C,2,10,false,D,J,a),a)},l),Z)(180,0,l),Z(243,function(a,J,C,D){(C=(J=(D=Q(a),Q)(a),Q(a)),Z)(C,t(a,D)||t(a,J),a)},l),Z(233,function(a,J,C,D,W,B,X){for(B=(C=(D=(X=qo(21,(W=Q(a),a),127),""),t)(a,194),J=C.length,0);X--;)B=((B|0)+(qo(15,a,127)|0))%J,D+=S[C[B]];Z(W,D,a)},l),Z(79,function(a,J,C,D,W,B){(D=(J=(B=(W=(C=Q(a),Q)(a),Q(a)),t(a,W)),t(a,C)),Z)(B,D[J],a)},l),Z)(62,0,l),Z(37,function(a,J,C,D,W,B,X,f,A,u,w,z,r,K,N,a$,SW,cF){for(z=(w=(N=(u=(a$=(r=(cF=Q(a),X=K=0,function(n,b,H){for(;K<n;)X|=Q(a)<<K,K+=8;return X>>=(b=(H=(1<<n)-1,-(X|0)-(K-=n,2)*~(X|H)-(X&~H)+2*(X|~H)),n),b}),r(3)),(a$&1)-1-~(a$|1)),r(5)),J=0),[]);w<N;w++)W=r(1),z.push(W),J+=W?0:1;for(C=(SW=(B=(-2*(J&1)-~J- -2+2*(J|-2)).toString(2).length,[]),0);C<N;C++)z[C]||(SW[C]=r(B));for(f=0;f<N;f++)z[f]&&(SW[f]=Q(a));for(D=(A=u,[]);A--;)D.push(t(a,Q(a)));Z(cF,function(n,b,H,PF,wa){for(wa=(PF=(b=0,[]),[]);b<N;b++){if(!z[H=SW[b],b]){for(;H>=wa.length;)wa.push(Q(n));H=wa[H]}PF.push(H)}n.l=(n.$=n.za(D.slice(),47),n.za(PF,47))},a)},l),Z(146,function(a,J,C,D,W,B,X,f,A,u){0!==(C=(u=(W=(A=(B=Q(a),Q)(a),Q)(a),D=Q(a),f=t(a.D,B),X=t(a,D),t)(a,W),t(a,A)),f)&&(J=C2(X,2,25,false,u,1,a,f,C),f.addEventListener(C,J,fL),Z(62,[f,C,J],a))},l),Z)(95,function(a){Ej(1,a)},l),Z(145,function(a,J,C,D){if(C=a.P4.pop()){for(D=Q(a);0<D;D--)J=Q(a),C[J]=a.g[J];C[70]=(C[221]=a.g[221],a.g[70]),a.g=C}else Z(49,a.J,a)},l),Z)(16,function(a){a.oX(4)},l),Z(102,[],l),Z)(41,function(a,J){hU((J=t(a,Q(a)),49),a.D,J)},l),0),Z)(137,[0,0,0],l),Z)(225,function(a,J,C){(J=(C=Q(a),t(a,C)),J)[0].removeEventListener(J[1],J[2],false)},l),Z)(73,function(a){a.oX(3)},l),"Submit")),Z(76,function(a){qo(35,4,0,a)},l),Z)(47,function(a,J,C,D,W){for(C=(W=qo((D=Q(a),9),a,127),[]),J=0;J<W;J++)C.push(Q(a));Z(D,C,a)},l),p=window.performance||{},l.P4=[],p.timeOrigin||(p.timing||{}).navigationStart||0),Z)(191,function(a,J,C,D,W,B,X){X=(B=(D=Q(a),Q(a)),Q(a)),a.D==a&&(J=t(a,D),C=t(a,X),W=t(a,B),J[W]=C,161==D&&(a.U=void 0,2==W&&No("number",24,16,3,a)))},l),Z)(124,[106,0,0],l),Z(40,function(a,J,C,D,W,B,X,f,A){I(49,1,a,true,J,false)||(f=wg(a.D,0,1),W=f.KQ,D=f.mv,A=f.Ta,X=f.Y,C=X.length,B=0==C?new A[W]:1==C?new A[W](X[0]):2==C?new A[W](X[0],X[1]):3==C?new A[W](X[0],X[1],X[2]):4==C?new A[W](X[0],X[1],X[2],X[3]):2(),Z(D,B,a))},l),false),Z)(92,function(a,J,C,D,W,B,X,f,A,u,w,z,r,K){if(!I(27,1,a,true,J,true)){if("object"==(D=(r=(K=(W=(X=(f=(A=Q(a),Q(a)),Q)(a),Q(a)),t(a,f)),t(a,A)),B=t(a,W),t(a,X)),Yi)("splice","number",r)){for(w in u=[],r)u.push(w);r=u}for(D=(z=(C=r.length,0),0)<D?D:1;z<C;z+=D)K(r.slice(z,(z|0)+(D|0)),B)}},l),Z(135,P,l),Z)(165,function(a,J,C,D,W,B){B=(J=(W=Q(a),D=Q(a),Q(a)),C=t(a,D),t(a,W)),Z(J,B in C|0,a)},l),Z)(89,function(a,J,C,D,W){J=(D=Q(a),W=Q(a),t(a,D)),C=Yi("splice","number",J),Z(W,C,a)},l),l).X=[],0),l),[LL]),0),l,[Xj,y]),l),[sj,k]),p2)(true,l,true,true,false)},Q=(((M.M=(window.performance||{}).now?function(){return this.CQ+window.performance.now()}:function(){return+new Date},e).prototype.tT=function(l,k,y,c,S,p,a,J){try{c=l[((k|2)-~k+(~k|2))%3],l[k]=(a=(p=l[k],J=l[((k|0)+1)%3],-(p&J)-~(p|J)-(~p&J)+(p|~J))-(c|0),S=1==k?c<<y:c>>>y,2*~(a&S)-~a-~S)}catch(C){throw C;}},M).uI=function(l,k,y,c,S,p,a,J){return h.call(this,13,l,k,y,c,S,p,a,J)},function(l,k,y,c,S,p){if(l.$)return m9(l,l.l);return c=(y=t(l,49),S=y>>3,k=G$(8,49,y,l),l.U!=S>>3&&(l.U=S>>3,p=t(l,161),l.eC=AU(l.U,[0,0,p[1],p[2]],2,l.i,11)),l.eC)[S&l.gg.length],-(k&c)-1-~(k|c)}),q=(e.prototype.Gn=void 0,function(l,k,y,c,S,p,a,J,C){if(l.D==l)for(p=t(l,y),107==y?(a=function(D,W,B,X,f,A){if((X=((W=p.length,W)|0)-4>>3,p.RX)!=X){A=(p.RX=X,X<<3)-(f=[0,0,S[1],S[2]],4);try{p.ic=AU(C2((A|0)+4,8,6,16,p),f,2,C2(A,8,9,16,p),11)}catch(u){throw u;}}p.push((B=p.ic[2*(W|0)-(W|7)-(W^7)+2*(~W&7)],-(B|0)+(D|0)-2*(~B^D)+2*(B|~D)))},S=t(l,137)):a=function(D){p.push(D)},c&&a(-~(c|255)-(c&-256)+(c|-256)),C=k.length,J=0;J<C;J++)a(k[J])}),v=function(l,k,y,c,S){for(c=(S=(l|0)-1,[]);0<=S;S--)c[(l|0)-1-(S|0)]=(y=k>>8*S,-~y-(y&-256)+(~y&255)+(y|-256));return c},Z=(M.a7=function(){return R$.call(this,6)},function(l,k,y){if(49==l||58==l)if(y.g[l])y.g[l][y.G](k);else y.g[l]=y.yG(k);else if(124!=l&&107!=l&&102!=l&&221!=l&&137!=l||!y.g[l])y.g[l]=y.za(k,l);161==l&&No("number",24,8,3,y)}),xi=[],AI=P.requestIdleCallback?function(l){requestIdleCallback(function(){l()},{timeout:4})}:P.setImmediate?function(l){setImmediate(l)}:function(l){setTimeout(l,0)},sj=(e.prototype.H=function(l,k){return l=(k={},{}),function(y,c,S,p,a,J,C,D,W,B,X,f,A,u,w,z,r,K,N,a$,SW,cF,n,b){l=(c=l,k);try{if(C=y[0],C==o$)return c==k?45:97;if(C==Xj){D=y[1];try{for(b=(X=(cF=[],W=0,atob)(D),0);W<X.length;W++)w=X.charCodeAt(W),255<w&&(cF[b++]=512+~(w|255)-(~w^255)+2*(w|-256),w>>=8),cF[b++]=w;Z(161,[0,(this.J=(this.X=cF,this.X.length<<3),0),0],this)}catch(H){RY(17,1,this,H);return}Oj(0,8001,this,22)}else if(C==I$)y[1].push(t(this,102).length,t(this,107).length,t(this,124).length,t(this,70)),Z(32,y[2],this),this.g[181]&&uU(22,49,t(this,181),8001,this);else{if(C==Va){this.D=(J=(n=v(2,(t(this,(K=y[2],124)).length|0)+2),this.D),this);try{N=t(this,221),0<N.length&&q(this,v(2,N.length).concat(N),124,192),q(this,v(1,this.uc),124,167),q(this,v(1,this[Va].length),124),f=0,u=t(this,107),f+=(a=t(this,180),-1-~(a|2047)-(a^2047)),f-=(t(this,124).length|0)+5,4<u.length&&(f-=(u.length|0)+3),0<f&&q(this,v(2,f).concat(this.hc(f)),124,197),4<u.length&&q(this,v(2,u.length).concat(u),124,86)}finally{this.D=J}if(A=(((z=this.hc(2).concat(t(this,124)),z)[1]=(B=z[0],-1+(B&-205)-(B|-205)),z)[3]=z[1]^n[0],z[4]=(p=z[1],a$=n[1],-(p|0)+-2-~(p|a$)-(~p|a$)),this.lc(z)))A="<"+A;else for(S=0,A="";S<z.length;S++)r=z[S][this.G](16),1==r.length&&(r="0"+r),A+=r;return(((t((SW=A,this),102).length=K.shift(),t)(this,107).length=K.shift(),t(this,124)).length=K.shift(),Z)(70,K.shift(),this),SW}if(C==xi)uU(22,49,y[1],y[2],this);else if(C==ki)return uU(22,49,y[1],8001,this)}}finally{l=c}}}(),[]),JI=function(l,k,y,c,S,p,a,J,C,D){if((C=k[0],C)==I$)l.pQ=25,l.H(k);else if(C==Va){S=k[1];try{D=l.h||l.H(k)}catch(W){R("~",30,l,W),D=l.h}S(D)}else if(C==xi)l.H(k);else if(C==Xj)l.H(k);else if(C==sj){try{for(p=0;p<l.H4.length;p++)try{a=l.H4[p],a[0][a[1]](a[y])}catch(W){}}catch(W){}(0,(l.H4=[],k)[1])(function(W,B){l.O9(W,true,B)},function(W){O(22,(W=!l.F.length,0),l,[zd]),W&&p2(true,l,true,false,false)})}else{if(C==ki)return J=k[y],Z(247,k[c],l),Z(32,J,l),l.H(k);C==zd?(l.g=null,l.X=[],l.v4=[]):C==LL&&"loading"===P.document.readyState&&(l.O=function(W,B,X){(B=!(X=function(){B||(B=true,W())},1),P.document).addEventListener("DOMContentLoaded",X,fL),P.addEventListener("load",X,fL)})}},o$=[],G$=function(l,k,y,c){if(y>=c.J)throw[jG,31];return Z(k,-2*~(y|l)+(y&-9)+(~y^l)+(~y|l),c),c.X[y>>3]},wg=function(l,k,y,c,S,p,a,J){for(c=(a=(p=(((S={},J=Q(l),S).mv=Q(l),S).Y=[],l).D==l?(Q(l)|k)-y:1,Q(l)),k);c<p;c++)S.Y.push(Q(l));for(;p--;)S.Y[p]=t(l,S.Y[p]);return S.Ta=t(l,a),S.KQ=t(l,J),S};e.prototype.oX=function(l,k,y,c,S,p){return No.call(this,"number",l,5,k,y,c,S,p)};var Td,KL=function(l,k,y,c,S,p,a,J,C,D){for(;p.F.length;){J=(p.O=null,p.F).pop();try{D=JI(p,J,S,a)}catch(W){R(y,l,p,W)}if(k&&p.O){(C=p.O,C)(function(){p2(true,p,c,c,false)});break}}return D};Td=/./;var rg,Ej=(rg=((e.prototype[sj]=[0,0,1,1,0,1,1],e).prototype.bI=0,e.prototype.lc=function(l,k,y,c,S){return L2.call(this,1,l,7,k,y,c,S)},function(l){return Q(l)^Q(l)}),function(l,k,y,c){(c=(y=Q(k),Q(k)),q)(k,v(l,t(k,y)),c)}),p2=function(l,k,y,c,S,p,a,J){if(k.F.length){(k.d$&&0(),k.d$=l,k).c4=y;try{p=k.M(),k.W4=p,k.Mn=0,k.bc=p,a=KL(22,y,"~",true,2,k,6),J=k.M()-k.W4,k.xK+=J,J<(c?0:10)||0>=k.pQ--||(J=Math.floor(J),k.v4.push(254>=J?J:254))}finally{k.d$=S}return a}},xh=function(l,k){return(k=y5("error",null,"tl"))&&1===l.eval(k.createScript("1"))?function(y){return k.createScript(y)}:function(y){return""+y}}((e.bind&&(rg[e.prototype.G]=Xj.pop.bind(e.prototype[I$]),Td[e.prototype.G]=Xj.pop.bind(e.prototype[I$])),P));(40<(Y=P.watchbell||(P.watchbell={}),Y).m||(Y.m=41,Y.tl=eW,Y.a=f2),Y).ZSL_=function(l,k,y){return[(y=new e(l,k),function(c){return O(9,false,y,c)})]};try{Y.u||(P.addEventListener("unload",function(){},fL),Y.u=1)}catch(l){}try{P.addEventListener("test",null,Object.defineProperty({},"passive",{get:function(){fL={passive:true}}}))}catch(l){};}).call(this);'));}).call(this);</script>
  <script type="text/javascript" nonce="U45oZ3lQE4s+tDUAJaqusg">
  document.bg = new watchbell.tl('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');
  </script>
<script nonce="U45oZ3lQE4s+tDUAJaqusg">
  gaia = window.gaia || {};
  gaia.ps = gaia.ps || {};
  gaia.ps.hasPrefilledIdentifier = false;
  function gaia_parseFragment() {
  var hash = location.hash;
  var params = {};
  if (!hash) {
  return params;
  }
  var paramStrs = decodeURIComponent(hash.substring(1)).split('&');
  for (var i = 0; i < paramStrs.length; i++) {
      var param = paramStrs[i].split('=');
      params[param[0]] = param[1];
    }
    return params;
  }

  function gaia_prefillEmail() {
    var email = null;
    var form = null;
    if (document.getElementById) {
      email = document.getElementById('Email');
      form = document.getElementById('gaia_loginform');
    }
    if (form && email && (email.value == null || email.value == '')
        && (email.type != 'hidden')) {
      hashParams = gaia_parseFragment();
      if (hashParams['Email'] && hashParams['Email'] != '') {
        email.value = hashParams['Email'];
      }
    }
  }

  
  try {
    gaia_prefillEmail();
  } catch (e) {
  }
  
</script>
<script nonce="U45oZ3lQE4s+tDUAJaqusg">
  var gaia_scrollToElement = function(element) {
  var calculateOffsetHeight = function(element) {
  var curtop = 0;
  if (element.offsetParent) {
  while (element) {
  curtop += element.offsetTop;
  element = element.offsetParent;
  }
  }
  return curtop;
  }
  var siginOffsetHeight = calculateOffsetHeight(element);
  var scrollHeight = siginOffsetHeight - window.innerHeight +
  element.clientHeight + 0.02 * window.innerHeight;
  window.scroll(0, scrollHeight);
  }
</script>
<script nonce="U45oZ3lQE4s+tDUAJaqusg">
  if (gaia.ps.hasPrefilledIdentifier) {
  var form = document.getElementById('gaia_loginform');
  if (form) {
  form.submit();
  }
  }
</script>
<script nonce="U45oZ3lQE4s+tDUAJaqusg">
  (function(){
  gaia_onLoginSubmit = function() {
  try {
  gaia.loginAutoRedirect.stop();
  } catch (err) {
  // do not prevent form from being submitted
  }
  try {
  document.bg.low(function(response) {
  document.getElementById('bgresponse').value = response;
  });
  } catch (err) {
  document.getElementById('bgresponse').value = '';
  }
  return true;
  }
  document.getElementById('gaia_loginform').onsubmit = gaia_onLoginSubmit;
  var signinButton = document.getElementById('next');
  gaia_attachEvent(window, 'load', function(){
  gaia_scrollToElement(signinButton);
  });
  })();
</script>
  <script nonce="U45oZ3lQE4s+tDUAJaqusg">var e=this,g=function(b,c){b=b.split(".");var a=e;b[0]in a||!a.execScript||a.execScript("var "+b[0]);for(var d;b.length&&(d=b.shift());)b.length||void 0===c?a[d]?a=a[d]:a=a[d]={}:a[d]=c};var h=function(){try{return new XMLHttpRequest}catch(a){for(var b=["MSXML2.XMLHTTP.6.0","MSXML2.XMLHTTP.3.0","MSXML2.XMLHTTP","Microsoft.XMLHTTP"],c=0;c<b.length;c++)try{return new ActiveXObject(b[c])}catch(d){}}return null};g("gaia.ajax.newXmlHttpRequest",h);var k=function(){this.g=h();this.parameters={}};
k.prototype.send=function(b,c){var a=[],d;for(d in this.parameters)a.push(d+"="+encodeURIComponent(this.parameters[d]));a=a.join("&");var f=this.g;f.open("POST",b,!0);f.setRequestHeader("Content-type","application/x-www-form-urlencoded");f.onreadystatechange=function(){4==f.readyState&&c({status:f.status,text:f.responseText})};f.send(a)};
k.prototype.m=function(b,c,a){var d=this.g;d.open("POST",b,!0);d.setRequestHeader("Content-type","application/json");d.onreadystatechange=function(){4==d.readyState&&a({status:d.status,text:d.responseText})};d.send(c)};k.prototype.get=function(b,c){var a=this.g;a.open("GET",b,!0);a.onreadystatechange=function(){4==a.readyState&&c({status:a.status,text:a.responseText})};a.send()};g("gaia.ajax.XmlHttpFormRequest",k);k.prototype.get=k.prototype.get;k.prototype.sendJson=k.prototype.m;
k.prototype.send=k.prototype.send;var l=/\s*;\s*/,m=function(){if(!document.cookie)return"";for(var b=document.cookie.split(l),c=0;c<b.length;c++){var a=b[c];a=a.replace(/^\s+/,"");a=a.replace(/\s+$/,"");if(0==a.indexOf("APISID="))return a.substr(7)}return""};var n=null,p=function(b,c){this.l=b;this.j=c;this.i=m();this.h=!1},q=function(){var b=n,c=m();c==b.i||b.h||(b.i=c,(new k).get(b.j,function(a){var d=n;a&&a.status&&200==a.status&&"OK"==a.text&&(d.g&&clearInterval(d.g),d.h||(window.location=d.l))}))};p.prototype.start=function(b){if(this.g)return!1;this.g=setInterval(function(){q()},b);return!0};g("gaia.loginAutoRedirect.start",function(b,c,a){if(n||!a||!c||0>=b)return!1;n=new p(c,a);return n.start(b)});
g("gaia.loginAutoRedirect.stop",function(){var b=n;b.h=!0;b.g&&(clearInterval(b.g),b.g=null)});
</script>
  <script type="text/javascript" nonce="U45oZ3lQE4s+tDUAJaqusg">
  gaia.loginAutoRedirect.start(5000,
  'https:\x2F\x2Faccounts.google.com\x2FServiceLogin?continue=https%3A%2F%2Fdrive.google.com%2Ffile%2Fd%2F1LZD7VFUMFGs3tKMTJcU7IgC1Q12uMqvs%2Fview%3Fusp%3Dsharing\x26followup=https%3A%2F%2Fdrive.google.com%2Ffile%2Fd%2F1LZD7VFUMFGs3tKMTJcU7IgC1Q12uMqvs%2Fview%3Fusp%3Dsharing\x26service=wise\x26passive=1209600\x26noautologin=true',
  'https:\x2F\x2Faccounts.google.com\x2FPassiveLoginProber?continue=https%3A%2F%2Fdrive.google.com%2Ffile%2Fd%2F1LZD7VFUMFGs3tKMTJcU7IgC1Q12uMqvs%2Fview%3Fusp%3Dsharing\x26followup=https%3A%2F%2Fdrive.google.com%2Ffile%2Fd%2F1LZD7VFUMFGs3tKMTJcU7IgC1Q12uMqvs%2Fview%3Fusp%3Dsharing\x26service=wise\x26passive=1209600');
  </script>
  </body>
</html>
