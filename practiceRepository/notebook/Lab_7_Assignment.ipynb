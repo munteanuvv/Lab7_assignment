{
  "nbformat": 4,
  "nbformat_minor": 0,
  "metadata": {
    "colab": {
      "name": "Lab_7_Assignment.ipynb",
      "provenance": []
    },
    "kernelspec": {
      "name": "python3",
      "display_name": "Python 3"
    },
    "language_info": {
      "name": "python"
    }
  },
  "cells": [
    {
      "cell_type": "code",
      "source": [
        "%%bash\n",
        "rm -r sample_data"
      ],
      "metadata": {
        "colab": {
          "base_uri": "https://localhost:8080/"
        },
        "id": "bvfKNGjArV-m",
        "outputId": "b70a65df-a78e-4579-9bb7-66e4289e6ee7"
      },
      "execution_count": null,
      "outputs": [
        {
          "output_type": "stream",
          "name": "stderr",
          "text": [
            "rm: cannot remove 'sample_data': No such file or directory\n"
          ]
        }
      ]
    },
    {
      "cell_type": "code",
      "source": [
        "%%bash\n",
        "cat > .gitignore\n",
        ".*\n",
        ".gitignore"
      ],
      "metadata": {
        "id": "p_s5ZHZHCRIc"
      },
      "execution_count": null,
      "outputs": []
    },
    {
      "cell_type": "markdown",
      "source": [
        "### Identity setting"
      ],
      "metadata": {
        "id": "2Jo_EwRtC4aX"
      }
    },
    {
      "cell_type": "code",
      "source": [
        "%%bash\n",
        "git config --global user.email \"viorelmunteanu.md@gmail.com\"\n",
        "git config --global user.name \"Viorel Munteanu\"\n",
        "git config --global core.editor \"notepad\""
      ],
      "metadata": {
        "id": "OWAfJGcGrEaI"
      },
      "execution_count": null,
      "outputs": []
    },
    {
      "cell_type": "markdown",
      "source": [
        "### `/content` conversion into a Git repository"
      ],
      "metadata": {
        "id": "2FeqU06qDDRk"
      }
    },
    {
      "cell_type": "code",
      "source": [
        "%%bash\n",
        "git init"
      ],
      "metadata": {
        "colab": {
          "base_uri": "https://localhost:8080/"
        },
        "id": "XYyyyLnp4Rll",
        "outputId": "95e56cf6-929d-4da1-82b5-ce8f6d145606"
      },
      "execution_count": null,
      "outputs": [
        {
          "output_type": "stream",
          "name": "stdout",
          "text": [
            "Initialized empty Git repository in /content/.git/\n"
          ]
        }
      ]
    },
    {
      "cell_type": "code",
      "source": [
        "%%bash\n",
        "ls -a"
      ],
      "metadata": {
        "colab": {
          "base_uri": "https://localhost:8080/"
        },
        "id": "aIAY0wQU4aOx",
        "outputId": "737801cc-302d-4be6-9d0f-a05e2606541c"
      },
      "execution_count": null,
      "outputs": [
        {
          "output_type": "stream",
          "name": "stdout",
          "text": [
            ".\n",
            "..\n",
            ".git\n",
            ".gitignore\n"
          ]
        }
      ]
    },
    {
      "cell_type": "markdown",
      "source": [
        "### Subdirectories creation"
      ],
      "metadata": {
        "id": "oWQZZOPfDmLF"
      }
    },
    {
      "cell_type": "code",
      "source": [
        "%%bash\n",
        "mkdir practiceRepository\n",
        "cd /content/practiceRepository/\n",
        "touch README.txt"
      ],
      "metadata": {
        "id": "BfdNugRH4ejZ"
      },
      "execution_count": null,
      "outputs": []
    },
    {
      "cell_type": "code",
      "source": [
        "%%bash\n",
        "cd /content/practiceRepository/\n",
        "ls"
      ],
      "metadata": {
        "colab": {
          "base_uri": "https://localhost:8080/"
        },
        "id": "WNr4tJfu5XRh",
        "outputId": "b94c11b9-f129-4da6-c98f-b1a4e2603401"
      },
      "execution_count": null,
      "outputs": [
        {
          "output_type": "stream",
          "name": "stdout",
          "text": [
            "README.txt\n"
          ]
        }
      ]
    },
    {
      "cell_type": "code",
      "source": [
        "%%bash\n",
        "cd /content/practiceRepository/\n",
        "mkdir summarydata notebook figure"
      ],
      "metadata": {
        "id": "9ATdH62A5auN"
      },
      "execution_count": null,
      "outputs": []
    },
    {
      "cell_type": "code",
      "source": [
        "%%bash\n",
        "cd /content/practiceRepository/\n",
        "ls"
      ],
      "metadata": {
        "colab": {
          "base_uri": "https://localhost:8080/"
        },
        "id": "worKAl1K5dsT",
        "outputId": "450d4788-1670-4ce2-c374-65170f551f0e"
      },
      "execution_count": null,
      "outputs": [
        {
          "output_type": "stream",
          "name": "stdout",
          "text": [
            "figure\n",
            "notebook\n",
            "README.txt\n",
            "summarydata\n"
          ]
        }
      ]
    },
    {
      "cell_type": "code",
      "source": [
        "%%bash\n",
        "cd /content/practiceRepository/summarydata/\n",
        "touch README.txt\n",
        "wget -nv -O titanic.csv 'https://raw.githubusercontent.com/mwaskom/seaborn-data/master/titanic.csv'"
      ],
      "metadata": {
        "colab": {
          "base_uri": "https://localhost:8080/"
        },
        "id": "45f0vrCZ5zYH",
        "outputId": "7f87c3df-9229-4756-cb2d-33ec997bdb05"
      },
      "execution_count": null,
      "outputs": [
        {
          "output_type": "stream",
          "name": "stderr",
          "text": [
            "2022-01-23 20:28:16 URL:https://raw.githubusercontent.com/mwaskom/seaborn-data/master/titanic.csv [57018/57018] -> \"titanic.csv\" [1]\n"
          ]
        }
      ]
    },
    {
      "cell_type": "code",
      "source": [
        "%%bash\n",
        "cd /content/practiceRepository/notebook/\n",
        "touch README.txt\n",
        "wget -nv -O USMFLab6.ipynb 'https://drive.google.com/uc?export=download&id=19wo9ccapfQEaJVksM1S0ROtc5UdYOc1n'"
      ],
      "metadata": {
        "colab": {
          "base_uri": "https://localhost:8080/"
        },
        "id": "zOPJQzVT9qOr",
        "outputId": "47393894-dcaf-4e06-bb56-b4976ed229c8"
      },
      "execution_count": null,
      "outputs": [
        {
          "output_type": "stream",
          "name": "stderr",
          "text": [
            "2022-01-23 20:28:19 URL:https://doc-0c-1g-docs.googleusercontent.com/docs/securesc/ha0ro937gcuc7l7deffksulhg5h7mbp1/dgvhfo1gliol16mvms7jdf701oupsmn7/1642969650000/06194299299598647526/*/19wo9ccapfQEaJVksM1S0ROtc5UdYOc1n?e=download [2331828/2331828] -> \"USMFLab6.ipynb\" [1]\n"
          ]
        }
      ]
    },
    {
      "cell_type": "code",
      "source": [
        "%%bash\n",
        "cd /content/practiceRepository/figure/\n",
        "touch README.txt\n",
        "wget -nv -O Figure1.png 'https://drive.google.com/uc?export=download&id=16ILHoAgv97bT8-N7_ilCOfPufwdUd3kg'\n",
        "wget -nv -O Figure2a.png 'https://drive.google.com/uc?export=download&id=1B9i4-hrZBitChHSVg_ObMpqO2zWjMVga'\n",
        "wget -nv -O Figure2b.png 'https://drive.google.com/uc?export=download&id=15zavQkX-coGdHQ4dejqYUdHaDXWVE3yB'\n",
        "wget -nv -O Figure3.png 'https://drive.google.com/uc?export=download&id=1I3_1YYvzBtg_SvT0DZ12oNXmK06UT5yM'\n",
        "wget -nv -O Figure4.png 'https://drive.google.com/uc?export=download&id=1TRMgeR3p9ghxXTK5xpkFbnSjNnw1H2X5'"
      ],
      "metadata": {
        "colab": {
          "base_uri": "https://localhost:8080/"
        },
        "id": "Ng7thGWX9si7",
        "outputId": "417e9148-ee50-4d51-a3f4-ad4fafaa12f8"
      },
      "execution_count": null,
      "outputs": [
        {
          "output_type": "stream",
          "name": "stderr",
          "text": [
            "2022-01-23 20:28:21 URL:https://doc-0c-1g-docs.googleusercontent.com/docs/securesc/ha0ro937gcuc7l7deffksulhg5h7mbp1/hsstifj6qu6trlnnn58sgkulebq8k9ge/1642969650000/06194299299598647526/*/16ILHoAgv97bT8-N7_ilCOfPufwdUd3kg?e=download [23952/23952] -> \"Figure1.png\" [1]\n",
            "2022-01-23 20:28:21 URL:https://doc-00-1g-docs.googleusercontent.com/docs/securesc/ha0ro937gcuc7l7deffksulhg5h7mbp1/vvkbur0ia8n6c3e3tr5i7lqneo7sr70a/1642969650000/06194299299598647526/*/1B9i4-hrZBitChHSVg_ObMpqO2zWjMVga?e=download [67838/67838] -> \"Figure2a.png\" [1]\n",
            "2022-01-23 20:28:22 URL:https://doc-0s-1g-docs.googleusercontent.com/docs/securesc/ha0ro937gcuc7l7deffksulhg5h7mbp1/bf3fn4snphimli2scknkucqvpq1kd9i9/1642969650000/06194299299598647526/*/15zavQkX-coGdHQ4dejqYUdHaDXWVE3yB?e=download [42184/42184] -> \"Figure2b.png\" [1]\n",
            "2022-01-23 20:28:22 URL:https://doc-0s-1g-docs.googleusercontent.com/docs/securesc/ha0ro937gcuc7l7deffksulhg5h7mbp1/do86kqpnildb9lhd1o06dlu4gqlbr8h1/1642969650000/06194299299598647526/*/1I3_1YYvzBtg_SvT0DZ12oNXmK06UT5yM?e=download [50787/50787] -> \"Figure3.png\" [1]\n",
            "2022-01-23 20:28:23 URL:https://doc-00-1g-docs.googleusercontent.com/docs/securesc/ha0ro937gcuc7l7deffksulhg5h7mbp1/37dggke3eqej3lukse448ue9q69hk2il/1642969650000/06194299299598647526/*/1TRMgeR3p9ghxXTK5xpkFbnSjNnw1H2X5?e=download [35948/35948] -> \"Figure4.png\" [1]\n"
          ]
        }
      ]
    },
    {
      "cell_type": "markdown",
      "source": [
        "### Writing/Describing in the `README.txt` file the contents of subdirectories"
      ],
      "metadata": {
        "id": "E2SWJew7DwQf"
      }
    },
    {
      "cell_type": "code",
      "source": [
        "%%bash\n",
        "cd /content/practiceRepository/\n",
        "tree"
      ],
      "metadata": {
        "colab": {
          "base_uri": "https://localhost:8080/"
        },
        "id": "BN53Au4oX3gP",
        "outputId": "1e641f0d-bdf1-4205-d6fe-207a63b3c76d"
      },
      "execution_count": null,
      "outputs": [
        {
          "output_type": "stream",
          "name": "stdout",
          "text": [
            ".\n",
            "├── figure\n",
            "│   ├── Figure1.png\n",
            "│   ├── Figure2a.png\n",
            "│   ├── Figure2b.png\n",
            "│   ├── Figure3.png\n",
            "│   ├── Figure4.png\n",
            "│   └── README.txt\n",
            "├── notebook\n",
            "│   ├── README.txt\n",
            "│   └── USMFLab6.ipynb\n",
            "├── README.txt\n",
            "└── summarydata\n",
            "    ├── README.txt\n",
            "    └── titanic.csv\n",
            "\n",
            "3 directories, 11 files\n"
          ]
        }
      ]
    },
    {
      "cell_type": "code",
      "source": [
        "%%bash\n",
        "cd /content/practiceRepository/\n",
        "cat > README.txt\n",
        "\n",
        "### INTRODUCTION ###\n",
        "\n",
        "This project is my Lab Assignment 7 for Introduction to Git and GitHub Module.\n",
        "The aim of this assignment is to produce an organized GitHub repo from \n",
        "results of our research.\n",
        "\n",
        "### DIRECTORIES AND FILES ###\n",
        "\n",
        "practiceRepository\n",
        "|"
      ],
      "metadata": {
        "id": "84_-x1JAYDtX"
      },
      "execution_count": null,
      "outputs": []
    },
    {
      "cell_type": "code",
      "source": [
        "%%bash\n",
        "cd /content/practiceRepository/\n",
        "tree >> README.txt"
      ],
      "metadata": {
        "id": "kQSG1UkhYDqt"
      },
      "execution_count": null,
      "outputs": []
    },
    {
      "cell_type": "code",
      "source": [
        "%%bash\n",
        "cd /content/practiceRepository/\n",
        "cat >> README.txt\n",
        "\n",
        "   * `figure` folder \n",
        "   contains research figures\n",
        "\n",
        "   * `notebook` folder\n",
        "   contains Google Colab notebooks for Lab 7 Assignment\n",
        "\n",
        "   * `summarydata` folder\n",
        "   contains the 'Titanic' data in *.csv format used to obtain the figures\n",
        "\n",
        "### TECHNOLOGY ###\n",
        "\n",
        "I used the Google Colab to generate the deliverables for Lab 7 Assignment\n",
        "\n",
        "### LAUNCH ###\n",
        "\n",
        "To reproduce the work, download the Lab_7_Assignment.ipynb and run the cells/code\n",
        "\n",
        "### OTHER INFORMATION ###\n",
        "\n",
        "For more information, write to 'viorelmunteanu.md@gmail.com'"
      ],
      "metadata": {
        "id": "xwnD7E00gCn9"
      },
      "execution_count": null,
      "outputs": []
    },
    {
      "cell_type": "markdown",
      "source": [
        "### The other README.txt files"
      ],
      "metadata": {
        "id": "xmxZ7F8KGKvC"
      }
    },
    {
      "cell_type": "code",
      "source": [
        "%%bash\n",
        "cd /content/practiceRepository/summarydata\n",
        "cat > README.txt\n",
        "Titanic dataset in *.csv file"
      ],
      "metadata": {
        "id": "yx3OV6JxGlLG"
      },
      "execution_count": null,
      "outputs": []
    },
    {
      "cell_type": "code",
      "source": [
        "%%bash\n",
        "cd /content/practiceRepository/notebook\n",
        "cat > README.txt\n",
        "1. USMFLab6.ipynb file - contains the instructions and codes to obtain the figures from `figure` file\n",
        "2. Lab_7_Assignment.ipynb - contains the codes for Lab 7 Assignemnt - Introduction to Git and Github"
      ],
      "metadata": {
        "id": "ie8zN2RBGlIg"
      },
      "execution_count": null,
      "outputs": []
    },
    {
      "cell_type": "code",
      "source": [
        "%%bash\n",
        "cd /content/practiceRepository/figure\n",
        "cat > README.txt\n",
        "Final Figures for publication\n",
        " * Figure1. Bar plot - Mean survival rate per Boarding Class\n",
        " * Figure2a. Box plot - Age distribution per Survived status\n",
        " * Figure2b. Violin plot - Age distribution per Survived status\n",
        " * Figure3. Scatter plot - Fare vs Age\n",
        " * Figure4. Heatmap"
      ],
      "metadata": {
        "id": "Iyuu0YclQB-z"
      },
      "execution_count": null,
      "outputs": []
    },
    {
      "cell_type": "markdown",
      "source": [
        "### Commit in the staging area"
      ],
      "metadata": {
        "id": "J0gN3j_rPzV5"
      }
    },
    {
      "cell_type": "code",
      "source": [
        "%%bash\n",
        "git add *\n",
        "git commit -m \"First commit\""
      ],
      "metadata": {
        "colab": {
          "base_uri": "https://localhost:8080/"
        },
        "id": "zvV7pazEPuCl",
        "outputId": "8d70e464-6d72-4203-acdb-db48fe68d7fa"
      },
      "execution_count": null,
      "outputs": [
        {
          "output_type": "stream",
          "name": "stdout",
          "text": [
            "[master (root-commit) 8480aea] First commit\n",
            " 11 files changed, 4177 insertions(+)\n",
            " create mode 100644 practiceRepository/README.txt\n",
            " create mode 100644 practiceRepository/figure/Figure1.png\n",
            " create mode 100644 practiceRepository/figure/Figure2a.png\n",
            " create mode 100644 practiceRepository/figure/Figure2b.png\n",
            " create mode 100644 practiceRepository/figure/Figure3.png\n",
            " create mode 100644 practiceRepository/figure/Figure4.png\n",
            " create mode 100644 practiceRepository/figure/README.txt\n",
            " create mode 100644 practiceRepository/notebook/README.txt\n",
            " create mode 100644 practiceRepository/notebook/USMFLab6.ipynb\n",
            " create mode 100644 practiceRepository/summarydata/README.txt\n",
            " create mode 100644 practiceRepository/summarydata/titanic.csv\n"
          ]
        }
      ]
    },
    {
      "cell_type": "code",
      "source": [
        "%%bash\n",
        "git status"
      ],
      "metadata": {
        "colab": {
          "base_uri": "https://localhost:8080/"
        },
        "id": "qNlUmdkNKoAh",
        "outputId": "8ffbf4ab-5cca-48b4-ce9a-68b3ca257917"
      },
      "execution_count": null,
      "outputs": [
        {
          "output_type": "stream",
          "name": "stdout",
          "text": [
            "On branch master\n",
            "nothing to commit, working tree clean\n"
          ]
        }
      ]
    },
    {
      "cell_type": "code",
      "source": [
        "%%bash\n",
        "git log"
      ],
      "metadata": {
        "colab": {
          "base_uri": "https://localhost:8080/"
        },
        "id": "nf983hOaK0Vn",
        "outputId": "88a17888-7d52-411b-bc15-a4f98d78d382"
      },
      "execution_count": null,
      "outputs": [
        {
          "output_type": "stream",
          "name": "stdout",
          "text": [
            "commit 8480aea77cb2edc3e974d4aea6ca6c1e6d669704\n",
            "Author: Viorel Munteanu <viorelmunteanu.md@gmail.com>\n",
            "Date:   Sun Jan 23 20:29:26 2022 +0000\n",
            "\n",
            "    First commit\n"
          ]
        }
      ]
    },
    {
      "cell_type": "markdown",
      "source": [
        "### Generate a private SSH key"
      ],
      "metadata": {
        "id": "UX7i8rSvN7wP"
      }
    },
    {
      "cell_type": "code",
      "source": [
        "%%bash\n",
        "ssh-keygen -t ed25519 -C 'viorelmunteanu.md@gmail.com' -f ~/.ssh/id_ed25519 -P ''\n",
        "cat > ~/.ssh/config\n",
        "Host *\n",
        "  AddKeysToAgent yes\n",
        "  IdentityFile ~/.ssh/id_ed25519"
      ],
      "metadata": {
        "colab": {
          "base_uri": "https://localhost:8080/"
        },
        "id": "DIHoOa0wK3du",
        "outputId": "c8a6bf10-2be0-4def-84e8-b20b05584e5e"
      },
      "execution_count": null,
      "outputs": [
        {
          "output_type": "stream",
          "name": "stdout",
          "text": [
            "Generating public/private ed25519 key pair.\n",
            "Your identification has been saved in /root/.ssh/id_ed25519.\n",
            "Your public key has been saved in /root/.ssh/id_ed25519.pub.\n",
            "The key fingerprint is:\n",
            "SHA256:uBrwroKEfRg0oVNtnWbjVL8x+B61tgnFTJGgMykNHaA viorelmunteanu.md@gmail.com\n",
            "The key's randomart image is:\n",
            "+--[ED25519 256]--+\n",
            "|  oo .o=o...oo   |\n",
            "| oo o.Bo.= +.    |\n",
            "|o. oE=..B + =    |\n",
            "| ..   .o + * .   |\n",
            "|...o  . S = o    |\n",
            "|..oo.  . . + o   |\n",
            "|o  .o .   . o    |\n",
            "|o  . o           |\n",
            "| ...o            |\n",
            "+----[SHA256]-----+\n"
          ]
        }
      ]
    },
    {
      "cell_type": "code",
      "source": [
        "%%bash\n",
        "eval \"$(ssh-agent -s)\"\n",
        "ssh-add ~/.ssh/id_ed25519"
      ],
      "metadata": {
        "colab": {
          "base_uri": "https://localhost:8080/"
        },
        "id": "3by-pVRKPe1L",
        "outputId": "67e7a1d1-47cb-4672-9dd1-ca63c1570e55"
      },
      "execution_count": null,
      "outputs": [
        {
          "output_type": "stream",
          "name": "stdout",
          "text": [
            "Agent pid 2338\n"
          ]
        },
        {
          "output_type": "stream",
          "name": "stderr",
          "text": [
            "Identity added: /root/.ssh/id_ed25519 (viorelmunteanu.md@gmail.com)\n"
          ]
        }
      ]
    },
    {
      "cell_type": "markdown",
      "source": [
        "### Generate and register a \"keyhole\" (public key)"
      ],
      "metadata": {
        "id": "95KbmSFVOGoy"
      }
    },
    {
      "cell_type": "code",
      "source": [
        "%%bash\n",
        "cat ~/.ssh/id_ed25519.pub"
      ],
      "metadata": {
        "colab": {
          "base_uri": "https://localhost:8080/"
        },
        "id": "PLruA8XHL-2r",
        "outputId": "4b4443f6-459e-4463-d4e5-a7818372955a"
      },
      "execution_count": null,
      "outputs": [
        {
          "output_type": "stream",
          "name": "stdout",
          "text": [
            "ssh-ed25519 AAAAC3NzaC1lZDI1NTE5AAAAIMXbk8/5I5qmZYycEzWHuLi+qX0mVY8eOd0ZteJOoISe viorelmunteanu.md@gmail.com\n"
          ]
        }
      ]
    },
    {
      "cell_type": "code",
      "source": [
        "%%bash\n",
        "ssh -o \"StrictHostKeyChecking no\" -T git@github.com"
      ],
      "metadata": {
        "colab": {
          "base_uri": "https://localhost:8080/"
        },
        "id": "XFX0IGRZNw5Y",
        "outputId": "c91ae4d8-750e-4408-cb55-a55f5bcc9223"
      },
      "execution_count": null,
      "outputs": [
        {
          "output_type": "stream",
          "name": "stderr",
          "text": [
            "Hi munteanuvv! You've successfully authenticated, but GitHub does not provide shell access.\n"
          ]
        }
      ]
    },
    {
      "cell_type": "markdown",
      "source": [
        "### Push the repository to GitHub"
      ],
      "metadata": {
        "id": "qnF9r3tLOWUP"
      }
    },
    {
      "cell_type": "code",
      "source": [
        "%%bash\n",
        "git remote add origin git@github.com:munteanuvv/Lab7_assignment.git\n",
        "git branch -M main\n",
        "git push -u origin main"
      ],
      "metadata": {
        "colab": {
          "base_uri": "https://localhost:8080/"
        },
        "id": "ZC83eOh_PINj",
        "outputId": "a8c0d5c1-c17f-419e-c880-483b88ba05c5"
      },
      "execution_count": null,
      "outputs": [
        {
          "output_type": "stream",
          "name": "stdout",
          "text": [
            "Branch 'main' set up to track remote branch 'main' from 'origin'.\n"
          ]
        },
        {
          "output_type": "stream",
          "name": "stderr",
          "text": [
            "Warning: Permanently added the ECDSA host key for IP address '140.82.112.3' to the list of known hosts.\r\n",
            "To github.com:munteanuvv/Lab7_assignment.git\n",
            " * [new branch]      main -> main\n"
          ]
        }
      ]
    },
    {
      "cell_type": "code",
      "source": [
        "%%bash\n",
        "cd /content/practiceRepository/notebook/\n",
        "wget -nv -O Lab_7_Assignment.ipynb 'https://colab.research.google.com/drive/18kdOHkKbL7u0PcsNSUHgXmmPd9BEH4T7#scrollTo=cco6izbqh4V0'"
      ],
      "metadata": {
        "colab": {
          "base_uri": "https://localhost:8080/"
        },
        "id": "uJotG2OqhbVj",
        "outputId": "3304e9b5-610c-4040-d1d4-175a1ec7b296"
      },
      "execution_count": 43,
      "outputs": [
        {
          "output_type": "stream",
          "name": "stderr",
          "text": [
            "2022-01-23 21:18:24 URL:https://colab.research.google.com/drive/18kdOHkKbL7u0PcsNSUHgXmmPd9BEH4T7 [60874] -> \"Lab_7_Assignment.ipynb\" [1]\n"
          ]
        }
      ]
    },
    {
      "cell_type": "code",
      "source": [
        "%%bash\n",
        "git add *"
      ],
      "metadata": {
        "id": "cco6izbqh4V0"
      },
      "execution_count": 44,
      "outputs": []
    },
    {
      "cell_type": "code",
      "source": [
        "%%bash\n",
        "git commit -m \"Second commit\""
      ],
      "metadata": {
        "colab": {
          "base_uri": "https://localhost:8080/"
        },
        "id": "Lidfe35Eh9rB",
        "outputId": "20dc53bb-32a2-4e98-8847-5165e0ee9be7"
      },
      "execution_count": 45,
      "outputs": [
        {
          "output_type": "stream",
          "name": "stdout",
          "text": [
            "[main bb8bb60] Second commit\n",
            " 2 files changed, 6 insertions(+), 1514 deletions(-)\n",
            " delete mode 100644 practiceRepository/notebook/Lab_7_Assignment_final.ipynb\n"
          ]
        }
      ]
    },
    {
      "cell_type": "code",
      "source": [
        "%%bash\n",
        "git push"
      ],
      "metadata": {
        "colab": {
          "base_uri": "https://localhost:8080/"
        },
        "id": "1xr3f5YrieDH",
        "outputId": "51bdf19b-c71f-449c-bb52-5cc71f09d96b"
      },
      "execution_count": 46,
      "outputs": [
        {
          "output_type": "stream",
          "name": "stderr",
          "text": [
            "To github.com:munteanuvv/Lab7_assignment.git\n",
            "   ea9313f..bb8bb60  main -> main\n"
          ]
        }
      ]
    },
    {
      "cell_type": "markdown",
      "source": [
        "# GitHub link:\n",
        "\n",
        "https://github.com/munteanuvv/Lab7_assignment/tree/main/practiceRepository"
      ],
      "metadata": {
        "id": "dtBi8MCwpAQW"
      }
    }
  ]
}